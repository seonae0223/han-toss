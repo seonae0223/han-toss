{
 "cells": [
  {
   "cell_type": "markdown",
   "id": "c252172f-6187-4e4e-b6f2-99428c0d93a8",
   "metadata": {},
   "source": [
    "## pandas_apply_lambda"
   ]
  },
  {
   "cell_type": "code",
   "execution_count": 1,
   "id": "59dd2de1-fafb-47f4-81c9-779302a7058b",
   "metadata": {},
   "outputs": [
    {
     "name": "stdout",
     "output_type": "stream",
     "text": [
      "      Name  Age  Salary\n",
      "0    Alice   23   70000\n",
      "1      Bob   35   80000\n",
      "2  Charlie   45  120000\n",
      "3    David   28   90000\n",
      "4      Eva   34  110000\n"
     ]
    }
   ],
   "source": [
    "import pandas as pd\n",
    "\n",
    "data = {\n",
    "    'Name': ['Alice', 'Bob', 'Charlie', 'David', 'Eva'],\n",
    "    'Age': [23, 35, 45, 28, 34],\n",
    "    'Salary': [70000, 80000, 120000, 90000, 110000]\n",
    "}\n",
    "\n",
    "df = pd.DataFrame(data)\n",
    "print(df)"
   ]
  },
  {
   "cell_type": "markdown",
   "id": "6e0926ec-7c6d-40d7-b01a-f4064c93d78e",
   "metadata": {},
   "source": [
    "## 문제 1. \n",
    "- 각 연봉을 10%씩 증가"
   ]
  },
  {
   "cell_type": "code",
   "execution_count": 6,
   "id": "59c78e73-ccee-4d7c-9069-71dcd5cc9037",
   "metadata": {},
   "outputs": [
    {
     "name": "stdout",
     "output_type": "stream",
     "text": [
      "      Name  Age    Salary\n",
      "0    Alice   23   93170.0\n",
      "1      Bob   35  106480.0\n",
      "2  Charlie   45  159720.0\n",
      "3    David   28  119790.0\n",
      "4      Eva   34  146410.0\n"
     ]
    }
   ],
   "source": [
    "df['Salary'] = df['Salary'].apply(lambda x: x * 1.1)\n",
    "print(df)"
   ]
  },
  {
   "cell_type": "markdown",
   "id": "905acf19-a656-431f-92d3-2829be17c3db",
   "metadata": {},
   "source": [
    "## 문제 2. \n",
    "- 사람들을 나이 기준으로 범주화"
   ]
  },
  {
   "cell_type": "code",
   "execution_count": 8,
   "id": "7b6706a5-eaa0-4294-97f7-006341cf1813",
   "metadata": {},
   "outputs": [
    {
     "name": "stdout",
     "output_type": "stream",
     "text": [
      "      Name  Age    Salary Age Group\n",
      "0    Alice   23   93170.0     Young\n",
      "1      Bob   35  106480.0       Old\n",
      "2  Charlie   45  159720.0       Old\n",
      "3    David   28  119790.0     Young\n",
      "4      Eva   34  146410.0       Old\n"
     ]
    }
   ],
   "source": [
    "df['Age Group'] = df['Age'].apply(lambda x: 'Young' if x < 30 else 'Old')\n",
    "print(df)"
   ]
  },
  {
   "cell_type": "markdown",
   "id": "31fedd52-0bb1-4325-b724-33bcf4df87fe",
   "metadata": {},
   "source": [
    "## 문제 3. \n",
    "- Age와 Salary의 곱을 계산하여 Age_Salary로 계산"
   ]
  },
  {
   "cell_type": "code",
   "execution_count": 9,
   "id": "5439258d-0fc4-4f9e-af9d-ef3aee3b7b29",
   "metadata": {},
   "outputs": [
    {
     "name": "stdout",
     "output_type": "stream",
     "text": [
      "      Name  Age    Salary Age Group  Age_Salary\n",
      "0    Alice   23   93170.0     Young   2142910.0\n",
      "1      Bob   35  106480.0       Old   3726800.0\n",
      "2  Charlie   45  159720.0       Old   7187400.0\n",
      "3    David   28  119790.0     Young   3354120.0\n",
      "4      Eva   34  146410.0       Old   4977940.0\n"
     ]
    }
   ],
   "source": [
    "df['Age_Salary'] = df.apply(lambda row: row['Age'] * row['Salary'], axis=1)\n",
    "print(df)"
   ]
  },
  {
   "cell_type": "markdown",
   "id": "7675e250-52d4-4670-878b-9144ecb149ad",
   "metadata": {},
   "source": [
    "## 문제 4. \n",
    "- 각 이름의 첫 글자를 추출"
   ]
  },
  {
   "cell_type": "code",
   "execution_count": 10,
   "id": "31307a6b-fa7e-4a5b-a1d7-707e0f0cf5a8",
   "metadata": {},
   "outputs": [
    {
     "name": "stdout",
     "output_type": "stream",
     "text": [
      "      Name  Age    Salary Age Group  Age_Salary Initial\n",
      "0    Alice   23   93170.0     Young   2142910.0       A\n",
      "1      Bob   35  106480.0       Old   3726800.0       B\n",
      "2  Charlie   45  159720.0       Old   7187400.0       C\n",
      "3    David   28  119790.0     Young   3354120.0       D\n",
      "4      Eva   34  146410.0       Old   4977940.0       E\n"
     ]
    }
   ],
   "source": [
    "df['Initial'] = df['Name'].apply(lambda x: x[0])\n",
    "print(df)"
   ]
  },
  {
   "cell_type": "markdown",
   "id": "5961f49a-abe4-4927-9706-708ea55d2631",
   "metadata": {},
   "source": [
    "## 문제 5. \n",
    "- 함수를 정의하고 apply와 함께 사용"
   ]
  },
  {
   "cell_type": "code",
   "execution_count": 12,
   "id": "123d2097-d669-4580-a8e3-3e162f3ff786",
   "metadata": {},
   "outputs": [
    {
     "name": "stdout",
     "output_type": "stream",
     "text": [
      "      Name  Age    Salary Age Group  Age_Salary Initial Salary Category\n",
      "0    Alice   23   93170.0     Young   2142910.0       A             Low\n",
      "1      Bob   35  106480.0       Old   3726800.0       B            High\n",
      "2  Charlie   45  159720.0       Old   7187400.0       C            High\n",
      "3    David   28  119790.0     Young   3354120.0       D            High\n",
      "4      Eva   34  146410.0       Old   4977940.0       E            High\n"
     ]
    }
   ],
   "source": [
    "def categorize_salary(salary):\n",
    "    if salary > 100000:\n",
    "        return 'High'\n",
    "    else:\n",
    "        return 'Low'\n",
    "\n",
    "df['Salary Category'] = df['Salary'].apply(lambda x: categorize_salary(x))\n",
    "print(df)"
   ]
  },
  {
   "cell_type": "markdown",
   "id": "c6ebe2b0-b1d6-4bf3-be77-0fbad4dfaa41",
   "metadata": {},
   "source": [
    "## 문제 6. \n",
    "- 나이가 30이상이면 연봉에 보너스 추가 보너스 비율 0.5%"
   ]
  },
  {
   "cell_type": "code",
   "execution_count": 18,
   "id": "39cf7e75-fe93-4c09-9e97-756ee6c11569",
   "metadata": {},
   "outputs": [
    {
     "name": "stdout",
     "output_type": "stream",
     "text": [
      "      Name  Age    Salary Age Group  Age_Salary Initial Salary Category  \\\n",
      "0    Alice   23   93170.0     Young   2142910.0       A             Low   \n",
      "1      Bob   35  106480.0       Old   3726800.0       B            High   \n",
      "2  Charlie   45  159720.0       Old   7187400.0       C            High   \n",
      "3    David   28  119790.0     Young   3354120.0       D            High   \n",
      "4      Eva   34  146410.0       Old   4977940.0       E            High   \n",
      "\n",
      "   Bonus Salary  Average_Age_Salary  \n",
      "0       93170.0            139755.0  \n",
      "1       53240.0            133100.0  \n",
      "2       79860.0            199650.0  \n",
      "3      119790.0            179685.0  \n",
      "4       73205.0            183012.5  \n"
     ]
    }
   ],
   "source": [
    "df['Bonus Salary'] = df.apply(lambda row: row['Salary'] * 0.5 if row['Age'] > 30 else row['Salary'], axis=1)\n",
    "print(df)"
   ]
  },
  {
   "cell_type": "markdown",
   "id": "aff18745-47a3-46bf-a6bd-d561916d46ca",
   "metadata": {},
   "source": [
    "## 문제 7. \n",
    "- Salary + Bonus Salary의 평균을 계산. "
   ]
  },
  {
   "cell_type": "code",
   "execution_count": 19,
   "id": "f9a68faa-7376-43cb-bb02-c07afae9e052",
   "metadata": {},
   "outputs": [
    {
     "name": "stdout",
     "output_type": "stream",
     "text": [
      "      Name  Age    Salary Age Group  Age_Salary Initial Salary Category  \\\n",
      "0    Alice   23   93170.0     Young   2142910.0       A             Low   \n",
      "1      Bob   35  106480.0       Old   3726800.0       B            High   \n",
      "2  Charlie   45  159720.0       Old   7187400.0       C            High   \n",
      "3    David   28  119790.0     Young   3354120.0       D            High   \n",
      "4      Eva   34  146410.0       Old   4977940.0       E            High   \n",
      "\n",
      "   Bonus Salary  Average_Age_Salary  \n",
      "0       93170.0            139755.0  \n",
      "1       53240.0            133100.0  \n",
      "2       79860.0            199650.0  \n",
      "3      119790.0            179685.0  \n",
      "4       73205.0            183012.5  \n"
     ]
    }
   ],
   "source": [
    "df['Average_Age_Salary'] = df.apply(lambda row: (row['Salary'] + row['Bonus Salary'] / 2), axis=1)\n",
    "print(df)"
   ]
  }
 ],
 "metadata": {
  "kernelspec": {
   "display_name": "Python 3 (ipykernel)",
   "language": "python",
   "name": "python3"
  },
  "language_info": {
   "codemirror_mode": {
    "name": "ipython",
    "version": 3
   },
   "file_extension": ".py",
   "mimetype": "text/x-python",
   "name": "python",
   "nbconvert_exporter": "python",
   "pygments_lexer": "ipython3",
   "version": "3.11.7"
  }
 },
 "nbformat": 4,
 "nbformat_minor": 5
}
