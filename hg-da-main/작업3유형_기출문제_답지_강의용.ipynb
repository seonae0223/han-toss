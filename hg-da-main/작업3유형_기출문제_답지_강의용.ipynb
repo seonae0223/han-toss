{
 "cells": [
  {
   "cell_type": "markdown",
   "metadata": {
    "id": "BRVrPA3WfjYN"
   },
   "source": [
    "# 빅데이터 분석기사 도움말 활용팁"
   ]
  },
  {
   "cell_type": "code",
   "execution_count": 1,
   "metadata": {
    "colab": {
     "base_uri": "https://localhost:8080/",
     "height": 148
    },
    "executionInfo": {
     "elapsed": 2,
     "status": "ok",
     "timestamp": 1718947139941,
     "user": {
      "displayName": "Ji-hoon Jung",
      "userId": "03169308685755834042"
     },
     "user_tz": -540
    },
    "id": "r3qfl5zUSgYg",
    "outputId": "e40c6033-e45e-4441-b430-4edc3833d22f"
   },
   "outputs": [
    {
     "data": {
      "text/plain": [
       "'BootstrapMethod,CensoredData,ConstantInputWarning,Covariance,DegenerateDataWarning,FitError,MonteCarloMethod,NearConstantInputWarning,PermutationMethod,__all__,__builtins__,__cached__,__doc__,__file__,__loader__,__name__,__package__,__path__,__spec__,_ansari_swilk_statistics,_axis_nan_policy,_biasedurn,_binned_statistic,_binomtest,_bws_test,_censored_data,_common,_constants,_continuous_distns,_covariance,_crosstab,_discrete_distns,_distn_infrastructure,_distr_params,_entropy,_fit,_hypotests,_kde,_ksstats,_levy_stable,_mannwhitneyu,_mgc,_morestats,_mstats_basic,_mstats_extras,_multicomp,_multivariate,_mvn,_odds_ratio,_page_trend_test,_qmc,_qmc_cy,_qmvnt,_rcont,_relative_risk,_resampling,_rvs_sampling,_sampling,_sensitivity_analysis,_sobol,_stats,_stats_mstats_common,_stats_py,_stats_pythran,_survival,_tukeylambda_stats,_unuran,_variation,_warnings_errors,_wilcoxon,alexandergovern,alpha,anderson,anderson_ksamp,anglit,ansari,arcsine,argus,barnard_exact,bartlett,bayes_mvs,bernoulli,beta,betabinom,betanbinom,betaprime,biasedurn,binned_statistic,binned_statistic_2d,binned_statistic_dd,binom,binomtest,boltzmann,bootstrap,boschloo_exact,boxcox,boxcox_llf,boxcox_normmax,boxcox_normplot,bradford,brunnermunzel,burr,burr12,bws_test,cauchy,chi,chi2,chi2_contingency,chisquare,circmean,circstd,circvar,combine_pvalues,contingency,cosine,cramervonmises,cramervonmises_2samp,crystalball,cumfreq,describe,dgamma,differential_entropy,directional_stats,dirichlet,dirichlet_multinomial,distributions,dlaplace,dunnett,dweibull,ecdf,energy_distance,entropy,epps_singleton_2samp,erlang,expectile,expon,exponnorm,exponpow,exponweib,f,f_oneway,false_discovery_control,fatiguelife,find_repeats,fisher_exact,fisk,fit,fligner,foldcauchy,foldnorm,friedmanchisquare,gamma,gausshyper,gaussian_kde,genexpon,genextreme,gengamma,genhalflogistic,genhyperbolic,geninvgauss,genlogistic,gennorm,genpareto,geom,gibrat,gmean,gompertz,goodness_of_fit,gstd,gumbel_l,gumbel_r,gzscore,halfcauchy,halfgennorm,halflogistic,halfnorm,hmean,hypergeom,hypsecant,invgamma,invgauss,invweibull,invwishart,iqr,irwinhall,jarque_bera,jf_skew_t,johnsonsb,johnsonsu,kappa3,kappa4,kde,kendalltau,kruskal,ks_1samp,ks_2samp,ksone,kstat,kstatvar,kstest,kstwo,kstwobign,kurtosis,kurtosistest,laplace,laplace_asymmetric,levene,levy,levy_l,levy_stable,linregress,loggamma,logistic,loglaplace,lognorm,logrank,logser,loguniform,lomax,mannwhitneyu,matrix_normal,maxwell,median_abs_deviation,median_test,mielke,mode,moment,monte_carlo_test,mood,morestats,moyal,mstats,mstats_basic,mstats_extras,multinomial,multiscale_graphcorr,multivariate_hypergeom,multivariate_normal,multivariate_t,mvn,mvsdist,nakagami,nbinom,ncf,nchypergeom_fisher,nchypergeom_wallenius,nct,ncx2,nhypergeom,norm,normaltest,norminvgauss,obrientransform,ortho_group,page_trend_test,pareto,pearson3,pearsonr,percentileofscore,permutation_test,planck,pmean,pointbiserialr,poisson,poisson_means_test,power,power_divergence,powerlaw,powerlognorm,powernorm,ppcc_max,ppcc_plot,probplot,qmc,quantile_test,randint,random_correlation,random_table,rankdata,ranksums,rayleigh,rdist,recipinvgauss,reciprocal,rel_breitwigner,relfreq,rice,rv_continuous,rv_discrete,rv_histogram,rvs_ratio_uniforms,sampling,scoreatpercentile,sem,semicircular,shapiro,siegelslopes,sigmaclip,skellam,skew,skewcauchy,skewnorm,skewtest,sobol_indices,somersd,spearmanr,special_ortho_group,stats,studentized_range,t,test,theilslopes,tiecorrect,tmax,tmean,tmin,trapezoid,trapz,triang,trim1,trim_mean,trimboth,truncexpon,truncnorm,truncpareto,truncweibull_min,tsem,tstd,ttest_1samp,ttest_ind,ttest_ind_from_stats,ttest_rel,tukey_hsd,tukeylambda,tvar,uniform,uniform_direction,unitary_group,variation,vonmises,vonmises_fisher,vonmises_line,wald,wasserstein_distance,wasserstein_distance_nd,weibull_max,weibull_min,weightedtau,wilcoxon,wishart,wrapcauchy,yeojohnson,yeojohnson_llf,yeojohnson_normmax,yeojohnson_normplot,yulesimon,zipf,zipfian,zmap,zscore'"
      ]
     },
     "execution_count": 1,
     "metadata": {},
     "output_type": "execute_result"
    }
   ],
   "source": [
    "import scipy\n",
    "\",\".join(dir(scipy.stats))"
   ]
  },
  {
   "cell_type": "markdown",
   "metadata": {
    "id": "FbWSKBguS5IO"
   },
   "source": [
    "- 설명서"
   ]
  },
  {
   "cell_type": "code",
   "execution_count": 2,
   "metadata": {
    "colab": {
     "base_uri": "https://localhost:8080/"
    },
    "executionInfo": {
     "elapsed": 628,
     "status": "ok",
     "timestamp": 1718947141173,
     "user": {
      "displayName": "Ji-hoon Jung",
      "userId": "03169308685755834042"
     },
     "user_tz": -540
    },
    "id": "OnkS0tQxS6wH",
    "outputId": "77f390b7-188c-4c14-da0e-8c468394747e"
   },
   "outputs": [
    {
     "name": "stdout",
     "output_type": "stream",
     "text": [
      "Help on function chi2_contingency in module scipy.stats.contingency:\n",
      "\n",
      "chi2_contingency(observed, correction=True, lambda_=None)\n",
      "    Chi-square test of independence of variables in a contingency table.\n",
      "    \n",
      "    This function computes the chi-square statistic and p-value for the\n",
      "    hypothesis test of independence of the observed frequencies in the\n",
      "    contingency table [1]_ `observed`.  The expected frequencies are computed\n",
      "    based on the marginal sums under the assumption of independence; see\n",
      "    `scipy.stats.contingency.expected_freq`.  The number of degrees of\n",
      "    freedom is (expressed using numpy functions and attributes)::\n",
      "    \n",
      "        dof = observed.size - sum(observed.shape) + observed.ndim - 1\n",
      "    \n",
      "    \n",
      "    Parameters\n",
      "    ----------\n",
      "    observed : array_like\n",
      "        The contingency table. The table contains the observed frequencies\n",
      "        (i.e. number of occurrences) in each category.  In the two-dimensional\n",
      "        case, the table is often described as an \"R x C table\".\n",
      "    correction : bool, optional\n",
      "        If True, *and* the degrees of freedom is 1, apply Yates' correction\n",
      "        for continuity.  The effect of the correction is to adjust each\n",
      "        observed value by 0.5 towards the corresponding expected value.\n",
      "    lambda_ : float or str, optional\n",
      "        By default, the statistic computed in this test is Pearson's\n",
      "        chi-squared statistic [2]_.  `lambda_` allows a statistic from the\n",
      "        Cressie-Read power divergence family [3]_ to be used instead.  See\n",
      "        `scipy.stats.power_divergence` for details.\n",
      "    \n",
      "    Returns\n",
      "    -------\n",
      "    res : Chi2ContingencyResult\n",
      "        An object containing attributes:\n",
      "    \n",
      "        statistic : float\n",
      "            The test statistic.\n",
      "        pvalue : float\n",
      "            The p-value of the test.\n",
      "        dof : int\n",
      "            The degrees of freedom.\n",
      "        expected_freq : ndarray, same shape as `observed`\n",
      "            The expected frequencies, based on the marginal sums of the table.\n",
      "    \n",
      "    See Also\n",
      "    --------\n",
      "    scipy.stats.contingency.expected_freq\n",
      "    scipy.stats.fisher_exact\n",
      "    scipy.stats.chisquare\n",
      "    scipy.stats.power_divergence\n",
      "    scipy.stats.barnard_exact\n",
      "    scipy.stats.boschloo_exact\n",
      "    \n",
      "    Notes\n",
      "    -----\n",
      "    An often quoted guideline for the validity of this calculation is that\n",
      "    the test should be used only if the observed and expected frequencies\n",
      "    in each cell are at least 5.\n",
      "    \n",
      "    This is a test for the independence of different categories of a\n",
      "    population. The test is only meaningful when the dimension of\n",
      "    `observed` is two or more.  Applying the test to a one-dimensional\n",
      "    table will always result in `expected` equal to `observed` and a\n",
      "    chi-square statistic equal to 0.\n",
      "    \n",
      "    This function does not handle masked arrays, because the calculation\n",
      "    does not make sense with missing values.\n",
      "    \n",
      "    Like `scipy.stats.chisquare`, this function computes a chi-square\n",
      "    statistic; the convenience this function provides is to figure out the\n",
      "    expected frequencies and degrees of freedom from the given contingency\n",
      "    table. If these were already known, and if the Yates' correction was not\n",
      "    required, one could use `scipy.stats.chisquare`.  That is, if one calls::\n",
      "    \n",
      "        res = chi2_contingency(obs, correction=False)\n",
      "    \n",
      "    then the following is true::\n",
      "    \n",
      "        (res.statistic, res.pvalue) == stats.chisquare(obs.ravel(),\n",
      "                                                       f_exp=ex.ravel(),\n",
      "                                                       ddof=obs.size - 1 - dof)\n",
      "    \n",
      "    The `lambda_` argument was added in version 0.13.0 of scipy.\n",
      "    \n",
      "    References\n",
      "    ----------\n",
      "    .. [1] \"Contingency table\",\n",
      "           https://en.wikipedia.org/wiki/Contingency_table\n",
      "    .. [2] \"Pearson's chi-squared test\",\n",
      "           https://en.wikipedia.org/wiki/Pearson%27s_chi-squared_test\n",
      "    .. [3] Cressie, N. and Read, T. R. C., \"Multinomial Goodness-of-Fit\n",
      "           Tests\", J. Royal Stat. Soc. Series B, Vol. 46, No. 3 (1984),\n",
      "           pp. 440-464.\n",
      "    .. [4] Berger, Jeffrey S. et al. \"Aspirin for the Primary Prevention of\n",
      "           Cardiovascular Events in Women and Men: A Sex-Specific\n",
      "           Meta-analysis of Randomized Controlled Trials.\"\n",
      "           JAMA, 295(3):306-313, :doi:`10.1001/jama.295.3.306`, 2006.\n",
      "    \n",
      "    Examples\n",
      "    --------\n",
      "    In [4]_, the use of aspirin to prevent cardiovascular events in women\n",
      "    and men was investigated. The study notably concluded:\n",
      "    \n",
      "        ...aspirin therapy reduced the risk of a composite of\n",
      "        cardiovascular events due to its effect on reducing the risk of\n",
      "        ischemic stroke in women [...]\n",
      "    \n",
      "    The article lists studies of various cardiovascular events. Let's\n",
      "    focus on the ischemic stoke in women.\n",
      "    \n",
      "    The following table summarizes the results of the experiment in which\n",
      "    participants took aspirin or a placebo on a regular basis for several\n",
      "    years. Cases of ischemic stroke were recorded::\n",
      "    \n",
      "                          Aspirin   Control/Placebo\n",
      "        Ischemic stroke     176           230\n",
      "        No stroke         21035         21018\n",
      "    \n",
      "    Is there evidence that the aspirin reduces the risk of ischemic stroke?\n",
      "    We begin by formulating a null hypothesis :math:`H_0`:\n",
      "    \n",
      "        The effect of aspirin is equivalent to that of placebo.\n",
      "    \n",
      "    Let's assess the plausibility of this hypothesis with\n",
      "    a chi-square test.\n",
      "    \n",
      "    >>> import numpy as np\n",
      "    >>> from scipy.stats import chi2_contingency\n",
      "    >>> table = np.array([[176, 230], [21035, 21018]])\n",
      "    >>> res = chi2_contingency(table)\n",
      "    >>> res.statistic\n",
      "    6.892569132546561\n",
      "    >>> res.pvalue\n",
      "    0.008655478161175739\n",
      "    \n",
      "    Using a significance level of 5%, we would reject the null hypothesis in\n",
      "    favor of the alternative hypothesis: \"the effect of aspirin\n",
      "    is not equivalent to the effect of placebo\".\n",
      "    Because `scipy.stats.contingency.chi2_contingency` performs a two-sided\n",
      "    test, the alternative hypothesis does not indicate the direction of the\n",
      "    effect. We can use `stats.contingency.odds_ratio` to support the\n",
      "    conclusion that aspirin *reduces* the risk of ischemic stroke.\n",
      "    \n",
      "    Below are further examples showing how larger contingency tables can be\n",
      "    tested.\n",
      "    \n",
      "    A two-way example (2 x 3):\n",
      "    \n",
      "    >>> obs = np.array([[10, 10, 20], [20, 20, 20]])\n",
      "    >>> res = chi2_contingency(obs)\n",
      "    >>> res.statistic\n",
      "    2.7777777777777777\n",
      "    >>> res.pvalue\n",
      "    0.24935220877729619\n",
      "    >>> res.dof\n",
      "    2\n",
      "    >>> res.expected_freq\n",
      "    array([[ 12.,  12.,  16.],\n",
      "           [ 18.,  18.,  24.]])\n",
      "    \n",
      "    Perform the test using the log-likelihood ratio (i.e. the \"G-test\")\n",
      "    instead of Pearson's chi-squared statistic.\n",
      "    \n",
      "    >>> res = chi2_contingency(obs, lambda_=\"log-likelihood\")\n",
      "    >>> res.statistic\n",
      "    2.7688587616781319\n",
      "    >>> res.pvalue\n",
      "    0.25046668010954165\n",
      "    \n",
      "    A four-way example (2 x 2 x 2 x 2):\n",
      "    \n",
      "    >>> obs = np.array(\n",
      "    ...     [[[[12, 17],\n",
      "    ...        [11, 16]],\n",
      "    ...       [[11, 12],\n",
      "    ...        [15, 16]]],\n",
      "    ...      [[[23, 15],\n",
      "    ...        [30, 22]],\n",
      "    ...       [[14, 17],\n",
      "    ...        [15, 16]]]])\n",
      "    >>> res = chi2_contingency(obs)\n",
      "    >>> res.statistic\n",
      "    8.7584514426741897\n",
      "    >>> res.pvalue\n",
      "    0.64417725029295503\n",
      "\n"
     ]
    }
   ],
   "source": [
    "help(scipy.stats.chi2_contingency)"
   ]
  },
  {
   "cell_type": "markdown",
   "metadata": {
    "id": "WNa9GMFZf_DC"
   },
   "source": [
    "# 6회 기출문제 응용"
   ]
  },
  {
   "cell_type": "markdown",
   "metadata": {
    "id": "J6o8zU9sOa2h"
   },
   "source": [
    "## Section 1 응용\n",
    "- tips 데이터셋 활용한 적합성 검정\n",
    "- 정해진 비율의 차이가 실제로 존재하는지 확인하는 코드"
   ]
  },
  {
   "cell_type": "code",
   "execution_count": 3,
   "metadata": {
    "colab": {
     "base_uri": "https://localhost:8080/",
     "height": 80
    },
    "executionInfo": {
     "elapsed": 13,
     "status": "ok",
     "timestamp": 1718947141173,
     "user": {
      "displayName": "Ji-hoon Jung",
      "userId": "03169308685755834042"
     },
     "user_tz": -540
    },
    "id": "TiqqfLiyPPXK",
    "outputId": "9d78ba0f-d007-4504-b202-2fe6336877d1"
   },
   "outputs": [
    {
     "data": {
      "text/html": [
       "<div>\n",
       "<style scoped>\n",
       "    .dataframe tbody tr th:only-of-type {\n",
       "        vertical-align: middle;\n",
       "    }\n",
       "\n",
       "    .dataframe tbody tr th {\n",
       "        vertical-align: top;\n",
       "    }\n",
       "\n",
       "    .dataframe thead th {\n",
       "        text-align: right;\n",
       "    }\n",
       "</style>\n",
       "<table border=\"1\" class=\"dataframe\">\n",
       "  <thead>\n",
       "    <tr style=\"text-align: right;\">\n",
       "      <th></th>\n",
       "      <th>total_bill</th>\n",
       "      <th>tip</th>\n",
       "      <th>sex</th>\n",
       "      <th>smoker</th>\n",
       "      <th>day</th>\n",
       "      <th>time</th>\n",
       "      <th>size</th>\n",
       "    </tr>\n",
       "  </thead>\n",
       "  <tbody>\n",
       "    <tr>\n",
       "      <th>0</th>\n",
       "      <td>16.99</td>\n",
       "      <td>1.01</td>\n",
       "      <td>Female</td>\n",
       "      <td>No</td>\n",
       "      <td>Sun</td>\n",
       "      <td>Dinner</td>\n",
       "      <td>2</td>\n",
       "    </tr>\n",
       "  </tbody>\n",
       "</table>\n",
       "</div>"
      ],
      "text/plain": [
       "   total_bill   tip     sex smoker  day    time  size\n",
       "0       16.99  1.01  Female     No  Sun  Dinner     2"
      ]
     },
     "execution_count": 3,
     "metadata": {},
     "output_type": "execute_result"
    }
   ],
   "source": [
    "import seaborn as sns\n",
    "tips = sns.load_dataset(\"tips\")\n",
    "tips.head(1)"
   ]
  },
  {
   "cell_type": "markdown",
   "metadata": {
    "id": "bftNacCtP3UZ"
   },
   "source": [
    "### 문제1\n",
    "- 문제 : Smoker가 'Yes'으로 분류된 남성과 여성의 비율을 소수점 이하 둘째 자리까지 출력하시오."
   ]
  },
  {
   "cell_type": "code",
   "execution_count": 4,
   "metadata": {
    "colab": {
     "base_uri": "https://localhost:8080/",
     "height": 143
    },
    "executionInfo": {
     "elapsed": 452,
     "status": "ok",
     "timestamp": 1718956997776,
     "user": {
      "displayName": "Ji-hoon Jung",
      "userId": "03169308685755834042"
     },
     "user_tz": -540
    },
    "id": "9AkcUr-LPzA0",
    "outputId": "aa4b18c5-562f-48d0-a4dd-e786954d33b3"
   },
   "outputs": [
    {
     "name": "stderr",
     "output_type": "stream",
     "text": [
      "C:\\Users\\user\\AppData\\Local\\Temp\\ipykernel_10940\\1249548499.py:2: FutureWarning: The default of observed=False is deprecated and will be changed to True in a future version of pandas. Pass observed=False to retain current behavior or observed=True to adopt the future default and silence this warning.\n",
      "  tips.groupby('sex')['smoker'].value_counts().unstack()\n"
     ]
    },
    {
     "data": {
      "text/html": [
       "<div>\n",
       "<style scoped>\n",
       "    .dataframe tbody tr th:only-of-type {\n",
       "        vertical-align: middle;\n",
       "    }\n",
       "\n",
       "    .dataframe tbody tr th {\n",
       "        vertical-align: top;\n",
       "    }\n",
       "\n",
       "    .dataframe thead th {\n",
       "        text-align: right;\n",
       "    }\n",
       "</style>\n",
       "<table border=\"1\" class=\"dataframe\">\n",
       "  <thead>\n",
       "    <tr style=\"text-align: right;\">\n",
       "      <th>smoker</th>\n",
       "      <th>Yes</th>\n",
       "      <th>No</th>\n",
       "    </tr>\n",
       "    <tr>\n",
       "      <th>sex</th>\n",
       "      <th></th>\n",
       "      <th></th>\n",
       "    </tr>\n",
       "  </thead>\n",
       "  <tbody>\n",
       "    <tr>\n",
       "      <th>Male</th>\n",
       "      <td>60</td>\n",
       "      <td>97</td>\n",
       "    </tr>\n",
       "    <tr>\n",
       "      <th>Female</th>\n",
       "      <td>33</td>\n",
       "      <td>54</td>\n",
       "    </tr>\n",
       "  </tbody>\n",
       "</table>\n",
       "</div>"
      ],
      "text/plain": [
       "smoker  Yes  No\n",
       "sex            \n",
       "Male     60  97\n",
       "Female   33  54"
      ]
     },
     "execution_count": 4,
     "metadata": {},
     "output_type": "execute_result"
    }
   ],
   "source": [
    "import pandas as pd\n",
    "tips.groupby('sex')['smoker'].value_counts().unstack()"
   ]
  },
  {
   "cell_type": "code",
   "execution_count": null,
   "metadata": {
    "colab": {
     "base_uri": "https://localhost:8080/",
     "height": 143
    },
    "executionInfo": {
     "elapsed": 2,
     "status": "ok",
     "timestamp": 1718957012573,
     "user": {
      "displayName": "Ji-hoon Jung",
      "userId": "03169308685755834042"
     },
     "user_tz": -540
    },
    "id": "ZutD0Ok-QJL6",
    "outputId": "1af009c6-15c9-4ca9-8a94-20931e63933a"
   },
   "outputs": [
    {
     "data": {
      "application/vnd.google.colaboratory.intrinsic+json": {
       "summary": "{\n  \"name\": \"tips\",\n  \"rows\": 2,\n  \"fields\": [\n    {\n      \"column\": \"sex\",\n      \"properties\": {\n        \"dtype\": \"category\",\n        \"num_unique_values\": 2,\n        \"samples\": [\n          \"Female\",\n          \"Male\"\n        ],\n        \"semantic_type\": \"\",\n        \"description\": \"\"\n      }\n    },\n    {\n      \"column\": \"Yes\",\n      \"properties\": {\n        \"dtype\": \"number\",\n        \"std\": 0.0020189738975236685,\n        \"min\": 0.3793103448275862,\n        \"max\": 0.3821656050955414,\n        \"num_unique_values\": 2,\n        \"samples\": [\n          0.3793103448275862,\n          0.3821656050955414\n        ],\n        \"semantic_type\": \"\",\n        \"description\": \"\"\n      }\n    },\n    {\n      \"column\": \"No\",\n      \"properties\": {\n        \"dtype\": \"number\",\n        \"std\": 0.0020189738975236685,\n        \"min\": 0.6178343949044586,\n        \"max\": 0.6206896551724138,\n        \"num_unique_values\": 2,\n        \"samples\": [\n          0.6206896551724138,\n          0.6178343949044586\n        ],\n        \"semantic_type\": \"\",\n        \"description\": \"\"\n      }\n    }\n  ]\n}",
       "type": "dataframe"
      },
      "text/html": [
       "\n",
       "  <div id=\"df-2f1f2127-e6cd-4f63-a07b-d8cb43b45ed2\" class=\"colab-df-container\">\n",
       "    <div>\n",
       "<style scoped>\n",
       "    .dataframe tbody tr th:only-of-type {\n",
       "        vertical-align: middle;\n",
       "    }\n",
       "\n",
       "    .dataframe tbody tr th {\n",
       "        vertical-align: top;\n",
       "    }\n",
       "\n",
       "    .dataframe thead th {\n",
       "        text-align: right;\n",
       "    }\n",
       "</style>\n",
       "<table border=\"1\" class=\"dataframe\">\n",
       "  <thead>\n",
       "    <tr style=\"text-align: right;\">\n",
       "      <th>smoker</th>\n",
       "      <th>Yes</th>\n",
       "      <th>No</th>\n",
       "    </tr>\n",
       "    <tr>\n",
       "      <th>sex</th>\n",
       "      <th></th>\n",
       "      <th></th>\n",
       "    </tr>\n",
       "  </thead>\n",
       "  <tbody>\n",
       "    <tr>\n",
       "      <th>Male</th>\n",
       "      <td>0.382166</td>\n",
       "      <td>0.617834</td>\n",
       "    </tr>\n",
       "    <tr>\n",
       "      <th>Female</th>\n",
       "      <td>0.379310</td>\n",
       "      <td>0.620690</td>\n",
       "    </tr>\n",
       "  </tbody>\n",
       "</table>\n",
       "</div>\n",
       "    <div class=\"colab-df-buttons\">\n",
       "\n",
       "  <div class=\"colab-df-container\">\n",
       "    <button class=\"colab-df-convert\" onclick=\"convertToInteractive('df-2f1f2127-e6cd-4f63-a07b-d8cb43b45ed2')\"\n",
       "            title=\"Convert this dataframe to an interactive table.\"\n",
       "            style=\"display:none;\">\n",
       "\n",
       "  <svg xmlns=\"http://www.w3.org/2000/svg\" height=\"24px\" viewBox=\"0 -960 960 960\">\n",
       "    <path d=\"M120-120v-720h720v720H120Zm60-500h600v-160H180v160Zm220 220h160v-160H400v160Zm0 220h160v-160H400v160ZM180-400h160v-160H180v160Zm440 0h160v-160H620v160ZM180-180h160v-160H180v160Zm440 0h160v-160H620v160Z\"/>\n",
       "  </svg>\n",
       "    </button>\n",
       "\n",
       "  <style>\n",
       "    .colab-df-container {\n",
       "      display:flex;\n",
       "      gap: 12px;\n",
       "    }\n",
       "\n",
       "    .colab-df-convert {\n",
       "      background-color: #E8F0FE;\n",
       "      border: none;\n",
       "      border-radius: 50%;\n",
       "      cursor: pointer;\n",
       "      display: none;\n",
       "      fill: #1967D2;\n",
       "      height: 32px;\n",
       "      padding: 0 0 0 0;\n",
       "      width: 32px;\n",
       "    }\n",
       "\n",
       "    .colab-df-convert:hover {\n",
       "      background-color: #E2EBFA;\n",
       "      box-shadow: 0px 1px 2px rgba(60, 64, 67, 0.3), 0px 1px 3px 1px rgba(60, 64, 67, 0.15);\n",
       "      fill: #174EA6;\n",
       "    }\n",
       "\n",
       "    .colab-df-buttons div {\n",
       "      margin-bottom: 4px;\n",
       "    }\n",
       "\n",
       "    [theme=dark] .colab-df-convert {\n",
       "      background-color: #3B4455;\n",
       "      fill: #D2E3FC;\n",
       "    }\n",
       "\n",
       "    [theme=dark] .colab-df-convert:hover {\n",
       "      background-color: #434B5C;\n",
       "      box-shadow: 0px 1px 3px 1px rgba(0, 0, 0, 0.15);\n",
       "      filter: drop-shadow(0px 1px 2px rgba(0, 0, 0, 0.3));\n",
       "      fill: #FFFFFF;\n",
       "    }\n",
       "  </style>\n",
       "\n",
       "    <script>\n",
       "      const buttonEl =\n",
       "        document.querySelector('#df-2f1f2127-e6cd-4f63-a07b-d8cb43b45ed2 button.colab-df-convert');\n",
       "      buttonEl.style.display =\n",
       "        google.colab.kernel.accessAllowed ? 'block' : 'none';\n",
       "\n",
       "      async function convertToInteractive(key) {\n",
       "        const element = document.querySelector('#df-2f1f2127-e6cd-4f63-a07b-d8cb43b45ed2');\n",
       "        const dataTable =\n",
       "          await google.colab.kernel.invokeFunction('convertToInteractive',\n",
       "                                                    [key], {});\n",
       "        if (!dataTable) return;\n",
       "\n",
       "        const docLinkHtml = 'Like what you see? Visit the ' +\n",
       "          '<a target=\"_blank\" href=https://colab.research.google.com/notebooks/data_table.ipynb>data table notebook</a>'\n",
       "          + ' to learn more about interactive tables.';\n",
       "        element.innerHTML = '';\n",
       "        dataTable['output_type'] = 'display_data';\n",
       "        await google.colab.output.renderOutput(dataTable, element);\n",
       "        const docLink = document.createElement('div');\n",
       "        docLink.innerHTML = docLinkHtml;\n",
       "        element.appendChild(docLink);\n",
       "      }\n",
       "    </script>\n",
       "  </div>\n",
       "\n",
       "\n",
       "<div id=\"df-154f18a6-41fb-4822-85a3-d8abf68c8751\">\n",
       "  <button class=\"colab-df-quickchart\" onclick=\"quickchart('df-154f18a6-41fb-4822-85a3-d8abf68c8751')\"\n",
       "            title=\"Suggest charts\"\n",
       "            style=\"display:none;\">\n",
       "\n",
       "<svg xmlns=\"http://www.w3.org/2000/svg\" height=\"24px\"viewBox=\"0 0 24 24\"\n",
       "     width=\"24px\">\n",
       "    <g>\n",
       "        <path d=\"M19 3H5c-1.1 0-2 .9-2 2v14c0 1.1.9 2 2 2h14c1.1 0 2-.9 2-2V5c0-1.1-.9-2-2-2zM9 17H7v-7h2v7zm4 0h-2V7h2v10zm4 0h-2v-4h2v4z\"/>\n",
       "    </g>\n",
       "</svg>\n",
       "  </button>\n",
       "\n",
       "<style>\n",
       "  .colab-df-quickchart {\n",
       "      --bg-color: #E8F0FE;\n",
       "      --fill-color: #1967D2;\n",
       "      --hover-bg-color: #E2EBFA;\n",
       "      --hover-fill-color: #174EA6;\n",
       "      --disabled-fill-color: #AAA;\n",
       "      --disabled-bg-color: #DDD;\n",
       "  }\n",
       "\n",
       "  [theme=dark] .colab-df-quickchart {\n",
       "      --bg-color: #3B4455;\n",
       "      --fill-color: #D2E3FC;\n",
       "      --hover-bg-color: #434B5C;\n",
       "      --hover-fill-color: #FFFFFF;\n",
       "      --disabled-bg-color: #3B4455;\n",
       "      --disabled-fill-color: #666;\n",
       "  }\n",
       "\n",
       "  .colab-df-quickchart {\n",
       "    background-color: var(--bg-color);\n",
       "    border: none;\n",
       "    border-radius: 50%;\n",
       "    cursor: pointer;\n",
       "    display: none;\n",
       "    fill: var(--fill-color);\n",
       "    height: 32px;\n",
       "    padding: 0;\n",
       "    width: 32px;\n",
       "  }\n",
       "\n",
       "  .colab-df-quickchart:hover {\n",
       "    background-color: var(--hover-bg-color);\n",
       "    box-shadow: 0 1px 2px rgba(60, 64, 67, 0.3), 0 1px 3px 1px rgba(60, 64, 67, 0.15);\n",
       "    fill: var(--button-hover-fill-color);\n",
       "  }\n",
       "\n",
       "  .colab-df-quickchart-complete:disabled,\n",
       "  .colab-df-quickchart-complete:disabled:hover {\n",
       "    background-color: var(--disabled-bg-color);\n",
       "    fill: var(--disabled-fill-color);\n",
       "    box-shadow: none;\n",
       "  }\n",
       "\n",
       "  .colab-df-spinner {\n",
       "    border: 2px solid var(--fill-color);\n",
       "    border-color: transparent;\n",
       "    border-bottom-color: var(--fill-color);\n",
       "    animation:\n",
       "      spin 1s steps(1) infinite;\n",
       "  }\n",
       "\n",
       "  @keyframes spin {\n",
       "    0% {\n",
       "      border-color: transparent;\n",
       "      border-bottom-color: var(--fill-color);\n",
       "      border-left-color: var(--fill-color);\n",
       "    }\n",
       "    20% {\n",
       "      border-color: transparent;\n",
       "      border-left-color: var(--fill-color);\n",
       "      border-top-color: var(--fill-color);\n",
       "    }\n",
       "    30% {\n",
       "      border-color: transparent;\n",
       "      border-left-color: var(--fill-color);\n",
       "      border-top-color: var(--fill-color);\n",
       "      border-right-color: var(--fill-color);\n",
       "    }\n",
       "    40% {\n",
       "      border-color: transparent;\n",
       "      border-right-color: var(--fill-color);\n",
       "      border-top-color: var(--fill-color);\n",
       "    }\n",
       "    60% {\n",
       "      border-color: transparent;\n",
       "      border-right-color: var(--fill-color);\n",
       "    }\n",
       "    80% {\n",
       "      border-color: transparent;\n",
       "      border-right-color: var(--fill-color);\n",
       "      border-bottom-color: var(--fill-color);\n",
       "    }\n",
       "    90% {\n",
       "      border-color: transparent;\n",
       "      border-bottom-color: var(--fill-color);\n",
       "    }\n",
       "  }\n",
       "</style>\n",
       "\n",
       "  <script>\n",
       "    async function quickchart(key) {\n",
       "      const quickchartButtonEl =\n",
       "        document.querySelector('#' + key + ' button');\n",
       "      quickchartButtonEl.disabled = true;  // To prevent multiple clicks.\n",
       "      quickchartButtonEl.classList.add('colab-df-spinner');\n",
       "      try {\n",
       "        const charts = await google.colab.kernel.invokeFunction(\n",
       "            'suggestCharts', [key], {});\n",
       "      } catch (error) {\n",
       "        console.error('Error during call to suggestCharts:', error);\n",
       "      }\n",
       "      quickchartButtonEl.classList.remove('colab-df-spinner');\n",
       "      quickchartButtonEl.classList.add('colab-df-quickchart-complete');\n",
       "    }\n",
       "    (() => {\n",
       "      let quickchartButtonEl =\n",
       "        document.querySelector('#df-154f18a6-41fb-4822-85a3-d8abf68c8751 button');\n",
       "      quickchartButtonEl.style.display =\n",
       "        google.colab.kernel.accessAllowed ? 'block' : 'none';\n",
       "    })();\n",
       "  </script>\n",
       "</div>\n",
       "\n",
       "    </div>\n",
       "  </div>\n"
      ],
      "text/plain": [
       "smoker       Yes        No\n",
       "sex                       \n",
       "Male    0.382166  0.617834\n",
       "Female  0.379310  0.620690"
      ]
     },
     "execution_count": 65,
     "metadata": {},
     "output_type": "execute_result"
    }
   ],
   "source": [
    "tips.groupby('sex')['smoker'].value_counts(normalize=True).unstack()"
   ]
  },
  {
   "cell_type": "code",
   "execution_count": 5,
   "metadata": {
    "colab": {
     "base_uri": "https://localhost:8080/"
    },
    "executionInfo": {
     "elapsed": 2,
     "status": "ok",
     "timestamp": 1718957064931,
     "user": {
      "displayName": "Ji-hoon Jung",
      "userId": "03169308685755834042"
     },
     "user_tz": -540
    },
    "id": "BCfCWzpoQWpT",
    "outputId": "c0ccfbba-4237-42c8-8cbb-b54e98a97698"
   },
   "outputs": [
    {
     "name": "stdout",
     "output_type": "stream",
     "text": [
      "0.382 0.379\n"
     ]
    },
    {
     "name": "stderr",
     "output_type": "stream",
     "text": [
      "C:\\Users\\user\\AppData\\Local\\Temp\\ipykernel_10940\\2822235581.py:2: FutureWarning: The default of observed=False is deprecated and will be changed to True in a future version of pandas. Pass observed=False to retain current behavior or observed=True to adopt the future default and silence this warning.\n",
      "  result = tips.groupby('sex')['smoker'].value_counts(normalize=True).unstack()\n"
     ]
    }
   ],
   "source": [
    "import numpy as np\n",
    "result = tips.groupby('sex')['smoker'].value_counts(normalize=True).unstack()\n",
    "\n",
    "print(np.round(result.loc[\"Male\", \"Yes\"], 3), np.round(result.loc[\"Female\", \"Yes\"], 3))"
   ]
  },
  {
   "cell_type": "markdown",
   "metadata": {
    "id": "_UX8OFxcQ2sf"
   },
   "source": [
    "### 문제2\n",
    "- 팁을 준 고객들 중 남성과 여성의 비율이 50:50인지를 검정하는 간단한 적합도 검정을 수행"
   ]
  },
  {
   "cell_type": "code",
   "execution_count": 6,
   "metadata": {
    "colab": {
     "base_uri": "https://localhost:8080/",
     "height": 148
    },
    "executionInfo": {
     "elapsed": 9,
     "status": "ok",
     "timestamp": 1718947141173,
     "user": {
      "displayName": "Ji-hoon Jung",
      "userId": "03169308685755834042"
     },
     "user_tz": -540
    },
    "id": "pFODLU6frrwJ",
    "outputId": "a3e37e75-7524-42b6-bbdc-aff17dccf988"
   },
   "outputs": [
    {
     "data": {
      "text/plain": [
       "'BootstrapMethod,CensoredData,ConstantInputWarning,Covariance,DegenerateDataWarning,FitError,MonteCarloMethod,NearConstantInputWarning,PermutationMethod,__all__,__builtins__,__cached__,__doc__,__file__,__loader__,__name__,__package__,__path__,__spec__,_ansari_swilk_statistics,_axis_nan_policy,_biasedurn,_binned_statistic,_binomtest,_bws_test,_censored_data,_common,_constants,_continuous_distns,_covariance,_crosstab,_discrete_distns,_distn_infrastructure,_distr_params,_entropy,_fit,_hypotests,_kde,_ksstats,_levy_stable,_mannwhitneyu,_mgc,_morestats,_mstats_basic,_mstats_extras,_multicomp,_multivariate,_mvn,_odds_ratio,_page_trend_test,_qmc,_qmc_cy,_qmvnt,_rcont,_relative_risk,_resampling,_rvs_sampling,_sampling,_sensitivity_analysis,_sobol,_stats,_stats_mstats_common,_stats_py,_stats_pythran,_survival,_tukeylambda_stats,_unuran,_variation,_warnings_errors,_wilcoxon,alexandergovern,alpha,anderson,anderson_ksamp,anglit,ansari,arcsine,argus,barnard_exact,bartlett,bayes_mvs,bernoulli,beta,betabinom,betanbinom,betaprime,biasedurn,binned_statistic,binned_statistic_2d,binned_statistic_dd,binom,binomtest,boltzmann,bootstrap,boschloo_exact,boxcox,boxcox_llf,boxcox_normmax,boxcox_normplot,bradford,brunnermunzel,burr,burr12,bws_test,cauchy,chi,chi2,chi2_contingency,chisquare,circmean,circstd,circvar,combine_pvalues,contingency,cosine,cramervonmises,cramervonmises_2samp,crystalball,cumfreq,describe,dgamma,differential_entropy,directional_stats,dirichlet,dirichlet_multinomial,distributions,dlaplace,dunnett,dweibull,ecdf,energy_distance,entropy,epps_singleton_2samp,erlang,expectile,expon,exponnorm,exponpow,exponweib,f,f_oneway,false_discovery_control,fatiguelife,find_repeats,fisher_exact,fisk,fit,fligner,foldcauchy,foldnorm,friedmanchisquare,gamma,gausshyper,gaussian_kde,genexpon,genextreme,gengamma,genhalflogistic,genhyperbolic,geninvgauss,genlogistic,gennorm,genpareto,geom,gibrat,gmean,gompertz,goodness_of_fit,gstd,gumbel_l,gumbel_r,gzscore,halfcauchy,halfgennorm,halflogistic,halfnorm,hmean,hypergeom,hypsecant,invgamma,invgauss,invweibull,invwishart,iqr,irwinhall,jarque_bera,jf_skew_t,johnsonsb,johnsonsu,kappa3,kappa4,kde,kendalltau,kruskal,ks_1samp,ks_2samp,ksone,kstat,kstatvar,kstest,kstwo,kstwobign,kurtosis,kurtosistest,laplace,laplace_asymmetric,levene,levy,levy_l,levy_stable,linregress,loggamma,logistic,loglaplace,lognorm,logrank,logser,loguniform,lomax,mannwhitneyu,matrix_normal,maxwell,median_abs_deviation,median_test,mielke,mode,moment,monte_carlo_test,mood,morestats,moyal,mstats,mstats_basic,mstats_extras,multinomial,multiscale_graphcorr,multivariate_hypergeom,multivariate_normal,multivariate_t,mvn,mvsdist,nakagami,nbinom,ncf,nchypergeom_fisher,nchypergeom_wallenius,nct,ncx2,nhypergeom,norm,normaltest,norminvgauss,obrientransform,ortho_group,page_trend_test,pareto,pearson3,pearsonr,percentileofscore,permutation_test,planck,pmean,pointbiserialr,poisson,poisson_means_test,power,power_divergence,powerlaw,powerlognorm,powernorm,ppcc_max,ppcc_plot,probplot,qmc,quantile_test,randint,random_correlation,random_table,rankdata,ranksums,rayleigh,rdist,recipinvgauss,reciprocal,rel_breitwigner,relfreq,rice,rv_continuous,rv_discrete,rv_histogram,rvs_ratio_uniforms,sampling,scoreatpercentile,sem,semicircular,shapiro,siegelslopes,sigmaclip,skellam,skew,skewcauchy,skewnorm,skewtest,sobol_indices,somersd,spearmanr,special_ortho_group,stats,studentized_range,t,test,theilslopes,tiecorrect,tmax,tmean,tmin,trapezoid,trapz,triang,trim1,trim_mean,trimboth,truncexpon,truncnorm,truncpareto,truncweibull_min,tsem,tstd,ttest_1samp,ttest_ind,ttest_ind_from_stats,ttest_rel,tukey_hsd,tukeylambda,tvar,uniform,uniform_direction,unitary_group,variation,vonmises,vonmises_fisher,vonmises_line,wald,wasserstein_distance,wasserstein_distance_nd,weibull_max,weibull_min,weightedtau,wilcoxon,wishart,wrapcauchy,yeojohnson,yeojohnson_llf,yeojohnson_normmax,yeojohnson_normplot,yulesimon,zipf,zipfian,zmap,zscore'"
      ]
     },
     "execution_count": 6,
     "metadata": {},
     "output_type": "execute_result"
    }
   ],
   "source": [
    "import scipy\n",
    "\",\".join(dir(scipy.stats))"
   ]
  },
  {
   "cell_type": "code",
   "execution_count": null,
   "metadata": {
    "colab": {
     "base_uri": "https://localhost:8080/"
    },
    "executionInfo": {
     "elapsed": 9,
     "status": "ok",
     "timestamp": 1718947141173,
     "user": {
      "displayName": "Ji-hoon Jung",
      "userId": "03169308685755834042"
     },
     "user_tz": -540
    },
    "id": "TM9oSLdJuWUU",
    "outputId": "09735b09-e7ee-4198-af22-6f975b80ff4e"
   },
   "outputs": [
    {
     "name": "stdout",
     "output_type": "stream",
     "text": [
      "Help on function chisquare in module scipy.stats._stats_py:\n",
      "\n",
      "chisquare(f_obs, f_exp=None, ddof=0, axis=0)\n",
      "    Calculate a one-way chi-square test.\n",
      "    \n",
      "    The chi-square test tests the null hypothesis that the categorical data\n",
      "    has the given frequencies.\n",
      "    \n",
      "    Parameters\n",
      "    ----------\n",
      "    f_obs : array_like\n",
      "        Observed frequencies in each category.\n",
      "    f_exp : array_like, optional\n",
      "        Expected frequencies in each category.  By default the categories are\n",
      "        assumed to be equally likely.\n",
      "    ddof : int, optional\n",
      "        \"Delta degrees of freedom\": adjustment to the degrees of freedom\n",
      "        for the p-value.  The p-value is computed using a chi-squared\n",
      "        distribution with ``k - 1 - ddof`` degrees of freedom, where `k`\n",
      "        is the number of observed frequencies.  The default value of `ddof`\n",
      "        is 0.\n",
      "    axis : int or None, optional\n",
      "        The axis of the broadcast result of `f_obs` and `f_exp` along which to\n",
      "        apply the test.  If axis is None, all values in `f_obs` are treated\n",
      "        as a single data set.  Default is 0.\n",
      "    \n",
      "    Returns\n",
      "    -------\n",
      "    res: Power_divergenceResult\n",
      "        An object containing attributes:\n",
      "    \n",
      "        chisq : float or ndarray\n",
      "            The chi-squared test statistic.  The value is a float if `axis` is\n",
      "            None or `f_obs` and `f_exp` are 1-D.\n",
      "        pvalue : float or ndarray\n",
      "            The p-value of the test.  The value is a float if `ddof` and the\n",
      "            return value `chisq` are scalars.\n",
      "    \n",
      "    See Also\n",
      "    --------\n",
      "    scipy.stats.power_divergence\n",
      "    scipy.stats.fisher_exact : Fisher exact test on a 2x2 contingency table.\n",
      "    scipy.stats.barnard_exact : An unconditional exact test. An alternative\n",
      "        to chi-squared test for small sample sizes.\n",
      "    \n",
      "    Notes\n",
      "    -----\n",
      "    This test is invalid when the observed or expected frequencies in each\n",
      "    category are too small.  A typical rule is that all of the observed\n",
      "    and expected frequencies should be at least 5. According to [3]_, the\n",
      "    total number of samples is recommended to be greater than 13,\n",
      "    otherwise exact tests (such as Barnard's Exact test) should be used\n",
      "    because they do not overreject.\n",
      "    \n",
      "    Also, the sum of the observed and expected frequencies must be the same\n",
      "    for the test to be valid; `chisquare` raises an error if the sums do not\n",
      "    agree within a relative tolerance of ``1e-8``.\n",
      "    \n",
      "    The default degrees of freedom, k-1, are for the case when no parameters\n",
      "    of the distribution are estimated. If p parameters are estimated by\n",
      "    efficient maximum likelihood then the correct degrees of freedom are\n",
      "    k-1-p. If the parameters are estimated in a different way, then the\n",
      "    dof can be between k-1-p and k-1. However, it is also possible that\n",
      "    the asymptotic distribution is not chi-square, in which case this test\n",
      "    is not appropriate.\n",
      "    \n",
      "    References\n",
      "    ----------\n",
      "    .. [1] Lowry, Richard.  \"Concepts and Applications of Inferential\n",
      "           Statistics\". Chapter 8.\n",
      "           https://web.archive.org/web/20171022032306/http://vassarstats.net:80/textbook/ch8pt1.html\n",
      "    .. [2] \"Chi-squared test\", https://en.wikipedia.org/wiki/Chi-squared_test\n",
      "    .. [3] Pearson, Karl. \"On the criterion that a given system of deviations from the probable\n",
      "           in the case of a correlated system of variables is such that it can be reasonably\n",
      "           supposed to have arisen from random sampling\", Philosophical Magazine. Series 5. 50\n",
      "           (1900), pp. 157-175.\n",
      "    .. [4] Mannan, R. William and E. Charles. Meslow. \"Bird populations and\n",
      "           vegetation characteristics in managed and old-growth forests,\n",
      "           northeastern Oregon.\" Journal of Wildlife Management\n",
      "           48, 1219-1238, :doi:`10.2307/3801783`, 1984.\n",
      "    \n",
      "    Examples\n",
      "    --------\n",
      "    In [4]_, bird foraging behavior was investigated in an old-growth forest\n",
      "    of Oregon.\n",
      "    In the forest, 44% of the canopy volume was Douglas fir,\n",
      "    24% was ponderosa pine, 29% was grand fir, and 3% was western larch.\n",
      "    The authors observed the behavior of several species of birds, one of\n",
      "    which was the red-breasted nuthatch. They made 189 observations of this\n",
      "    species foraging, recording 43 (\"23%\") of observations in Douglas fir,\n",
      "    52 (\"28%\") in ponderosa pine, 54 (\"29%\") in grand fir, and 40 (\"21%\") in\n",
      "    western larch.\n",
      "    \n",
      "    Using a chi-square test, we can test the null hypothesis that the\n",
      "    proportions of foraging events are equal to the proportions of canopy\n",
      "    volume. The authors of the paper considered a p-value less than 1% to be\n",
      "    significant.\n",
      "    \n",
      "    Using the above proportions of canopy volume and observed events, we can\n",
      "    infer expected frequencies.\n",
      "    \n",
      "    >>> import numpy as np\n",
      "    >>> f_exp = np.array([44, 24, 29, 3]) / 100 * 189\n",
      "    \n",
      "    The observed frequencies of foraging were:\n",
      "    \n",
      "    >>> f_obs = np.array([43, 52, 54, 40])\n",
      "    \n",
      "    We can now compare the observed frequencies with the expected frequencies.\n",
      "    \n",
      "    >>> from scipy.stats import chisquare\n",
      "    >>> chisquare(f_obs=f_obs, f_exp=f_exp)\n",
      "    Power_divergenceResult(statistic=228.23515947653874, pvalue=3.3295585338846486e-49)\n",
      "    \n",
      "    The p-value is well below the chosen significance level. Hence, the\n",
      "    authors considered the difference to be significant and concluded\n",
      "    that the relative proportions of foraging events were not the same\n",
      "    as the relative proportions of tree canopy volume.\n",
      "    \n",
      "    Following are other generic examples to demonstrate how the other\n",
      "    parameters can be used.\n",
      "    \n",
      "    When just `f_obs` is given, it is assumed that the expected frequencies\n",
      "    are uniform and given by the mean of the observed frequencies.\n",
      "    \n",
      "    >>> chisquare([16, 18, 16, 14, 12, 12])\n",
      "    Power_divergenceResult(statistic=2.0, pvalue=0.84914503608460956)\n",
      "    \n",
      "    With `f_exp` the expected frequencies can be given.\n",
      "    \n",
      "    >>> chisquare([16, 18, 16, 14, 12, 12], f_exp=[16, 16, 16, 16, 16, 8])\n",
      "    Power_divergenceResult(statistic=3.5, pvalue=0.62338762774958223)\n",
      "    \n",
      "    When `f_obs` is 2-D, by default the test is applied to each column.\n",
      "    \n",
      "    >>> obs = np.array([[16, 18, 16, 14, 12, 12], [32, 24, 16, 28, 20, 24]]).T\n",
      "    >>> obs.shape\n",
      "    (6, 2)\n",
      "    >>> chisquare(obs)\n",
      "    Power_divergenceResult(statistic=array([2.        , 6.66666667]), pvalue=array([0.84914504, 0.24663415]))\n",
      "    \n",
      "    By setting ``axis=None``, the test is applied to all data in the array,\n",
      "    which is equivalent to applying the test to the flattened array.\n",
      "    \n",
      "    >>> chisquare(obs, axis=None)\n",
      "    Power_divergenceResult(statistic=23.31034482758621, pvalue=0.015975692534127565)\n",
      "    >>> chisquare(obs.ravel())\n",
      "    Power_divergenceResult(statistic=23.310344827586206, pvalue=0.01597569253412758)\n",
      "    \n",
      "    `ddof` is the change to make to the default degrees of freedom.\n",
      "    \n",
      "    >>> chisquare([16, 18, 16, 14, 12, 12], ddof=1)\n",
      "    Power_divergenceResult(statistic=2.0, pvalue=0.7357588823428847)\n",
      "    \n",
      "    The calculation of the p-values is done by broadcasting the\n",
      "    chi-squared statistic with `ddof`.\n",
      "    \n",
      "    >>> chisquare([16, 18, 16, 14, 12, 12], ddof=[0,1,2])\n",
      "    Power_divergenceResult(statistic=2.0, pvalue=array([0.84914504, 0.73575888, 0.5724067 ]))\n",
      "    \n",
      "    `f_obs` and `f_exp` are also broadcast.  In the following, `f_obs` has\n",
      "    shape (6,) and `f_exp` has shape (2, 6), so the result of broadcasting\n",
      "    `f_obs` and `f_exp` has shape (2, 6).  To compute the desired chi-squared\n",
      "    statistics, we use ``axis=1``:\n",
      "    \n",
      "    >>> chisquare([16, 18, 16, 14, 12, 12],\n",
      "    ...           f_exp=[[16, 16, 16, 16, 16, 8], [8, 20, 20, 16, 12, 12]],\n",
      "    ...           axis=1)\n",
      "    Power_divergenceResult(statistic=array([3.5 , 9.25]), pvalue=array([0.62338763, 0.09949846]))\n",
      "\n"
     ]
    }
   ],
   "source": [
    "help(scipy.stats.chisquare)"
   ]
  },
  {
   "cell_type": "code",
   "execution_count": 7,
   "metadata": {
    "colab": {
     "base_uri": "https://localhost:8080/"
    },
    "executionInfo": {
     "elapsed": 8,
     "status": "ok",
     "timestamp": 1718947141173,
     "user": {
      "displayName": "Ji-hoon Jung",
      "userId": "03169308685755834042"
     },
     "user_tz": -540
    },
    "id": "1JBkMDcC9DhR",
    "outputId": "29b26227-30eb-486d-afcd-f78dc5acb8e7"
   },
   "outputs": [
    {
     "data": {
      "text/plain": [
       "50"
      ]
     },
     "execution_count": 7,
     "metadata": {},
     "output_type": "execute_result"
    }
   ],
   "source": [
    "# np.array([7, 2, 10, 10, 10]).sum()\n",
    "np.array([7, 3, 20, 10, 10]).sum()"
   ]
  },
  {
   "cell_type": "markdown",
   "metadata": {
    "id": "myorNQtP-GRd"
   },
   "source": [
    "- 기대값과 관측값의 전체 합이 같을 때 / 다를 때 코드 작성 방법"
   ]
  },
  {
   "cell_type": "code",
   "execution_count": 8,
   "metadata": {
    "colab": {
     "base_uri": "https://localhost:8080/"
    },
    "executionInfo": {
     "elapsed": 467,
     "status": "ok",
     "timestamp": 1718957163259,
     "user": {
      "displayName": "Ji-hoon Jung",
      "userId": "03169308685755834042"
     },
     "user_tz": -540
    },
    "id": "Gz_4Lu6psEyu",
    "outputId": "f4b258e9-8bc2-40ea-acf8-ed49b34e128c"
   },
   "outputs": [
    {
     "name": "stdout",
     "output_type": "stream",
     "text": [
      "5.770000000000001 0.21699585734924265\n"
     ]
    }
   ],
   "source": [
    "from scipy.stats import chisquare\n",
    "import numpy as np\n",
    "\n",
    "# 기대값\n",
    "expected_values = np.array([7, 2, 10, 10, 10]) / 39 * 50\n",
    "\n",
    "# 관측값\n",
    "obs_values = np.array([7, 3, 20, 10, 10])\n",
    "\n",
    "chi2_stat, pvalue = chisquare(obs_values, f_exp = expected_values)\n",
    "print(chi2_stat, pvalue)"
   ]
  },
  {
   "cell_type": "markdown",
   "metadata": {
    "id": "kb6e1_yp-cd0"
   },
   "source": [
    "- 팁을 준 고객들 중 남성과 여성의 비율이 50:50인지를 검정하는 간단한 적합도 검정을 수행"
   ]
  },
  {
   "cell_type": "code",
   "execution_count": 9,
   "metadata": {
    "colab": {
     "base_uri": "https://localhost:8080/"
    },
    "executionInfo": {
     "elapsed": 413,
     "status": "ok",
     "timestamp": 1718957225494,
     "user": {
      "displayName": "Ji-hoon Jung",
      "userId": "03169308685755834042"
     },
     "user_tz": -540
    },
    "id": "zUFtdeEuRAN5",
    "outputId": "c1b5614f-aba8-4721-d057-8888b6db501d"
   },
   "outputs": [
    {
     "data": {
      "text/plain": [
       "array([157,  87], dtype=int64)"
      ]
     },
     "execution_count": 9,
     "metadata": {},
     "output_type": "execute_result"
    }
   ],
   "source": [
    "# 기대값 vs 관측값\n",
    "observed_frequencies = tips['sex'].value_counts().values\n",
    "observed_frequencies"
   ]
  },
  {
   "cell_type": "code",
   "execution_count": 10,
   "metadata": {
    "colab": {
     "base_uri": "https://localhost:8080/"
    },
    "executionInfo": {
     "elapsed": 416,
     "status": "ok",
     "timestamp": 1718957216546,
     "user": {
      "displayName": "Ji-hoon Jung",
      "userId": "03169308685755834042"
     },
     "user_tz": -540
    },
    "id": "CoQmsIaeKZFs",
    "outputId": "7d25c7ca-eb69-4a37-f9d7-09784c5e2814"
   },
   "outputs": [],
   "source": [
    "# 기대되는 빈도 계산 (50:50 비율 가정)\n",
    "total_count = observed_frequencies.sum()\n",
    "expected_frequencies = [total_count / 2, total_count / 2]"
   ]
  },
  {
   "cell_type": "code",
   "execution_count": 11,
   "metadata": {
    "colab": {
     "base_uri": "https://localhost:8080/"
    },
    "executionInfo": {
     "elapsed": 2,
     "status": "ok",
     "timestamp": 1718957236520,
     "user": {
      "displayName": "Ji-hoon Jung",
      "userId": "03169308685755834042"
     },
     "user_tz": -540
    },
    "id": "nTgRuHutK9jd",
    "outputId": "96d29637-2825-4f47-916b-1213563db43f"
   },
   "outputs": [
    {
     "name": "stdout",
     "output_type": "stream",
     "text": [
      "20.081967213114755 0.21699585734924265\n"
     ]
    }
   ],
   "source": [
    "chi2_stat, p_value = chisquare(f_obs=observed_frequencies, f_exp=expected_frequencies)\n",
    "print(chi2_stat, pvalue)"
   ]
  },
  {
   "cell_type": "markdown",
   "metadata": {
    "id": "F88tK_2AReCl"
   },
   "source": [
    "### 문제3\n",
    "- 위의 통계량에 대한 유의확률(p-value)을 출력(반올림하여 소수점 이하 넷째 자리까지 계산)하고, 유의수준 5% 하에서 가설 검정의 결과를 (귀무가설 채택 / 기각) 중 하나를 선택하시오.\n",
    "- 가설검정\n",
    "  + 귀무가설 : 남성과 여성 고객의 비율이 50:50이다.\n",
    "  + 대립가설 : 남성과 여성 고객의 비율이 50:50이 아니다."
   ]
  },
  {
   "cell_type": "code",
   "execution_count": 12,
   "metadata": {
    "colab": {
     "base_uri": "https://localhost:8080/"
    },
    "executionInfo": {
     "elapsed": 430,
     "status": "ok",
     "timestamp": 1718957261626,
     "user": {
      "displayName": "Ji-hoon Jung",
      "userId": "03169308685755834042"
     },
     "user_tz": -540
    },
    "id": "dqMbQhNMRqFr",
    "outputId": "3cf29f64-fcb3-443f-99da-04aca509f970"
   },
   "outputs": [
    {
     "name": "stdout",
     "output_type": "stream",
     "text": [
      "귀무가설 채택\n"
     ]
    }
   ],
   "source": [
    "alpha = 0.05 # 유의수준 5%\n",
    "if pvalue > alpha:\n",
    "  print(\"귀무가설 채택\")\n",
    "else:\n",
    "  print(\"귀무가설 기각 & 대립가설 채택\")"
   ]
  },
  {
   "cell_type": "markdown",
   "metadata": {
    "id": "-ecSZSYRRzoD"
   },
   "source": [
    "## Section 2 응용\n",
    "- diamonds 데이터셋 활용\n",
    "- 결측치(NA)를 포함하는 모든 행을 제거한 후, (carat, depth, table) 항목을 이용하여 price를 예측하는 다중 선형회귀 모형을 구축하고 다음 수행 결과를 출력한다."
   ]
  },
  {
   "cell_type": "code",
   "execution_count": 13,
   "metadata": {
    "colab": {
     "base_uri": "https://localhost:8080/",
     "height": 80
    },
    "executionInfo": {
     "elapsed": 412,
     "status": "ok",
     "timestamp": 1718957288880,
     "user": {
      "displayName": "Ji-hoon Jung",
      "userId": "03169308685755834042"
     },
     "user_tz": -540
    },
    "id": "on4sNLxYSg1Q",
    "outputId": "392596c0-09c4-45ab-8433-3a01a18d161c"
   },
   "outputs": [
    {
     "data": {
      "text/html": [
       "<div>\n",
       "<style scoped>\n",
       "    .dataframe tbody tr th:only-of-type {\n",
       "        vertical-align: middle;\n",
       "    }\n",
       "\n",
       "    .dataframe tbody tr th {\n",
       "        vertical-align: top;\n",
       "    }\n",
       "\n",
       "    .dataframe thead th {\n",
       "        text-align: right;\n",
       "    }\n",
       "</style>\n",
       "<table border=\"1\" class=\"dataframe\">\n",
       "  <thead>\n",
       "    <tr style=\"text-align: right;\">\n",
       "      <th></th>\n",
       "      <th>carat</th>\n",
       "      <th>cut</th>\n",
       "      <th>color</th>\n",
       "      <th>clarity</th>\n",
       "      <th>depth</th>\n",
       "      <th>table</th>\n",
       "      <th>price</th>\n",
       "      <th>x</th>\n",
       "      <th>y</th>\n",
       "      <th>z</th>\n",
       "    </tr>\n",
       "  </thead>\n",
       "  <tbody>\n",
       "    <tr>\n",
       "      <th>0</th>\n",
       "      <td>0.23</td>\n",
       "      <td>Ideal</td>\n",
       "      <td>E</td>\n",
       "      <td>SI2</td>\n",
       "      <td>61.5</td>\n",
       "      <td>55.0</td>\n",
       "      <td>326</td>\n",
       "      <td>3.95</td>\n",
       "      <td>3.98</td>\n",
       "      <td>2.43</td>\n",
       "    </tr>\n",
       "  </tbody>\n",
       "</table>\n",
       "</div>"
      ],
      "text/plain": [
       "   carat    cut color clarity  depth  table  price     x     y     z\n",
       "0   0.23  Ideal     E     SI2   61.5   55.0    326  3.95  3.98  2.43"
      ]
     },
     "execution_count": 13,
     "metadata": {},
     "output_type": "execute_result"
    }
   ],
   "source": [
    "import seaborn as sns\n",
    "\n",
    "diamonds = sns.load_dataset(\"diamonds\")\n",
    "diamonds.head(1)"
   ]
  },
  {
   "cell_type": "code",
   "execution_count": 14,
   "metadata": {
    "colab": {
     "base_uri": "https://localhost:8080/",
     "height": 112
    },
    "executionInfo": {
     "elapsed": 432,
     "status": "ok",
     "timestamp": 1718957303376,
     "user": {
      "displayName": "Ji-hoon Jung",
      "userId": "03169308685755834042"
     },
     "user_tz": -540
    },
    "id": "UPs5wFvpSro6",
    "outputId": "7a8693a4-2283-4537-9b44-f82d9d35d969"
   },
   "outputs": [
    {
     "data": {
      "text/html": [
       "<div>\n",
       "<style scoped>\n",
       "    .dataframe tbody tr th:only-of-type {\n",
       "        vertical-align: middle;\n",
       "    }\n",
       "\n",
       "    .dataframe tbody tr th {\n",
       "        vertical-align: top;\n",
       "    }\n",
       "\n",
       "    .dataframe thead th {\n",
       "        text-align: right;\n",
       "    }\n",
       "</style>\n",
       "<table border=\"1\" class=\"dataframe\">\n",
       "  <thead>\n",
       "    <tr style=\"text-align: right;\">\n",
       "      <th></th>\n",
       "      <th>carat</th>\n",
       "      <th>cut</th>\n",
       "      <th>color</th>\n",
       "      <th>clarity</th>\n",
       "      <th>depth</th>\n",
       "      <th>table</th>\n",
       "      <th>price</th>\n",
       "      <th>x</th>\n",
       "      <th>y</th>\n",
       "      <th>z</th>\n",
       "    </tr>\n",
       "  </thead>\n",
       "  <tbody>\n",
       "    <tr>\n",
       "      <th>0</th>\n",
       "      <td>0.23</td>\n",
       "      <td>Ideal</td>\n",
       "      <td>E</td>\n",
       "      <td>SI2</td>\n",
       "      <td>61.5</td>\n",
       "      <td>55.0</td>\n",
       "      <td>326</td>\n",
       "      <td>3.95</td>\n",
       "      <td>3.98</td>\n",
       "      <td>2.43</td>\n",
       "    </tr>\n",
       "    <tr>\n",
       "      <th>1</th>\n",
       "      <td>0.21</td>\n",
       "      <td>Premium</td>\n",
       "      <td>E</td>\n",
       "      <td>SI1</td>\n",
       "      <td>59.8</td>\n",
       "      <td>61.0</td>\n",
       "      <td>326</td>\n",
       "      <td>3.89</td>\n",
       "      <td>3.84</td>\n",
       "      <td>2.31</td>\n",
       "    </tr>\n",
       "  </tbody>\n",
       "</table>\n",
       "</div>"
      ],
      "text/plain": [
       "   carat      cut color clarity  depth  table  price     x     y     z\n",
       "0   0.23    Ideal     E     SI2   61.5   55.0    326  3.95  3.98  2.43\n",
       "1   0.21  Premium     E     SI1   59.8   61.0    326  3.89  3.84  2.31"
      ]
     },
     "execution_count": 14,
     "metadata": {},
     "output_type": "execute_result"
    }
   ],
   "source": [
    "df = diamonds.dropna()\n",
    "df.head(2)"
   ]
  },
  {
   "cell_type": "code",
   "execution_count": 15,
   "metadata": {
    "colab": {
     "base_uri": "https://localhost:8080/"
    },
    "executionInfo": {
     "elapsed": 434,
     "status": "ok",
     "timestamp": 1718957307902,
     "user": {
      "displayName": "Ji-hoon Jung",
      "userId": "03169308685755834042"
     },
     "user_tz": -540
    },
    "id": "gSXrxgASxhcY",
    "outputId": "1e1c0855-e9c8-4c84-b50b-ee4893389452"
   },
   "outputs": [
    {
     "data": {
      "text/plain": [
       "((53940, 10), (53940, 10))"
      ]
     },
     "execution_count": 15,
     "metadata": {},
     "output_type": "execute_result"
    }
   ],
   "source": [
    "df.shape, diamonds.shape"
   ]
  },
  {
   "cell_type": "markdown",
   "metadata": {
    "id": "PuJQCmHFThGC"
   },
   "source": [
    "### 문제1\n",
    "- carat 항목에 대한 회귀계수를 구하시오. 단, 출력문은 print()를 이용하고 소수점 이하 넷째 자리에서 반올림하여 소수점 이하 셋째 자리까지 출력하시오."
   ]
  },
  {
   "cell_type": "code",
   "execution_count": 16,
   "metadata": {
    "colab": {
     "base_uri": "https://localhost:8080/"
    },
    "executionInfo": {
     "elapsed": 441,
     "status": "ok",
     "timestamp": 1718957327775,
     "user": {
      "displayName": "Ji-hoon Jung",
      "userId": "03169308685755834042"
     },
     "user_tz": -540
    },
    "id": "iSYdj1nTTdM6",
    "outputId": "497b13f7-f275-4692-fa65-33e1767ba872"
   },
   "outputs": [
    {
     "name": "stdout",
     "output_type": "stream",
     "text": [
      "                            OLS Regression Results                            \n",
      "==============================================================================\n",
      "Dep. Variable:                      y   R-squared:                       0.909\n",
      "Model:                            OLS   Adj. R-squared:                  0.909\n",
      "Method:                 Least Squares   F-statistic:                 1.795e+05\n",
      "Date:                Mon, 08 Jul 2024   Prob (F-statistic):               0.00\n",
      "Time:                        11:42:38   Log-Likelihood:                -19068.\n",
      "No. Observations:               53940   AIC:                         3.814e+04\n",
      "Df Residuals:                   53936   BIC:                         3.818e+04\n",
      "Df Model:                           3                                         \n",
      "Covariance Type:            nonrobust                                         \n",
      "==============================================================================\n",
      "                 coef    std err          t      P>|t|      [0.025      0.975]\n",
      "------------------------------------------------------------------------------\n",
      "Intercept      6.9714      0.088     78.979      0.000       6.798       7.144\n",
      "X[0]           2.3002      0.003    719.865      0.000       2.294       2.306\n",
      "X[1]          -0.0465      0.001    -42.717      0.000      -0.049      -0.044\n",
      "X[2]          -0.0035      0.001     -4.945      0.000      -0.005      -0.002\n",
      "==============================================================================\n",
      "Omnibus:                   186149.352   Durbin-Watson:                   1.354\n",
      "Prob(Omnibus):                  0.000   Jarque-Bera (JB):     185671052254.220\n",
      "Skew:                          64.641   Prob(JB):                         0.00\n",
      "Kurtosis:                    9091.209   Cond. No.                     5.02e+03\n",
      "==============================================================================\n",
      "\n",
      "Notes:\n",
      "[1] Standard Errors assume that the covariance matrix of the errors is correctly specified.\n",
      "[2] The condition number is large, 5.02e+03. This might indicate that there are\n",
      "strong multicollinearity or other numerical problems.\n"
     ]
    }
   ],
   "source": [
    "# 코드\n",
    "from statsmodels.formula.api import ols\n",
    "\n",
    "X = df.loc[:, ['carat', 'depth', 'table']]\n",
    "y = df['price']\n",
    "\n",
    "model = ols('y ~ X', data = df).fit()\n",
    "print(model.summary())"
   ]
  },
  {
   "cell_type": "code",
   "execution_count": 17,
   "metadata": {
    "colab": {
     "base_uri": "https://localhost:8080/"
    },
    "executionInfo": {
     "elapsed": 524,
     "status": "ok",
     "timestamp": 1718957349591,
     "user": {
      "displayName": "Ji-hoon Jung",
      "userId": "03169308685755834042"
     },
     "user_tz": -540
    },
    "id": "TPe2x86XUAhp",
    "outputId": "6b05f1e2-8ca4-4930-abaf-e678dd8b04cb"
   },
   "outputs": [
    {
     "name": "stdout",
     "output_type": "stream",
     "text": [
      "                            OLS Regression Results                            \n",
      "==============================================================================\n",
      "Dep. Variable:                  price   R-squared:                       0.854\n",
      "Model:                            OLS   Adj. R-squared:                  0.854\n",
      "Method:                 Least Squares   F-statistic:                 1.049e+05\n",
      "Date:                Mon, 08 Jul 2024   Prob (F-statistic):               0.00\n",
      "Time:                        11:42:38   Log-Likelihood:            -4.7194e+05\n",
      "No. Observations:               53940   AIC:                         9.439e+05\n",
      "Df Residuals:                   53936   BIC:                         9.439e+05\n",
      "Df Model:                           3                                         \n",
      "Covariance Type:            nonrobust                                         \n",
      "==============================================================================\n",
      "                 coef    std err          t      P>|t|      [0.025      0.975]\n",
      "------------------------------------------------------------------------------\n",
      "Intercept     1.3e+04    390.918     33.264      0.000    1.22e+04    1.38e+04\n",
      "carat       7858.7705     14.151    555.356      0.000    7831.035    7886.506\n",
      "depth       -151.2363      4.820    -31.378      0.000    -160.683    -141.789\n",
      "table       -104.4728      3.141    -33.259      0.000    -110.630     -98.316\n",
      "==============================================================================\n",
      "Omnibus:                    14107.737   Durbin-Watson:                   1.015\n",
      "Prob(Omnibus):                  0.000   Jarque-Bera (JB):           154392.067\n",
      "Skew:                           0.945   Prob(JB):                         0.00\n",
      "Kurtosis:                      11.070   Cond. No.                     5.02e+03\n",
      "==============================================================================\n",
      "\n",
      "Notes:\n",
      "[1] Standard Errors assume that the covariance matrix of the errors is correctly specified.\n",
      "[2] The condition number is large, 5.02e+03. This might indicate that there are\n",
      "strong multicollinearity or other numerical problems.\n"
     ]
    }
   ],
   "source": [
    "formula = \"price ~ carat + depth + table\"\n",
    "model = ols(formula, data = df).fit()\n",
    "print(model.summary())"
   ]
  },
  {
   "cell_type": "code",
   "execution_count": 18,
   "metadata": {
    "colab": {
     "base_uri": "https://localhost:8080/"
    },
    "executionInfo": {
     "elapsed": 420,
     "status": "ok",
     "timestamp": 1718957406578,
     "user": {
      "displayName": "Ji-hoon Jung",
      "userId": "03169308685755834042"
     },
     "user_tz": -540
    },
    "id": "x0SgTWuKUcsp",
    "outputId": "172d2144-aef5-4612-d16a-07937ad14fc2"
   },
   "outputs": [
    {
     "data": {
      "text/plain": [
       "Intercept    13003.440524\n",
       "carat         7858.770510\n",
       "depth         -151.236347\n",
       "table         -104.472780\n",
       "dtype: float64"
      ]
     },
     "execution_count": 18,
     "metadata": {},
     "output_type": "execute_result"
    }
   ],
   "source": [
    "# Carat의 회귀계수\n",
    "model.params"
   ]
  },
  {
   "cell_type": "code",
   "execution_count": 19,
   "metadata": {
    "colab": {
     "base_uri": "https://localhost:8080/"
    },
    "executionInfo": {
     "elapsed": 584,
     "status": "ok",
     "timestamp": 1718957446734,
     "user": {
      "displayName": "Ji-hoon Jung",
      "userId": "03169308685755834042"
     },
     "user_tz": -540
    },
    "id": "FLDafwXhymIB",
    "outputId": "b856f129-57ed-434e-ad27-7a3a11276386"
   },
   "outputs": [
    {
     "name": "stdout",
     "output_type": "stream",
     "text": [
      "7858.77\n"
     ]
    },
    {
     "name": "stderr",
     "output_type": "stream",
     "text": [
      "C:\\Users\\user\\AppData\\Local\\Temp\\ipykernel_10940\\1439253639.py:4: FutureWarning: Passing literal html to 'read_html' is deprecated and will be removed in a future version. To read from a literal string, wrap it in a 'StringIO' object.\n",
      "  result = pd.read_html(model.summary().tables[1].as_html(), header=0, index_col=0)[0]\n"
     ]
    }
   ],
   "source": [
    "import pandas as pd\n",
    "import numpy as np\n",
    "\n",
    "result = pd.read_html(model.summary().tables[1].as_html(), header=0, index_col=0)[0]\n",
    "print(np.round(result.loc['carat', 'coef'], 3))"
   ]
  },
  {
   "cell_type": "markdown",
   "metadata": {
    "id": "tzIeUFsLYBY-"
   },
   "source": [
    "### 문제2\n",
    "- table 항목에 대한 t-통계량을 소수점 이하 셋째 자리까지 출력하시오.\n"
   ]
  },
  {
   "cell_type": "code",
   "execution_count": 20,
   "metadata": {
    "colab": {
     "base_uri": "https://localhost:8080/"
    },
    "executionInfo": {
     "elapsed": 409,
     "status": "ok",
     "timestamp": 1718957465294,
     "user": {
      "displayName": "Ji-hoon Jung",
      "userId": "03169308685755834042"
     },
     "user_tz": -540
    },
    "id": "VUEfMRJuUmcq",
    "outputId": "729640e4-108d-46c4-93ba-d598b2d935eb"
   },
   "outputs": [
    {
     "data": {
      "text/plain": [
       "-33.259"
      ]
     },
     "execution_count": 20,
     "metadata": {},
     "output_type": "execute_result"
    }
   ],
   "source": [
    "# 코드\n",
    "np.round(result.loc['table', 't'], 3)"
   ]
  },
  {
   "cell_type": "markdown",
   "metadata": {
    "id": "ldbMk2BedCTv"
   },
   "source": [
    "### 문제3\n",
    "- 다음 예측변수 값에 대한 Price를 예측하고, carat 항목의 계수값에 대한 95% 신뢰구간을 출력하시오.\n",
    "  + carat = 0.35,\n",
    "  + depth = 57.5\n",
    "  + table = 53.1"
   ]
  },
  {
   "cell_type": "code",
   "execution_count": 21,
   "metadata": {
    "colab": {
     "base_uri": "https://localhost:8080/"
    },
    "executionInfo": {
     "elapsed": 435,
     "status": "ok",
     "timestamp": 1718957526777,
     "user": {
      "displayName": "Ji-hoon Jung",
      "userId": "03169308685755834042"
     },
     "user_tz": -540
    },
    "id": "9kSPJEe0YZih",
    "outputId": "955a92db-4059-4058-c4fa-7ab42a47a8e4"
   },
   "outputs": [
    {
     "name": "stdout",
     "output_type": "stream",
     "text": [
      "예측값:  1510.4156303344544\n"
     ]
    }
   ],
   "source": [
    "# 코드\n",
    "import pandas as pd\n",
    "sample_df = pd.DataFrame(\n",
    "    [[0.35, 57.5, 53.1]], columns = ['carat', 'depth', 'table']\n",
    ")\n",
    "\n",
    "print('예측값: ', model.predict(sample_df).values[0])"
   ]
  },
  {
   "cell_type": "code",
   "execution_count": 22,
   "metadata": {
    "colab": {
     "base_uri": "https://localhost:8080/"
    },
    "executionInfo": {
     "elapsed": 2,
     "status": "ok",
     "timestamp": 1718957561534,
     "user": {
      "displayName": "Ji-hoon Jung",
      "userId": "03169308685755834042"
     },
     "user_tz": -540
    },
    "id": "-GZKVYFMdbNb",
    "outputId": "fc29e97b-b4d6-419a-f1af-bfb71c3780f1"
   },
   "outputs": [
    {
     "data": {
      "text/plain": [
       "(7831.034681449392, 7886.506338422804)"
      ]
     },
     "execution_count": 22,
     "metadata": {},
     "output_type": "execute_result"
    }
   ],
   "source": [
    "# 신뢰구간\n",
    "conf_df = model.conf_int()\n",
    "conf_df.loc[\"carat\", 0], conf_df.loc[\"carat\", 1]"
   ]
  },
  {
   "cell_type": "markdown",
   "metadata": {
    "id": "EyoR6y7VgDqB"
   },
   "source": [
    "# 7회 기출문제 응용"
   ]
  },
  {
   "cell_type": "markdown",
   "metadata": {
    "id": "JrNsKyplTbOZ"
   },
   "source": [
    "## Section1 응용\n",
    "- boston 데이터 중에서 상관관계가 가장 작은 값을 구하시오."
   ]
  },
  {
   "cell_type": "code",
   "execution_count": 23,
   "metadata": {
    "colab": {
     "base_uri": "https://localhost:8080/"
    },
    "executionInfo": {
     "elapsed": 2882,
     "status": "ok",
     "timestamp": 1718957721922,
     "user": {
      "displayName": "Ji-hoon Jung",
      "userId": "03169308685755834042"
     },
     "user_tz": -540
    },
    "id": "0-vRLwu0zzw-",
    "outputId": "d71a7281-c22b-4402-e6a1-a50b3fac00da"
   },
   "outputs": [
    {
     "ename": "ModuleNotFoundError",
     "evalue": "No module named 'google'",
     "output_type": "error",
     "traceback": [
      "\u001b[1;31m---------------------------------------------------------------------------\u001b[0m",
      "\u001b[1;31mModuleNotFoundError\u001b[0m                       Traceback (most recent call last)",
      "Cell \u001b[1;32mIn[23], line 1\u001b[0m\n\u001b[1;32m----> 1\u001b[0m \u001b[38;5;28;01mfrom\u001b[39;00m \u001b[38;5;21;01mgoogle\u001b[39;00m\u001b[38;5;21;01m.\u001b[39;00m\u001b[38;5;21;01mcolab\u001b[39;00m \u001b[38;5;28;01mimport\u001b[39;00m drive\n\u001b[0;32m      2\u001b[0m drive\u001b[38;5;241m.\u001b[39mmount(\u001b[38;5;124m\"\u001b[39m\u001b[38;5;124m/content/drive\u001b[39m\u001b[38;5;124m\"\u001b[39m)\n",
      "\u001b[1;31mModuleNotFoundError\u001b[0m: No module named 'google'"
     ]
    }
   ],
   "source": [
    "from google.colab import drive\n",
    "drive.mount(\"/content/drive\")"
   ]
  },
  {
   "cell_type": "code",
   "execution_count": null,
   "metadata": {
    "colab": {
     "base_uri": "https://localhost:8080/",
     "height": 206
    },
    "executionInfo": {
     "elapsed": 430,
     "status": "ok",
     "timestamp": 1718957725200,
     "user": {
      "displayName": "Ji-hoon Jung",
      "userId": "03169308685755834042"
     },
     "user_tz": -540
    },
    "id": "ePVFpGsLTep-",
    "outputId": "b6d3063f-d049-44a7-a6ea-0e691f84fea2"
   },
   "outputs": [],
   "source": [
    "import pandas as pd\n",
    "\n",
    "DATA_PATH = '/content/drive/MyDrive/Colab Notebooks/2024/한경-토스뱅크/통계실습문제/'\n",
    "df = pd.read_csv(DATA_PATH + \"boston.csv\", encoding=\"euc-kr\", index_col=0)\n",
    "df.head()"
   ]
  },
  {
   "cell_type": "code",
   "execution_count": 24,
   "metadata": {
    "colab": {
     "base_uri": "https://localhost:8080/",
     "height": 508
    },
    "executionInfo": {
     "elapsed": 455,
     "status": "ok",
     "timestamp": 1718957744201,
     "user": {
      "displayName": "Ji-hoon Jung",
      "userId": "03169308685755834042"
     },
     "user_tz": -540
    },
    "id": "Mfr8VEEqUJYF",
    "outputId": "aad89263-b881-42ea-b354-baa221081958"
   },
   "outputs": [
    {
     "ename": "ValueError",
     "evalue": "could not convert string to float: 'Ideal'",
     "output_type": "error",
     "traceback": [
      "\u001b[1;31m---------------------------------------------------------------------------\u001b[0m",
      "\u001b[1;31mValueError\u001b[0m                                Traceback (most recent call last)",
      "Cell \u001b[1;32mIn[24], line 1\u001b[0m\n\u001b[1;32m----> 1\u001b[0m \u001b[43mdf\u001b[49m\u001b[38;5;241;43m.\u001b[39;49m\u001b[43mcorr\u001b[49m\u001b[43m(\u001b[49m\u001b[43m)\u001b[49m\n",
      "File \u001b[1;32m~\\Desktop\\han-toss\\venv\\Lib\\site-packages\\pandas\\core\\frame.py:11022\u001b[0m, in \u001b[0;36mDataFrame.corr\u001b[1;34m(self, method, min_periods, numeric_only)\u001b[0m\n\u001b[0;32m  11020\u001b[0m cols \u001b[38;5;241m=\u001b[39m data\u001b[38;5;241m.\u001b[39mcolumns\n\u001b[0;32m  11021\u001b[0m idx \u001b[38;5;241m=\u001b[39m cols\u001b[38;5;241m.\u001b[39mcopy()\n\u001b[1;32m> 11022\u001b[0m mat \u001b[38;5;241m=\u001b[39m \u001b[43mdata\u001b[49m\u001b[38;5;241;43m.\u001b[39;49m\u001b[43mto_numpy\u001b[49m\u001b[43m(\u001b[49m\u001b[43mdtype\u001b[49m\u001b[38;5;241;43m=\u001b[39;49m\u001b[38;5;28;43mfloat\u001b[39;49m\u001b[43m,\u001b[49m\u001b[43m \u001b[49m\u001b[43mna_value\u001b[49m\u001b[38;5;241;43m=\u001b[39;49m\u001b[43mnp\u001b[49m\u001b[38;5;241;43m.\u001b[39;49m\u001b[43mnan\u001b[49m\u001b[43m,\u001b[49m\u001b[43m \u001b[49m\u001b[43mcopy\u001b[49m\u001b[38;5;241;43m=\u001b[39;49m\u001b[38;5;28;43;01mFalse\u001b[39;49;00m\u001b[43m)\u001b[49m\n\u001b[0;32m  11024\u001b[0m \u001b[38;5;28;01mif\u001b[39;00m method \u001b[38;5;241m==\u001b[39m \u001b[38;5;124m\"\u001b[39m\u001b[38;5;124mpearson\u001b[39m\u001b[38;5;124m\"\u001b[39m:\n\u001b[0;32m  11025\u001b[0m     correl \u001b[38;5;241m=\u001b[39m libalgos\u001b[38;5;241m.\u001b[39mnancorr(mat, minp\u001b[38;5;241m=\u001b[39mmin_periods)\n",
      "File \u001b[1;32m~\\Desktop\\han-toss\\venv\\Lib\\site-packages\\pandas\\core\\frame.py:1981\u001b[0m, in \u001b[0;36mDataFrame.to_numpy\u001b[1;34m(self, dtype, copy, na_value)\u001b[0m\n\u001b[0;32m   1979\u001b[0m \u001b[38;5;28;01mif\u001b[39;00m dtype \u001b[38;5;129;01mis\u001b[39;00m \u001b[38;5;129;01mnot\u001b[39;00m \u001b[38;5;28;01mNone\u001b[39;00m:\n\u001b[0;32m   1980\u001b[0m     dtype \u001b[38;5;241m=\u001b[39m np\u001b[38;5;241m.\u001b[39mdtype(dtype)\n\u001b[1;32m-> 1981\u001b[0m result \u001b[38;5;241m=\u001b[39m \u001b[38;5;28;43mself\u001b[39;49m\u001b[38;5;241;43m.\u001b[39;49m\u001b[43m_mgr\u001b[49m\u001b[38;5;241;43m.\u001b[39;49m\u001b[43mas_array\u001b[49m\u001b[43m(\u001b[49m\u001b[43mdtype\u001b[49m\u001b[38;5;241;43m=\u001b[39;49m\u001b[43mdtype\u001b[49m\u001b[43m,\u001b[49m\u001b[43m \u001b[49m\u001b[43mcopy\u001b[49m\u001b[38;5;241;43m=\u001b[39;49m\u001b[43mcopy\u001b[49m\u001b[43m,\u001b[49m\u001b[43m \u001b[49m\u001b[43mna_value\u001b[49m\u001b[38;5;241;43m=\u001b[39;49m\u001b[43mna_value\u001b[49m\u001b[43m)\u001b[49m\n\u001b[0;32m   1982\u001b[0m \u001b[38;5;28;01mif\u001b[39;00m result\u001b[38;5;241m.\u001b[39mdtype \u001b[38;5;129;01mis\u001b[39;00m \u001b[38;5;129;01mnot\u001b[39;00m dtype:\n\u001b[0;32m   1983\u001b[0m     result \u001b[38;5;241m=\u001b[39m np\u001b[38;5;241m.\u001b[39marray(result, dtype\u001b[38;5;241m=\u001b[39mdtype, copy\u001b[38;5;241m=\u001b[39m\u001b[38;5;28;01mFalse\u001b[39;00m)\n",
      "File \u001b[1;32m~\\Desktop\\han-toss\\venv\\Lib\\site-packages\\pandas\\core\\internals\\managers.py:1693\u001b[0m, in \u001b[0;36mBlockManager.as_array\u001b[1;34m(self, dtype, copy, na_value)\u001b[0m\n\u001b[0;32m   1691\u001b[0m         arr\u001b[38;5;241m.\u001b[39mflags\u001b[38;5;241m.\u001b[39mwriteable \u001b[38;5;241m=\u001b[39m \u001b[38;5;28;01mFalse\u001b[39;00m\n\u001b[0;32m   1692\u001b[0m \u001b[38;5;28;01melse\u001b[39;00m:\n\u001b[1;32m-> 1693\u001b[0m     arr \u001b[38;5;241m=\u001b[39m \u001b[38;5;28;43mself\u001b[39;49m\u001b[38;5;241;43m.\u001b[39;49m\u001b[43m_interleave\u001b[49m\u001b[43m(\u001b[49m\u001b[43mdtype\u001b[49m\u001b[38;5;241;43m=\u001b[39;49m\u001b[43mdtype\u001b[49m\u001b[43m,\u001b[49m\u001b[43m \u001b[49m\u001b[43mna_value\u001b[49m\u001b[38;5;241;43m=\u001b[39;49m\u001b[43mna_value\u001b[49m\u001b[43m)\u001b[49m\n\u001b[0;32m   1694\u001b[0m     \u001b[38;5;66;03m# The underlying data was copied within _interleave, so no need\u001b[39;00m\n\u001b[0;32m   1695\u001b[0m     \u001b[38;5;66;03m# to further copy if copy=True or setting na_value\u001b[39;00m\n\u001b[0;32m   1697\u001b[0m \u001b[38;5;28;01mif\u001b[39;00m na_value \u001b[38;5;129;01mis\u001b[39;00m lib\u001b[38;5;241m.\u001b[39mno_default:\n",
      "File \u001b[1;32m~\\Desktop\\han-toss\\venv\\Lib\\site-packages\\pandas\\core\\internals\\managers.py:1746\u001b[0m, in \u001b[0;36mBlockManager._interleave\u001b[1;34m(self, dtype, na_value)\u001b[0m\n\u001b[0;32m   1740\u001b[0m rl \u001b[38;5;241m=\u001b[39m blk\u001b[38;5;241m.\u001b[39mmgr_locs\n\u001b[0;32m   1741\u001b[0m \u001b[38;5;28;01mif\u001b[39;00m blk\u001b[38;5;241m.\u001b[39mis_extension:\n\u001b[0;32m   1742\u001b[0m     \u001b[38;5;66;03m# Avoid implicit conversion of extension blocks to object\u001b[39;00m\n\u001b[0;32m   1743\u001b[0m \n\u001b[0;32m   1744\u001b[0m     \u001b[38;5;66;03m# error: Item \"ndarray\" of \"Union[ndarray, ExtensionArray]\" has no\u001b[39;00m\n\u001b[0;32m   1745\u001b[0m     \u001b[38;5;66;03m# attribute \"to_numpy\"\u001b[39;00m\n\u001b[1;32m-> 1746\u001b[0m     arr \u001b[38;5;241m=\u001b[39m \u001b[43mblk\u001b[49m\u001b[38;5;241;43m.\u001b[39;49m\u001b[43mvalues\u001b[49m\u001b[38;5;241;43m.\u001b[39;49m\u001b[43mto_numpy\u001b[49m\u001b[43m(\u001b[49m\u001b[43m  \u001b[49m\u001b[38;5;66;43;03m# type: ignore[union-attr]\u001b[39;49;00m\n\u001b[0;32m   1747\u001b[0m \u001b[43m        \u001b[49m\u001b[43mdtype\u001b[49m\u001b[38;5;241;43m=\u001b[39;49m\u001b[43mdtype\u001b[49m\u001b[43m,\u001b[49m\n\u001b[0;32m   1748\u001b[0m \u001b[43m        \u001b[49m\u001b[43mna_value\u001b[49m\u001b[38;5;241;43m=\u001b[39;49m\u001b[43mna_value\u001b[49m\u001b[43m,\u001b[49m\n\u001b[0;32m   1749\u001b[0m \u001b[43m    \u001b[49m\u001b[43m)\u001b[49m\n\u001b[0;32m   1750\u001b[0m \u001b[38;5;28;01melse\u001b[39;00m:\n\u001b[0;32m   1751\u001b[0m     arr \u001b[38;5;241m=\u001b[39m blk\u001b[38;5;241m.\u001b[39mget_values(dtype)\n",
      "File \u001b[1;32m~\\Desktop\\han-toss\\venv\\Lib\\site-packages\\pandas\\core\\arrays\\base.py:568\u001b[0m, in \u001b[0;36mExtensionArray.to_numpy\u001b[1;34m(self, dtype, copy, na_value)\u001b[0m\n\u001b[0;32m    539\u001b[0m \u001b[38;5;28;01mdef\u001b[39;00m \u001b[38;5;21mto_numpy\u001b[39m(\n\u001b[0;32m    540\u001b[0m     \u001b[38;5;28mself\u001b[39m,\n\u001b[0;32m    541\u001b[0m     dtype: npt\u001b[38;5;241m.\u001b[39mDTypeLike \u001b[38;5;241m|\u001b[39m \u001b[38;5;28;01mNone\u001b[39;00m \u001b[38;5;241m=\u001b[39m \u001b[38;5;28;01mNone\u001b[39;00m,\n\u001b[0;32m    542\u001b[0m     copy: \u001b[38;5;28mbool\u001b[39m \u001b[38;5;241m=\u001b[39m \u001b[38;5;28;01mFalse\u001b[39;00m,\n\u001b[0;32m    543\u001b[0m     na_value: \u001b[38;5;28mobject\u001b[39m \u001b[38;5;241m=\u001b[39m lib\u001b[38;5;241m.\u001b[39mno_default,\n\u001b[0;32m    544\u001b[0m ) \u001b[38;5;241m-\u001b[39m\u001b[38;5;241m>\u001b[39m np\u001b[38;5;241m.\u001b[39mndarray:\n\u001b[0;32m    545\u001b[0m \u001b[38;5;250m    \u001b[39m\u001b[38;5;124;03m\"\"\"\u001b[39;00m\n\u001b[0;32m    546\u001b[0m \u001b[38;5;124;03m    Convert to a NumPy ndarray.\u001b[39;00m\n\u001b[0;32m    547\u001b[0m \n\u001b[1;32m   (...)\u001b[0m\n\u001b[0;32m    566\u001b[0m \u001b[38;5;124;03m    numpy.ndarray\u001b[39;00m\n\u001b[0;32m    567\u001b[0m \u001b[38;5;124;03m    \"\"\"\u001b[39;00m\n\u001b[1;32m--> 568\u001b[0m     result \u001b[38;5;241m=\u001b[39m \u001b[43mnp\u001b[49m\u001b[38;5;241;43m.\u001b[39;49m\u001b[43masarray\u001b[49m\u001b[43m(\u001b[49m\u001b[38;5;28;43mself\u001b[39;49m\u001b[43m,\u001b[49m\u001b[43m \u001b[49m\u001b[43mdtype\u001b[49m\u001b[38;5;241;43m=\u001b[39;49m\u001b[43mdtype\u001b[49m\u001b[43m)\u001b[49m\n\u001b[0;32m    569\u001b[0m     \u001b[38;5;28;01mif\u001b[39;00m copy \u001b[38;5;129;01mor\u001b[39;00m na_value \u001b[38;5;129;01mis\u001b[39;00m \u001b[38;5;129;01mnot\u001b[39;00m lib\u001b[38;5;241m.\u001b[39mno_default:\n\u001b[0;32m    570\u001b[0m         result \u001b[38;5;241m=\u001b[39m result\u001b[38;5;241m.\u001b[39mcopy()\n",
      "File \u001b[1;32m~\\Desktop\\han-toss\\venv\\Lib\\site-packages\\pandas\\core\\arrays\\_mixins.py:81\u001b[0m, in \u001b[0;36mravel_compat.<locals>.method\u001b[1;34m(self, *args, **kwargs)\u001b[0m\n\u001b[0;32m     78\u001b[0m \u001b[38;5;129m@wraps\u001b[39m(meth)\n\u001b[0;32m     79\u001b[0m \u001b[38;5;28;01mdef\u001b[39;00m \u001b[38;5;21mmethod\u001b[39m(\u001b[38;5;28mself\u001b[39m, \u001b[38;5;241m*\u001b[39margs, \u001b[38;5;241m*\u001b[39m\u001b[38;5;241m*\u001b[39mkwargs):\n\u001b[0;32m     80\u001b[0m     \u001b[38;5;28;01mif\u001b[39;00m \u001b[38;5;28mself\u001b[39m\u001b[38;5;241m.\u001b[39mndim \u001b[38;5;241m==\u001b[39m \u001b[38;5;241m1\u001b[39m:\n\u001b[1;32m---> 81\u001b[0m         \u001b[38;5;28;01mreturn\u001b[39;00m \u001b[43mmeth\u001b[49m\u001b[43m(\u001b[49m\u001b[38;5;28;43mself\u001b[39;49m\u001b[43m,\u001b[49m\u001b[43m \u001b[49m\u001b[38;5;241;43m*\u001b[39;49m\u001b[43margs\u001b[49m\u001b[43m,\u001b[49m\u001b[43m \u001b[49m\u001b[38;5;241;43m*\u001b[39;49m\u001b[38;5;241;43m*\u001b[39;49m\u001b[43mkwargs\u001b[49m\u001b[43m)\u001b[49m\n\u001b[0;32m     83\u001b[0m     flags \u001b[38;5;241m=\u001b[39m \u001b[38;5;28mself\u001b[39m\u001b[38;5;241m.\u001b[39m_ndarray\u001b[38;5;241m.\u001b[39mflags\n\u001b[0;32m     84\u001b[0m     flat \u001b[38;5;241m=\u001b[39m \u001b[38;5;28mself\u001b[39m\u001b[38;5;241m.\u001b[39mravel(\u001b[38;5;124m\"\u001b[39m\u001b[38;5;124mK\u001b[39m\u001b[38;5;124m\"\u001b[39m)\n",
      "File \u001b[1;32m~\\Desktop\\han-toss\\venv\\Lib\\site-packages\\pandas\\core\\arrays\\categorical.py:1662\u001b[0m, in \u001b[0;36mCategorical.__array__\u001b[1;34m(self, dtype)\u001b[0m\n\u001b[0;32m   1660\u001b[0m ret \u001b[38;5;241m=\u001b[39m take_nd(\u001b[38;5;28mself\u001b[39m\u001b[38;5;241m.\u001b[39mcategories\u001b[38;5;241m.\u001b[39m_values, \u001b[38;5;28mself\u001b[39m\u001b[38;5;241m.\u001b[39m_codes)\n\u001b[0;32m   1661\u001b[0m \u001b[38;5;28;01mif\u001b[39;00m dtype \u001b[38;5;129;01mand\u001b[39;00m np\u001b[38;5;241m.\u001b[39mdtype(dtype) \u001b[38;5;241m!=\u001b[39m \u001b[38;5;28mself\u001b[39m\u001b[38;5;241m.\u001b[39mcategories\u001b[38;5;241m.\u001b[39mdtype:\n\u001b[1;32m-> 1662\u001b[0m     \u001b[38;5;28;01mreturn\u001b[39;00m np\u001b[38;5;241m.\u001b[39masarray(ret, dtype)\n\u001b[0;32m   1663\u001b[0m \u001b[38;5;66;03m# When we're a Categorical[ExtensionArray], like Interval,\u001b[39;00m\n\u001b[0;32m   1664\u001b[0m \u001b[38;5;66;03m# we need to ensure __array__ gets all the way to an\u001b[39;00m\n\u001b[0;32m   1665\u001b[0m \u001b[38;5;66;03m# ndarray.\u001b[39;00m\n\u001b[0;32m   1666\u001b[0m \u001b[38;5;28;01mreturn\u001b[39;00m np\u001b[38;5;241m.\u001b[39masarray(ret)\n",
      "\u001b[1;31mValueError\u001b[0m: could not convert string to float: 'Ideal'"
     ]
    }
   ],
   "source": [
    "df.corr()"
   ]
  },
  {
   "cell_type": "code",
   "execution_count": null,
   "metadata": {
    "colab": {
     "base_uri": "https://localhost:8080/"
    },
    "executionInfo": {
     "elapsed": 3,
     "status": "ok",
     "timestamp": 1718947192706,
     "user": {
      "displayName": "Ji-hoon Jung",
      "userId": "03169308685755834042"
     },
     "user_tz": -540
    },
    "id": "hc9GrCf9UN8k",
    "outputId": "33756347-99b5-4a04-9d37-68b8c0e67d02"
   },
   "outputs": [
    {
     "data": {
      "text/plain": [
       "(0.9102281885331865, ('rad', 'tax'))"
      ]
     },
     "execution_count": 49,
     "metadata": {},
     "output_type": "execute_result"
    }
   ],
   "source": [
    "# 대각선을 제외하고 상삼각 행렬만 남기기 (np.triu: 상삼각 행렬, k=1로 설정하여 대각선 바로 위부터 포함)\n",
    "# 코드\n",
    "import numpy as np\n",
    "\n",
    "corr_mat = df.corr()\n",
    "upper_tri = corr_mat.where(np.triu(np.ones(corr_mat.shape), k=1).astype(bool))\n",
    "\n",
    "# 상삼각 행렬에서 가장 큰 상관계수 찾기\n",
    "max_corr_value = upper_tri.stack().max()\n",
    "max_corr_pairs = upper_tri.stack().idxmax()\n",
    "\n",
    "# 코드\n",
    "max_corr_value, max_corr_pairs"
   ]
  },
  {
   "cell_type": "markdown",
   "metadata": {
    "id": "mdQz5VCmUWAV"
   },
   "source": [
    "## Section2 응용\n",
    "- tips 데이터를 이용하여 total_bill과 tip 사이의 관계를 분석한다."
   ]
  },
  {
   "cell_type": "markdown",
   "metadata": {
    "id": "DcRxgwrHMovj"
   },
   "source": [
    "### 문제 1\n",
    "- total bill을 이용하여 tip을 예측하는 모형을 구축하시오."
   ]
  },
  {
   "cell_type": "code",
   "execution_count": null,
   "metadata": {
    "colab": {
     "base_uri": "https://localhost:8080/"
    },
    "executionInfo": {
     "elapsed": 427,
     "status": "ok",
     "timestamp": 1718957927449,
     "user": {
      "displayName": "Ji-hoon Jung",
      "userId": "03169308685755834042"
     },
     "user_tz": -540
    },
    "id": "LtTTXrXRUYzv",
    "outputId": "005bfc77-8c21-47d2-847c-9561f62d65b9"
   },
   "outputs": [
    {
     "data": {
      "text/plain": [
       "((244, 7), (244, 7))"
      ]
     },
     "execution_count": 93,
     "metadata": {},
     "output_type": "execute_result"
    }
   ],
   "source": [
    "import seaborn as sns\n",
    "tips = sns.load_dataset(\"tips\")\n",
    "df = tips.copy()\n",
    "df = df.dropna()\n",
    "tips.shape, df.shape"
   ]
  },
  {
   "cell_type": "code",
   "execution_count": null,
   "metadata": {
    "colab": {
     "base_uri": "https://localhost:8080/"
    },
    "executionInfo": {
     "elapsed": 1,
     "status": "ok",
     "timestamp": 1718957929749,
     "user": {
      "displayName": "Ji-hoon Jung",
      "userId": "03169308685755834042"
     },
     "user_tz": -540
    },
    "id": "COXQjEL5NCWL",
    "outputId": "23de6a81-543b-4f7c-a5e4-58dd5e4a1483"
   },
   "outputs": [
    {
     "name": "stdout",
     "output_type": "stream",
     "text": [
      "                            OLS Regression Results                            \n",
      "==============================================================================\n",
      "Dep. Variable:                    tip   R-squared:                       0.457\n",
      "Model:                            OLS   Adj. R-squared:                  0.454\n",
      "Method:                 Least Squares   F-statistic:                     203.4\n",
      "Date:                Fri, 21 Jun 2024   Prob (F-statistic):           6.69e-34\n",
      "Time:                        08:18:49   Log-Likelihood:                -350.54\n",
      "No. Observations:                 244   AIC:                             705.1\n",
      "Df Residuals:                     242   BIC:                             712.1\n",
      "Df Model:                           1                                         \n",
      "Covariance Type:            nonrobust                                         \n",
      "==============================================================================\n",
      "                 coef    std err          t      P>|t|      [0.025      0.975]\n",
      "------------------------------------------------------------------------------\n",
      "const          0.9203      0.160      5.761      0.000       0.606       1.235\n",
      "total_bill     0.1050      0.007     14.260      0.000       0.091       0.120\n",
      "==============================================================================\n",
      "Omnibus:                       20.185   Durbin-Watson:                   2.151\n",
      "Prob(Omnibus):                  0.000   Jarque-Bera (JB):               37.750\n",
      "Skew:                           0.443   Prob(JB):                     6.35e-09\n",
      "Kurtosis:                       4.711   Cond. No.                         53.0\n",
      "==============================================================================\n",
      "\n",
      "Notes:\n",
      "[1] Standard Errors assume that the covariance matrix of the errors is correctly specified.\n"
     ]
    }
   ],
   "source": [
    "import statsmodels.api as sm\n",
    "\n",
    "X = df['total_bill']\n",
    "y = df['tip']\n",
    "\n",
    "X = sm.add_constant(X)\n",
    "model = sm.OLS(y, X).fit()\n",
    "print(model.summary())"
   ]
  },
  {
   "cell_type": "markdown",
   "metadata": {
    "id": "0zVsyILVNKHb"
   },
   "source": [
    "### 문제2\n",
    "- 구축된 모형에 대한 결정계수의 값을 출력하시오."
   ]
  },
  {
   "cell_type": "code",
   "execution_count": null,
   "metadata": {
    "colab": {
     "base_uri": "https://localhost:8080/"
    },
    "executionInfo": {
     "elapsed": 457,
     "status": "ok",
     "timestamp": 1718957935168,
     "user": {
      "displayName": "Ji-hoon Jung",
      "userId": "03169308685755834042"
     },
     "user_tz": -540
    },
    "id": "YYbnvWd8NO0B",
    "outputId": "036d3d65-8857-4674-9a26-ab170a4f4df3"
   },
   "outputs": [
    {
     "data": {
      "text/plain": [
       "0.457"
      ]
     },
     "execution_count": 95,
     "metadata": {},
     "output_type": "execute_result"
    }
   ],
   "source": [
    "# 코드\n",
    "import numpy as np\n",
    "\n",
    "np.round(model.rsquared, 3)"
   ]
  },
  {
   "cell_type": "markdown",
   "metadata": {
    "id": "xViNjQDPOtqn"
   },
   "source": [
    "### 문제3\n",
    "- tip에 대한 키의 오즈비(Odds Ratio, total bill의 변화가 몸무게 로그 오즈에 미치는 영향을 출력하시오)"
   ]
  },
  {
   "cell_type": "code",
   "execution_count": null,
   "metadata": {
    "colab": {
     "base_uri": "https://localhost:8080/"
    },
    "executionInfo": {
     "elapsed": 536,
     "status": "ok",
     "timestamp": 1718957938292,
     "user": {
      "displayName": "Ji-hoon Jung",
      "userId": "03169308685755834042"
     },
     "user_tz": -540
    },
    "id": "_XzI7YflO3O9",
    "outputId": "d2c1d26a-5b7d-4b8d-cbef-bf1c71bd263b"
   },
   "outputs": [
    {
     "data": {
      "text/plain": [
       "const         0.920270\n",
       "total_bill    0.105025\n",
       "dtype: float64"
      ]
     },
     "execution_count": 96,
     "metadata": {},
     "output_type": "execute_result"
    }
   ],
   "source": [
    "# 코드\n",
    "model.params"
   ]
  },
  {
   "cell_type": "code",
   "execution_count": null,
   "metadata": {
    "colab": {
     "base_uri": "https://localhost:8080/"
    },
    "executionInfo": {
     "elapsed": 395,
     "status": "ok",
     "timestamp": 1718957979225,
     "user": {
      "displayName": "Ji-hoon Jung",
      "userId": "03169308685755834042"
     },
     "user_tz": -540
    },
    "id": "uOjQKfNNO6ke",
    "outputId": "26857d4c-8ded-4d3c-c658-4d28b5207432"
   },
   "outputs": [
    {
     "data": {
      "text/plain": [
       "1.111"
      ]
     },
     "execution_count": 97,
     "metadata": {},
     "output_type": "execute_result"
    }
   ],
   "source": [
    "# 코드\n",
    "import numpy as np\n",
    "odds = np.exp(model.params['total_bill'])\n",
    "np.round(odds, 3)"
   ]
  },
  {
   "cell_type": "code",
   "execution_count": null,
   "metadata": {
    "colab": {
     "base_uri": "https://localhost:8080/"
    },
    "executionInfo": {
     "elapsed": 680,
     "status": "ok",
     "timestamp": 1718957982935,
     "user": {
      "displayName": "Ji-hoon Jung",
      "userId": "03169308685755834042"
     },
     "user_tz": -540
    },
    "id": "fu5fj9sfcmWJ",
    "outputId": "b2a013c6-a0de-4ba4-8654-c07770ae9f3d"
   },
   "outputs": [
    {
     "name": "stdout",
     "output_type": "stream",
     "text": [
      "Help on ufunc:\n",
      "\n",
      "exp = <ufunc 'exp'>\n",
      "    exp(x, /, out=None, *, where=True, casting='same_kind', order='K', dtype=None, subok=True[, signature, extobj])\n",
      "    \n",
      "    Calculate the exponential of all elements in the input array.\n",
      "    \n",
      "    Parameters\n",
      "    ----------\n",
      "    x : array_like\n",
      "        Input values.\n",
      "    out : ndarray, None, or tuple of ndarray and None, optional\n",
      "        A location into which the result is stored. If provided, it must have\n",
      "        a shape that the inputs broadcast to. If not provided or None,\n",
      "        a freshly-allocated array is returned. A tuple (possible only as a\n",
      "        keyword argument) must have length equal to the number of outputs.\n",
      "    where : array_like, optional\n",
      "        This condition is broadcast over the input. At locations where the\n",
      "        condition is True, the `out` array will be set to the ufunc result.\n",
      "        Elsewhere, the `out` array will retain its original value.\n",
      "        Note that if an uninitialized `out` array is created via the default\n",
      "        ``out=None``, locations within it where the condition is False will\n",
      "        remain uninitialized.\n",
      "    **kwargs\n",
      "        For other keyword-only arguments, see the\n",
      "        :ref:`ufunc docs <ufuncs.kwargs>`.\n",
      "    \n",
      "    Returns\n",
      "    -------\n",
      "    out : ndarray or scalar\n",
      "        Output array, element-wise exponential of `x`.\n",
      "        This is a scalar if `x` is a scalar.\n",
      "    \n",
      "    See Also\n",
      "    --------\n",
      "    expm1 : Calculate ``exp(x) - 1`` for all elements in the array.\n",
      "    exp2  : Calculate ``2**x`` for all elements in the array.\n",
      "    \n",
      "    Notes\n",
      "    -----\n",
      "    The irrational number ``e`` is also known as Euler's number.  It is\n",
      "    approximately 2.718281, and is the base of the natural logarithm,\n",
      "    ``ln`` (this means that, if :math:`x = \\ln y = \\log_e y`,\n",
      "    then :math:`e^x = y`. For real input, ``exp(x)`` is always positive.\n",
      "    \n",
      "    For complex arguments, ``x = a + ib``, we can write\n",
      "    :math:`e^x = e^a e^{ib}`.  The first term, :math:`e^a`, is already\n",
      "    known (it is the real argument, described above).  The second term,\n",
      "    :math:`e^{ib}`, is :math:`\\cos b + i \\sin b`, a function with\n",
      "    magnitude 1 and a periodic phase.\n",
      "    \n",
      "    References\n",
      "    ----------\n",
      "    .. [1] Wikipedia, \"Exponential function\",\n",
      "           https://en.wikipedia.org/wiki/Exponential_function\n",
      "    .. [2] M. Abramovitz and I. A. Stegun, \"Handbook of Mathematical Functions\n",
      "           with Formulas, Graphs, and Mathematical Tables,\" Dover, 1964, p. 69,\n",
      "           https://personal.math.ubc.ca/~cbm/aands/page_69.htm\n",
      "    \n",
      "    Examples\n",
      "    --------\n",
      "    Plot the magnitude and phase of ``exp(x)`` in the complex plane:\n",
      "    \n",
      "    >>> import matplotlib.pyplot as plt\n",
      "    \n",
      "    >>> x = np.linspace(-2*np.pi, 2*np.pi, 100)\n",
      "    >>> xx = x + 1j * x[:, np.newaxis] # a + ib over complex plane\n",
      "    >>> out = np.exp(xx)\n",
      "    \n",
      "    >>> plt.subplot(121)\n",
      "    >>> plt.imshow(np.abs(out),\n",
      "    ...            extent=[-2*np.pi, 2*np.pi, -2*np.pi, 2*np.pi], cmap='gray')\n",
      "    >>> plt.title('Magnitude of exp(x)')\n",
      "    \n",
      "    >>> plt.subplot(122)\n",
      "    >>> plt.imshow(np.angle(out),\n",
      "    ...            extent=[-2*np.pi, 2*np.pi, -2*np.pi, 2*np.pi], cmap='hsv')\n",
      "    >>> plt.title('Phase (angle) of exp(x)')\n",
      "    >>> plt.show()\n",
      "\n"
     ]
    }
   ],
   "source": [
    "help(np.exp)"
   ]
  },
  {
   "cell_type": "markdown",
   "metadata": {
    "id": "Q43tcEAvR3sm"
   },
   "source": [
    "## Section3 응용\n"
   ]
  },
  {
   "cell_type": "markdown",
   "metadata": {
    "id": "CvWWlIdRQlop"
   },
   "source": [
    "### 문제1\n",
    "- 독립변수 total_bill, tip으로 sex를 이용하여 성별(Male=0, Female=1)을 분류하는 모형을 구축하시오.\n",
    "- statsmodels.api에 포함되어 있는 Logit 함수를 이용하시오."
   ]
  },
  {
   "cell_type": "code",
   "execution_count": null,
   "metadata": {
    "colab": {
     "base_uri": "https://localhost:8080/"
    },
    "executionInfo": {
     "elapsed": 431,
     "status": "ok",
     "timestamp": 1718958002251,
     "user": {
      "displayName": "Ji-hoon Jung",
      "userId": "03169308685755834042"
     },
     "user_tz": -540
    },
    "id": "wyjR_bWyQh3H",
    "outputId": "5759f72a-027a-4d82-9810-bd50b5503b55"
   },
   "outputs": [
    {
     "data": {
      "text/plain": [
       "((244, 7), (244, 7))"
      ]
     },
     "execution_count": 99,
     "metadata": {},
     "output_type": "execute_result"
    }
   ],
   "source": [
    "# 코드\n",
    "import seaborn as sns\n",
    "tips = sns.load_dataset('tips')\n",
    "\n",
    "df = tips.copy()\n",
    "df = df.dropna() # 결측치가 있는 행 제거\n",
    "tips.shape, df.shape"
   ]
  },
  {
   "cell_type": "code",
   "execution_count": null,
   "metadata": {
    "colab": {
     "base_uri": "https://localhost:8080/"
    },
    "executionInfo": {
     "elapsed": 486,
     "status": "ok",
     "timestamp": 1718958021582,
     "user": {
      "displayName": "Ji-hoon Jung",
      "userId": "03169308685755834042"
     },
     "user_tz": -540
    },
    "id": "nZTCt9HMQ197",
    "outputId": "6e36cca9-6ac3-42a3-a58e-3d1bdf1e2a9b"
   },
   "outputs": [
    {
     "name": "stdout",
     "output_type": "stream",
     "text": [
      "Optimization terminated successfully.\n",
      "         Current function value: 0.640454\n",
      "         Iterations 5\n",
      "                           Logit Regression Results                           \n",
      "==============================================================================\n",
      "Dep. Variable:                  성별_변환   No. Observations:                  244\n",
      "Model:                          Logit   Df Residuals:                      242\n",
      "Method:                           MLE   Df Model:                            1\n",
      "Date:                Fri, 21 Jun 2024   Pseudo R-squ.:                 0.01682\n",
      "Time:                        08:20:21   Log-Likelihood:                -156.27\n",
      "converged:                       True   LL-Null:                       -158.94\n",
      "Covariance Type:            nonrobust   LLR p-value:                   0.02075\n",
      "==============================================================================\n",
      "                 coef    std err          z      P>|z|      [0.025      0.975]\n",
      "------------------------------------------------------------------------------\n",
      "total_bill    -0.0375      0.020     -1.852      0.064      -0.077       0.002\n",
      "tip            0.0414      0.130      0.317      0.751      -0.214       0.297\n",
      "==============================================================================\n"
     ]
    }
   ],
   "source": [
    "# 코드\n",
    "import statsmodels.api as sm\n",
    "\n",
    "df['성별_변환'] = df['sex'].replace({'Male':0, 'Female':1})\n",
    "X = df.loc[:, ['total_bill', 'tip']]\n",
    "y = df['성별_변환']\n",
    "\n",
    "model = sm.Logit(y, X).fit()\n",
    "print(model.summary())"
   ]
  },
  {
   "cell_type": "markdown",
   "metadata": {
    "id": "VoTWZHBsQiJZ"
   },
   "source": [
    "### 문제2\n",
    "- 키, 몸무게에 대한 유의확률을 출력하고 최대 유의확률 값을 출력하시오."
   ]
  },
  {
   "cell_type": "code",
   "execution_count": null,
   "metadata": {
    "colab": {
     "base_uri": "https://localhost:8080/"
    },
    "executionInfo": {
     "elapsed": 428,
     "status": "ok",
     "timestamp": 1718958072476,
     "user": {
      "displayName": "Ji-hoon Jung",
      "userId": "03169308685755834042"
     },
     "user_tz": -540
    },
    "id": "noVxdvTpROiR",
    "outputId": "0ae3f956-9148-4415-93f9-c7d801084848"
   },
   "outputs": [
    {
     "data": {
      "text/plain": [
       "total_bill    0.064089\n",
       "tip           0.751186\n",
       "dtype: float64"
      ]
     },
     "execution_count": 101,
     "metadata": {},
     "output_type": "execute_result"
    }
   ],
   "source": [
    "# 코드\n",
    "model.pvalues"
   ]
  },
  {
   "cell_type": "code",
   "execution_count": null,
   "metadata": {
    "colab": {
     "base_uri": "https://localhost:8080/"
    },
    "executionInfo": {
     "elapsed": 493,
     "status": "ok",
     "timestamp": 1718958082421,
     "user": {
      "displayName": "Ji-hoon Jung",
      "userId": "03169308685755834042"
     },
     "user_tz": -540
    },
    "id": "NaveNUDdRZ4f",
    "outputId": "2d3d14f7-8f19-4142-c14b-db89eb902c01"
   },
   "outputs": [
    {
     "data": {
      "text/plain": [
       "0.7511855802404372"
      ]
     },
     "execution_count": 102,
     "metadata": {},
     "output_type": "execute_result"
    }
   ],
   "source": [
    "# 코드\n",
    "import numpy as np\n",
    "max_pvalue = np.max(model.pvalues)\n",
    "max_pvalue"
   ]
  },
  {
   "cell_type": "markdown",
   "metadata": {
    "id": "23ofRMDYTWH6"
   },
   "source": [
    "### 문제3\n",
    "- 훈련:평가=70:30로 구분하여 평가 데이터에 대한 혼동행렬 ROC, AUC를 출력한다."
   ]
  },
  {
   "cell_type": "code",
   "execution_count": null,
   "metadata": {
    "colab": {
     "base_uri": "https://localhost:8080/",
     "height": 80
    },
    "executionInfo": {
     "elapsed": 4,
     "status": "ok",
     "timestamp": 1718947193882,
     "user": {
      "displayName": "Ji-hoon Jung",
      "userId": "03169308685755834042"
     },
     "user_tz": -540
    },
    "id": "pMWeq4qen0Xt",
    "outputId": "a4a4ceb2-b2ba-4bc7-b98a-0042e607acfe"
   },
   "outputs": [
    {
     "data": {
      "application/vnd.google.colaboratory.intrinsic+json": {
       "summary": "{\n  \"name\": \"tips\",\n  \"rows\": 244,\n  \"fields\": [\n    {\n      \"column\": \"total_bill\",\n      \"properties\": {\n        \"dtype\": \"number\",\n        \"std\": 8.902411954856856,\n        \"min\": 3.07,\n        \"max\": 50.81,\n        \"num_unique_values\": 229,\n        \"samples\": [\n          22.12,\n          20.23,\n          14.78\n        ],\n        \"semantic_type\": \"\",\n        \"description\": \"\"\n      }\n    },\n    {\n      \"column\": \"tip\",\n      \"properties\": {\n        \"dtype\": \"number\",\n        \"std\": 1.3836381890011822,\n        \"min\": 1.0,\n        \"max\": 10.0,\n        \"num_unique_values\": 123,\n        \"samples\": [\n          3.35,\n          1.5,\n          6.73\n        ],\n        \"semantic_type\": \"\",\n        \"description\": \"\"\n      }\n    },\n    {\n      \"column\": \"sex\",\n      \"properties\": {\n        \"dtype\": \"category\",\n        \"num_unique_values\": 2,\n        \"samples\": [\n          \"Male\",\n          \"Female\"\n        ],\n        \"semantic_type\": \"\",\n        \"description\": \"\"\n      }\n    },\n    {\n      \"column\": \"smoker\",\n      \"properties\": {\n        \"dtype\": \"category\",\n        \"num_unique_values\": 2,\n        \"samples\": [\n          \"Yes\",\n          \"No\"\n        ],\n        \"semantic_type\": \"\",\n        \"description\": \"\"\n      }\n    },\n    {\n      \"column\": \"day\",\n      \"properties\": {\n        \"dtype\": \"category\",\n        \"num_unique_values\": 4,\n        \"samples\": [\n          \"Sat\",\n          \"Fri\"\n        ],\n        \"semantic_type\": \"\",\n        \"description\": \"\"\n      }\n    },\n    {\n      \"column\": \"time\",\n      \"properties\": {\n        \"dtype\": \"category\",\n        \"num_unique_values\": 2,\n        \"samples\": [\n          \"Lunch\",\n          \"Dinner\"\n        ],\n        \"semantic_type\": \"\",\n        \"description\": \"\"\n      }\n    },\n    {\n      \"column\": \"size\",\n      \"properties\": {\n        \"dtype\": \"number\",\n        \"std\": 0,\n        \"min\": 1,\n        \"max\": 6,\n        \"num_unique_values\": 6,\n        \"samples\": [\n          2,\n          3\n        ],\n        \"semantic_type\": \"\",\n        \"description\": \"\"\n      }\n    }\n  ]\n}",
       "type": "dataframe",
       "variable_name": "tips"
      },
      "text/html": [
       "\n",
       "  <div id=\"df-fe631210-748a-4aea-a4ff-8627ac0abf92\" class=\"colab-df-container\">\n",
       "    <div>\n",
       "<style scoped>\n",
       "    .dataframe tbody tr th:only-of-type {\n",
       "        vertical-align: middle;\n",
       "    }\n",
       "\n",
       "    .dataframe tbody tr th {\n",
       "        vertical-align: top;\n",
       "    }\n",
       "\n",
       "    .dataframe thead th {\n",
       "        text-align: right;\n",
       "    }\n",
       "</style>\n",
       "<table border=\"1\" class=\"dataframe\">\n",
       "  <thead>\n",
       "    <tr style=\"text-align: right;\">\n",
       "      <th></th>\n",
       "      <th>total_bill</th>\n",
       "      <th>tip</th>\n",
       "      <th>sex</th>\n",
       "      <th>smoker</th>\n",
       "      <th>day</th>\n",
       "      <th>time</th>\n",
       "      <th>size</th>\n",
       "    </tr>\n",
       "  </thead>\n",
       "  <tbody>\n",
       "    <tr>\n",
       "      <th>0</th>\n",
       "      <td>16.99</td>\n",
       "      <td>1.01</td>\n",
       "      <td>Female</td>\n",
       "      <td>No</td>\n",
       "      <td>Sun</td>\n",
       "      <td>Dinner</td>\n",
       "      <td>2</td>\n",
       "    </tr>\n",
       "  </tbody>\n",
       "</table>\n",
       "</div>\n",
       "    <div class=\"colab-df-buttons\">\n",
       "\n",
       "  <div class=\"colab-df-container\">\n",
       "    <button class=\"colab-df-convert\" onclick=\"convertToInteractive('df-fe631210-748a-4aea-a4ff-8627ac0abf92')\"\n",
       "            title=\"Convert this dataframe to an interactive table.\"\n",
       "            style=\"display:none;\">\n",
       "\n",
       "  <svg xmlns=\"http://www.w3.org/2000/svg\" height=\"24px\" viewBox=\"0 -960 960 960\">\n",
       "    <path d=\"M120-120v-720h720v720H120Zm60-500h600v-160H180v160Zm220 220h160v-160H400v160Zm0 220h160v-160H400v160ZM180-400h160v-160H180v160Zm440 0h160v-160H620v160ZM180-180h160v-160H180v160Zm440 0h160v-160H620v160Z\"/>\n",
       "  </svg>\n",
       "    </button>\n",
       "\n",
       "  <style>\n",
       "    .colab-df-container {\n",
       "      display:flex;\n",
       "      gap: 12px;\n",
       "    }\n",
       "\n",
       "    .colab-df-convert {\n",
       "      background-color: #E8F0FE;\n",
       "      border: none;\n",
       "      border-radius: 50%;\n",
       "      cursor: pointer;\n",
       "      display: none;\n",
       "      fill: #1967D2;\n",
       "      height: 32px;\n",
       "      padding: 0 0 0 0;\n",
       "      width: 32px;\n",
       "    }\n",
       "\n",
       "    .colab-df-convert:hover {\n",
       "      background-color: #E2EBFA;\n",
       "      box-shadow: 0px 1px 2px rgba(60, 64, 67, 0.3), 0px 1px 3px 1px rgba(60, 64, 67, 0.15);\n",
       "      fill: #174EA6;\n",
       "    }\n",
       "\n",
       "    .colab-df-buttons div {\n",
       "      margin-bottom: 4px;\n",
       "    }\n",
       "\n",
       "    [theme=dark] .colab-df-convert {\n",
       "      background-color: #3B4455;\n",
       "      fill: #D2E3FC;\n",
       "    }\n",
       "\n",
       "    [theme=dark] .colab-df-convert:hover {\n",
       "      background-color: #434B5C;\n",
       "      box-shadow: 0px 1px 3px 1px rgba(0, 0, 0, 0.15);\n",
       "      filter: drop-shadow(0px 1px 2px rgba(0, 0, 0, 0.3));\n",
       "      fill: #FFFFFF;\n",
       "    }\n",
       "  </style>\n",
       "\n",
       "    <script>\n",
       "      const buttonEl =\n",
       "        document.querySelector('#df-fe631210-748a-4aea-a4ff-8627ac0abf92 button.colab-df-convert');\n",
       "      buttonEl.style.display =\n",
       "        google.colab.kernel.accessAllowed ? 'block' : 'none';\n",
       "\n",
       "      async function convertToInteractive(key) {\n",
       "        const element = document.querySelector('#df-fe631210-748a-4aea-a4ff-8627ac0abf92');\n",
       "        const dataTable =\n",
       "          await google.colab.kernel.invokeFunction('convertToInteractive',\n",
       "                                                    [key], {});\n",
       "        if (!dataTable) return;\n",
       "\n",
       "        const docLinkHtml = 'Like what you see? Visit the ' +\n",
       "          '<a target=\"_blank\" href=https://colab.research.google.com/notebooks/data_table.ipynb>data table notebook</a>'\n",
       "          + ' to learn more about interactive tables.';\n",
       "        element.innerHTML = '';\n",
       "        dataTable['output_type'] = 'display_data';\n",
       "        await google.colab.output.renderOutput(dataTable, element);\n",
       "        const docLink = document.createElement('div');\n",
       "        docLink.innerHTML = docLinkHtml;\n",
       "        element.appendChild(docLink);\n",
       "      }\n",
       "    </script>\n",
       "  </div>\n",
       "\n",
       "\n",
       "    </div>\n",
       "  </div>\n"
      ],
      "text/plain": [
       "   total_bill   tip     sex smoker  day    time  size\n",
       "0       16.99  1.01  Female     No  Sun  Dinner     2"
      ]
     },
     "execution_count": 60,
     "metadata": {},
     "output_type": "execute_result"
    }
   ],
   "source": [
    "tips.head(1)"
   ]
  },
  {
   "cell_type": "code",
   "execution_count": null,
   "metadata": {
    "colab": {
     "base_uri": "https://localhost:8080/",
     "height": 804
    },
    "executionInfo": {
     "elapsed": 652,
     "status": "ok",
     "timestamp": 1718947194531,
     "user": {
      "displayName": "Ji-hoon Jung",
      "userId": "03169308685755834042"
     },
     "user_tz": -540
    },
    "id": "432aG4xIQVTW",
    "outputId": "aada53fe-29c4-4f09-e128-06d08c7c99e1"
   },
   "outputs": [
    {
     "name": "stdout",
     "output_type": "stream",
     "text": [
      "(244, 7) (244, 8)\n",
      "(244, 2) (244,)\n",
      "Optimization terminated successfully.\n",
      "         Current function value: 0.671224\n",
      "         Iterations 4\n",
      "                           Logit Regression Results                           \n",
      "==============================================================================\n",
      "Dep. Variable:                  성별_변환   No. Observations:                  170\n",
      "Model:                          Logit   Df Residuals:                      168\n",
      "Method:                           MLE   Df Model:                            1\n",
      "Date:                Fri, 21 Jun 2024   Pseudo R-squ.:               -0.004898\n",
      "Time:                        05:19:53   Log-Likelihood:                -114.11\n",
      "converged:                       True   LL-Null:                       -113.55\n",
      "Covariance Type:            nonrobust   LLR p-value:                     1.000\n",
      "==============================================================================\n",
      "                 coef    std err          z      P>|z|      [0.025      0.975]\n",
      "------------------------------------------------------------------------------\n",
      "total_bill    -0.0275      0.022     -1.256      0.209      -0.070       0.015\n",
      "tip            0.2893      0.148      1.955      0.051      -0.001       0.579\n",
      "==============================================================================\n"
     ]
    },
    {
     "data": {
      "image/png": "[encoded data removed]",
      "text/plain": [
       "<Figure size 640x480 with 1 Axes>"
      ]
     },
     "metadata": {},
     "output_type": "display_data"
    }
   ],
   "source": [
    "# 머신러닝 문제\n",
    "from sklearn.model_selection import train_test_split\n",
    "from sklearn.metrics import accuracy_score, confusion_matrix, roc_curve, auc, roc_auc_score\n",
    "import pandas as pd\n",
    "import numpy as np\n",
    "import statsmodels.api as sm\n",
    "import seaborn as sns\n",
    "import matplotlib.pyplot as plt\n",
    "\n",
    "np.random.seed(12)\n",
    "\n",
    "tips = sns.load_dataset(\"tips\")\n",
    "df = tips.copy()\n",
    "df = df.dropna()\n",
    "df.loc[:, '성별_변환'] = df['smoker'].replace({'Yes':0, 'No':1})\n",
    "print(tips.shape, df.shape)\n",
    "\n",
    "X = df.loc[:, ['total_bill', 'tip']]\n",
    "y = df['성별_변환']\n",
    "\n",
    "print(X.shape, y.shape)\n",
    "\n",
    "# 데이터셋 분리\n",
    "X_train, X_test, y_train, y_test = train_test_split(\n",
    "    X, y, test_size=0.3, random_state=12\n",
    ")\n",
    "\n",
    "# 모델 생성\n",
    "model = sm.Logit(y_train, X_train).fit()\n",
    "print(model.summary())\n",
    "\n",
    "# 모델 예측값 생성\n",
    "y_pred_proba = model.predict(X_test)\n",
    "y_pred = np.where(y_pred_proba >= 0.5, 1, 0)\n",
    "\n",
    "confusion_matrix(y_test, y_pred)\n",
    "# roc_auc_score(y_test, y_pred) AUC 점수를 바로 구하는 코드\n",
    "\n",
    "fpr, tpr, thresholds = roc_curve(y_test, y_pred)\n",
    "auc(fpr, tpr) # AUC 점수를 ROC_CURVE 메서드 활용\n",
    "\n",
    "fig, ax = plt.subplots()\n",
    "ax.plot(fpr, tpr, color = 'darkblue')\n",
    "ax.plot([0, 1], [0, 1], lw=2, linestyle='--')\n",
    "\n",
    "plt.show()"
   ]
  }
 ],
 "metadata": {
  "colab": {
   "provenance": [],
   "toc_visible": true
  },
  "kernelspec": {
   "display_name": "Python 3 (ipykernel)",
   "language": "python",
   "name": "python3"
  },
  "language_info": {
   "codemirror_mode": {
    "name": "ipython",
    "version": 3
   },
   "file_extension": ".py",
   "mimetype": "text/x-python",
   "name": "python",
   "nbconvert_exporter": "python",
   "pygments_lexer": "ipython3",
   "version": "3.11.7"
  }
 },
 "nbformat": 4,
 "nbformat_minor": 4
}
