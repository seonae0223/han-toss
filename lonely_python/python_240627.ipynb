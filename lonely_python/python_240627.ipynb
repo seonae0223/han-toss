{
 "cells": [
  {
   "cell_type": "markdown",
   "id": "84235b3c-1730-4f47-bc44-4ea0e023768c",
   "metadata": {},
   "source": [
    "# 목차1 - 리스트와 튜플"
   ]
  },
  {
   "cell_type": "code",
   "execution_count": 46,
   "id": "465ee746-39f4-43cb-b61f-d169e9467b81",
   "metadata": {},
   "outputs": [
    {
     "data": {
      "text/plain": [
       "273"
      ]
     },
     "execution_count": 46,
     "metadata": {},
     "output_type": "execute_result"
    }
   ],
   "source": [
    "list_a = [273, 32, 'A', True, [1, 2, 3]]\n",
    "list_a[0]"
   ]
  },
  {
   "cell_type": "code",
   "execution_count": 47,
   "id": "09541719-2150-40e8-9c79-6ca9b347ede2",
   "metadata": {},
   "outputs": [
    {
     "data": {
      "text/plain": [
       "32"
      ]
     },
     "execution_count": 47,
     "metadata": {},
     "output_type": "execute_result"
    }
   ],
   "source": [
    "list_a[1]"
   ]
  },
  {
   "cell_type": "code",
   "execution_count": 48,
   "id": "efdf7dfd-b36a-4b39-907b-649629635e75",
   "metadata": {},
   "outputs": [
    {
     "data": {
      "text/plain": [
       "[1, 2, 3]"
      ]
     },
     "execution_count": 48,
     "metadata": {},
     "output_type": "execute_result"
    }
   ],
   "source": [
    "list_a[4]"
   ]
  },
  {
   "cell_type": "code",
   "execution_count": 5,
   "id": "ab72a995-5723-4ea1-ab3b-4c3769dd1a9f",
   "metadata": {},
   "outputs": [
    {
     "data": {
      "text/plain": [
       "2"
      ]
     },
     "execution_count": 5,
     "metadata": {},
     "output_type": "execute_result"
    }
   ],
   "source": [
    "#중첩된 리스트 추출하기\n",
    "list_a[4][1]"
   ]
  },
  {
   "cell_type": "code",
   "execution_count": 6,
   "id": "410c80f5-23af-4a96-8b6b-44439f1aa66c",
   "metadata": {},
   "outputs": [
    {
     "data": {
      "text/plain": [
       "[1, 2, 3, 4, 5, 6]"
      ]
     },
     "execution_count": 6,
     "metadata": {},
     "output_type": "execute_result"
    }
   ],
   "source": [
    "# p.196\n",
    "list_a = [1, 2, 3]\n",
    "list_b = [4, 5, 6]\n",
    "list_a + list_b"
   ]
  },
  {
   "cell_type": "code",
   "execution_count": 7,
   "id": "1cbd8b4e-075c-495e-a041-c5cf7ddc07ea",
   "metadata": {},
   "outputs": [
    {
     "data": {
      "text/plain": [
       "[1, 2, 3, 1, 2, 3, 1, 2, 3]"
      ]
     },
     "execution_count": 7,
     "metadata": {},
     "output_type": "execute_result"
    }
   ],
   "source": [
    "list_a * 3"
   ]
  },
  {
   "cell_type": "code",
   "execution_count": 9,
   "id": "51f4e2f0-9d89-4426-b8fa-4c1642a2efc9",
   "metadata": {},
   "outputs": [
    {
     "ename": "TypeError",
     "evalue": "can only concatenate list (not \"int\") to list",
     "output_type": "error",
     "traceback": [
      "\u001b[1;31m---------------------------------------------------------------------------\u001b[0m",
      "\u001b[1;31mTypeError\u001b[0m                                 Traceback (most recent call last)",
      "Cell \u001b[1;32mIn[9], line 1\u001b[0m\n\u001b[1;32m----> 1\u001b[0m \u001b[43mlist_a\u001b[49m\u001b[43m \u001b[49m\u001b[38;5;241;43m+\u001b[39;49m\u001b[43m \u001b[49m\u001b[38;5;241;43m4\u001b[39;49m\n",
      "\u001b[1;31mTypeError\u001b[0m: can only concatenate list (not \"int\") to list"
     ]
    }
   ],
   "source": [
    "# list_a는 리스트 형태이므로, 숫자 4를 바로 더해줄 수 없음\n",
    "list_a + 4"
   ]
  },
  {
   "cell_type": "markdown",
   "id": "cf1361ea-61fb-40fa-bfea-22e297a351be",
   "metadata": {},
   "source": [
    "- 숫자는 scalar 자료형\n",
    "- 문자는 sequence 자료형"
   ]
  },
  {
   "cell_type": "code",
   "execution_count": 10,
   "id": "c44be733-1e57-4ac4-bb9f-2309d4701352",
   "metadata": {},
   "outputs": [
    {
     "data": {
      "text/plain": [
       "[1, 2, 3, 4]"
      ]
     },
     "execution_count": 10,
     "metadata": {},
     "output_type": "execute_result"
    }
   ],
   "source": [
    "# 리스트 형태에 맞게 [4] 로 더해주어야 연산 가능\n",
    "list_a + [4]"
   ]
  },
  {
   "cell_type": "code",
   "execution_count": 12,
   "id": "30e9e1d7-632d-4079-9bf4-68949d59636f",
   "metadata": {},
   "outputs": [
    {
     "data": {
      "text/plain": [
       "[1, 2, 3, 'a']"
      ]
     },
     "execution_count": 12,
     "metadata": {},
     "output_type": "execute_result"
    }
   ],
   "source": [
    "# 문자는 list('a') 형태로 연산 가능\n",
    "# 숫자는 list('3') 형태로 연산 불가능\n",
    "list_a + list('a')"
   ]
  },
  {
   "cell_type": "code",
   "execution_count": 13,
   "id": "ea9d93eb-c7d7-42e0-9a0c-11fd4074f95e",
   "metadata": {},
   "outputs": [
    {
     "data": {
      "text/plain": [
       "[273, 32, 410, True, [1, 2, 3]]"
      ]
     },
     "execution_count": 13,
     "metadata": {},
     "output_type": "execute_result"
    }
   ],
   "source": [
    "list_a = [273, 32, 'A', True, [1, 2, 3]]\n",
    "\n",
    "#list_a[인덱스 번호] = 새로운 값\n",
    "list_a[2] = 410 # list_a[2] 인덱스 번호에 있었던 'A' 문자를 410로 변경\n",
    "list_a"
   ]
  },
  {
   "cell_type": "code",
   "execution_count": 14,
   "id": "a44163f9-6ed9-4db5-965c-30408e31c735",
   "metadata": {},
   "outputs": [
    {
     "data": {
      "text/plain": [
       "5"
      ]
     },
     "execution_count": 14,
     "metadata": {},
     "output_type": "execute_result"
    }
   ],
   "source": [
    "# 리스트의 길이 출력하기\n",
    "len(list_a)"
   ]
  },
  {
   "cell_type": "markdown",
   "id": "ae9b2633-fd07-43d0-a4e2-38383bec881a",
   "metadata": {},
   "source": [
    "## append()와 insert()"
   ]
  },
  {
   "cell_type": "code",
   "execution_count": 17,
   "id": "28209d8c-b1b6-4fc7-a0d2-35d527bb867c",
   "metadata": {},
   "outputs": [
    {
     "data": {
      "text/plain": [
       "[1, 2, 3, 4, 'A']"
      ]
     },
     "execution_count": 17,
     "metadata": {},
     "output_type": "execute_result"
    }
   ],
   "source": [
    "#append() : 리스트의 끝에 항목을 더하는 메서드\n",
    "#a[len(a):] = [x] 와 동등\n",
    "\n",
    "list_a = [1, 2, 3]\n",
    "list_a.append(4)\n",
    "list_a.append(\"A\")\n",
    "list_a"
   ]
  },
  {
   "cell_type": "code",
   "execution_count": 18,
   "id": "8b0e2e4b-ed08-44eb-92c4-e1f988aa35d3",
   "metadata": {},
   "outputs": [
    {
     "data": {
      "text/plain": [
       "[1, 100, 2, 3, 4, 'A']"
      ]
     },
     "execution_count": 18,
     "metadata": {},
     "output_type": "execute_result"
    }
   ],
   "source": [
    "#insert() : 주어진 위치에 항목을 삽입하는 메서드\n",
    "#첫 번째 인자는 삽입되는 요소가 갖게 될 인덱스\n",
    "#a.insert(0, x) 는 리스트의 처음에 삽입하고, a.insert(len(a), x) 는 a.append(x) 와 동등\n",
    "\n",
    "list_a.insert(1, 100) #list_a의 [1] 인덱스에 100을 삽입하기\n",
    "list_a"
   ]
  },
  {
   "cell_type": "code",
   "execution_count": 20,
   "id": "9c6a7a84-ef7c-4b4d-ad29-4a5d3425e5a2",
   "metadata": {},
   "outputs": [
    {
     "data": {
      "text/plain": [
       "[1, 50, 2, 3, 5, 'A']"
      ]
     },
     "execution_count": 20,
     "metadata": {},
     "output_type": "execute_result"
    }
   ],
   "source": [
    "list_a =[1, 2, 3]\n",
    "list_a.append(5)\n",
    "list_a.append('A')\n",
    "list_a.insert(1, 50)\n",
    "list_a"
   ]
  },
  {
   "cell_type": "markdown",
   "id": "a4a210c3-270e-4fb1-8d7d-c07dd0c952e8",
   "metadata": {},
   "source": [
    "## extend()\n",
    "- 리스트의 끝에 이터러블의 모든 항목을 덧붙여서 확장하는 메서드\n",
    "- 이터러블 자료형만 사용 가능\n",
    "- 이터러블(iterable) : 반복(iteration)할 수 있는 객체를 의미\n",
    "- 이터러블 자료형 종류 : 리스트(list), 튜플(tuple), 문자열(string), 딕셔너리(dictionary), 세트(set)\n",
    "- 스칼라(scalar) : 단일 값을 나타내는 자료형\n",
    "- 스칼라 자료형 종류 : 정수형(int), 부동 소수점형(float), 문자열(string, 단일 문자), 불린형(boolean)"
   ]
  },
  {
   "cell_type": "code",
   "execution_count": 22,
   "id": "03ca37c6-b303-4f59-8ce7-87398dceeb70",
   "metadata": {},
   "outputs": [
    {
     "data": {
      "text/plain": [
       "[1, 2, 3, 'a']"
      ]
     },
     "execution_count": 22,
     "metadata": {},
     "output_type": "execute_result"
    }
   ],
   "source": [
    "#extend() : 리스트의 끝에 이터러블의 모든 항목을 덧붙여서 확장\n",
    "list_a = [1, 2, 3]\n",
    "list_a.extend(\"a\")\n",
    "list_a"
   ]
  },
  {
   "cell_type": "markdown",
   "id": "d3d3aa3a-8d01-4546-95e8-92d272c74575",
   "metadata": {},
   "source": [
    "## 인덱스로 제거하기: del 키워드, pop() 키워드\n"
   ]
  },
  {
   "cell_type": "code",
   "execution_count": 23,
   "id": "c152fefa-aee6-4321-bfb5-438a784e2f40",
   "metadata": {},
   "outputs": [
    {
     "data": {
      "text/plain": [
       "['b', 'c', 'd']"
      ]
     },
     "execution_count": 23,
     "metadata": {},
     "output_type": "execute_result"
    }
   ],
   "source": [
    "list_a = [\"a\", \"b\", \"c\", \"d\"]\n",
    "del list_a[0]\n",
    "list_a"
   ]
  },
  {
   "cell_type": "code",
   "execution_count": 69,
   "id": "091b93b8-e85f-4f67-9734-fdf1b79f32dd",
   "metadata": {},
   "outputs": [
    {
     "data": {
      "text/plain": [
       "[6, 7, 3]"
      ]
     },
     "execution_count": 69,
     "metadata": {},
     "output_type": "execute_result"
    }
   ],
   "source": [
    "list_b = [1, 2, 4, 6, 7,3]\n",
    "del list_b[0:3]\n",
    "list_b"
   ]
  },
  {
   "cell_type": "code",
   "execution_count": 29,
   "id": "b4181c6c-d239-421a-b0a9-6c61faa5c86b",
   "metadata": {},
   "outputs": [
    {
     "data": {
      "text/plain": [
       "['a', 'c', 'd']"
      ]
     },
     "execution_count": 29,
     "metadata": {},
     "output_type": "execute_result"
    }
   ],
   "source": [
    "#에러1) pop([i]) 형태로, pop()은 인덱스 번호를 사용해서 사용해야 함.\n",
    "#TypeError: 'str' object cannot be interpreted as an integer\n",
    "#list_c = [\"a\", \"b\", \"c\", \"d\"]\n",
    "#list_c.pop(\"a\")\n",
    "#list_c\n",
    "\n",
    "#해결1)\n",
    "#pop([i]) 형태로, pop()은 인덱스 번호를 넣어서 사용해야 함.\n",
    "#pop(인덱스번호) 형태로 사용\n",
    "list_c = [\"a\", \"b\", \"c\", \"d\"]\n",
    "list_c.pop(1)\n",
    "list_c"
   ]
  },
  {
   "cell_type": "markdown",
   "id": "67e13f61-fb91-4453-944b-4e02b113d828",
   "metadata": {},
   "source": [
    "## 값으로 제거하기: remove()\n",
    "- 인덱스 번호가 아닌 실제 값을 넣어서 사용한다.\n",
    "- 리스트에서 값이 x 와 같은 첫 번째 항목을 삭제한다. 그런 항목이 없으면 ValueError를 일으킵니다.\n",
    "- remove(실제값)\n",
    "  "
   ]
  },
  {
   "cell_type": "code",
   "execution_count": 32,
   "id": "1b768733-6766-4c75-bbd8-b4193f5009db",
   "metadata": {},
   "outputs": [
    {
     "data": {
      "text/plain": [
       "['b', 'a', 'c', 'd']"
      ]
     },
     "execution_count": 32,
     "metadata": {},
     "output_type": "execute_result"
    }
   ],
   "source": [
    "list_a = [\"a\", \"b\", \"a\", \"c\", \"d\"]\n",
    "list_a.remove(\"a\")\n",
    "list_a"
   ]
  },
  {
   "cell_type": "markdown",
   "id": "8dbaa7a2-2e15-44d9-8371-f11ee83226c8",
   "metadata": {},
   "source": [
    "## 모두 제거하기"
   ]
  },
  {
   "cell_type": "code",
   "execution_count": 33,
   "id": "3d0f7f90-a200-42b8-94ef-1be00296e73e",
   "metadata": {},
   "outputs": [
    {
     "data": {
      "text/plain": [
       "[]"
      ]
     },
     "execution_count": 33,
     "metadata": {},
     "output_type": "execute_result"
    }
   ],
   "source": [
    "list_a = [\"a\", \"b\", \"a\", \"c\", \"d\"]\n",
    "list_a.clear()\n",
    "list_a"
   ]
  },
  {
   "cell_type": "markdown",
   "id": "c0664515-f5d9-46bf-b868-7216b93b89ce",
   "metadata": {},
   "source": [
    "## 리스트 정렬하기 : sort()\n",
    "- 리스트의 항목들을 제자리에서 오름차순으로 정렬\n",
    "- sort(*, key=None, reverse=False) 형식\n",
    "- sort(reverse=True) : 내림차순으로 정렬"
   ]
  },
  {
   "cell_type": "code",
   "execution_count": 35,
   "id": "8244e906-0962-4e02-876a-66dd19accf77",
   "metadata": {},
   "outputs": [
    {
     "data": {
      "text/plain": [
       "[32, 52, 103, 273]"
      ]
     },
     "execution_count": 35,
     "metadata": {},
     "output_type": "execute_result"
    }
   ],
   "source": [
    "list_a = [52, 273, 103, 32]\n",
    "list_a.sort()\n",
    "list_a"
   ]
  },
  {
   "cell_type": "code",
   "execution_count": 36,
   "id": "5e5e10af-2279-4784-9ca6-410a85ee8a0a",
   "metadata": {},
   "outputs": [
    {
     "data": {
      "text/plain": [
       "[273, 103, 52, 32]"
      ]
     },
     "execution_count": 36,
     "metadata": {},
     "output_type": "execute_result"
    }
   ],
   "source": [
    "list_a = [52, 273, 103, 32]\n",
    "list_a.sort(reverse=True) #revers=True를 사용하면 내림차순으로 출력\n",
    "list_a"
   ]
  },
  {
   "cell_type": "markdown",
   "id": "1b50ae98-d31d-456c-bc89-2efd9913b834",
   "metadata": {},
   "source": [
    "## 리스트 내부에 있는지 확인하기 : in/not in 연산자\n",
    "- 문자열과 비슷"
   ]
  },
  {
   "cell_type": "code",
   "execution_count": 37,
   "id": "311661d9-91a3-48a2-a6cd-ac60e72f02fe",
   "metadata": {},
   "outputs": [
    {
     "data": {
      "text/plain": [
       "True"
      ]
     },
     "execution_count": 37,
     "metadata": {},
     "output_type": "execute_result"
    }
   ],
   "source": [
    "\"a\" in \"abc\""
   ]
  },
  {
   "cell_type": "code",
   "execution_count": 62,
   "id": "5538439b-e994-4798-b351-e80a360235c4",
   "metadata": {},
   "outputs": [
    {
     "data": {
      "text/plain": [
       "True"
      ]
     },
     "execution_count": 62,
     "metadata": {},
     "output_type": "execute_result"
    }
   ],
   "source": [
    "273 in [52, 273, 203, 32]"
   ]
  },
  {
   "cell_type": "markdown",
   "id": "7ed80e32-75e1-4f8f-a457-b174cf03053e",
   "metadata": {},
   "source": [
    "## 리스트 컴프리헨션\n",
    "- pythonic한 코드\n",
    "- 반복문을 산줄로 처리\n",
    "- 결괏값은 리스트로 반환"
   ]
  },
  {
   "cell_type": "code",
   "execution_count": 67,
   "id": "f00d58fb-4a0e-4453-9367-3b561f82f5fc",
   "metadata": {},
   "outputs": [
    {
     "name": "stdout",
     "output_type": "stream",
     "text": [
      "3\n",
      "6\n",
      "9\n",
      "12\n"
     ]
    },
    {
     "data": {
      "text/plain": [
       "[3, 6, 9, 12]"
      ]
     },
     "execution_count": 67,
     "metadata": {},
     "output_type": "execute_result"
    }
   ],
   "source": [
    "# 진짜 자주 쓰는 코드이므로 외우기\n",
    "a = [1, 2, 3, 4]\n",
    "result = []\n",
    "for num in a:\n",
    "    print(num *3)\n",
    "    result.append(num * 3) # 위의 코드 결괏값을 result 리스트에 넣기\n",
    "\n",
    "result"
   ]
  },
  {
   "cell_type": "code",
   "execution_count": 71,
   "id": "2c8a7f3a-8748-4047-bb71-817aa8311ef4",
   "metadata": {},
   "outputs": [
    {
     "data": {
      "text/plain": [
       "[3, 6, 9, 12]"
      ]
     },
     "execution_count": 71,
     "metadata": {},
     "output_type": "execute_result"
    }
   ],
   "source": [
    "# 위의 코드를 한 줄로 정리\n",
    "b = [1, 2, 3, 4]\n",
    "result2 = [num * 3 for num in b]\n",
    "result2"
   ]
  },
  {
   "cell_type": "code",
   "execution_count": 74,
   "id": "102dab68-9dc2-4966-ac0f-341b1eae4cbc",
   "metadata": {},
   "outputs": [
    {
     "name": "stdout",
     "output_type": "stream",
     "text": [
      "1 10 10\n",
      "2 20 40\n",
      "3 30 90\n",
      "4 40 160\n"
     ]
    },
    {
     "data": {
      "text/plain": [
       "[10, 40, 90, 160]"
      ]
     },
     "execution_count": 74,
     "metadata": {},
     "output_type": "execute_result"
    }
   ],
   "source": [
    "num1 = [1, 2, 3, 4]\n",
    "num2 = [10, 20, 30, 40]\n",
    "result = []\n",
    "\n",
    "for n1, n2 in zip(num1, num2):\n",
    "    print(n1, n2, n1 * n2)\n",
    "    result.append(n1 * n2)\n",
    "\n",
    "result"
   ]
  },
  {
   "cell_type": "code",
   "execution_count": 78,
   "id": "9fd2540a-39d8-49b8-a7f0-c535173e498c",
   "metadata": {},
   "outputs": [
    {
     "data": {
      "text/plain": [
       "[10, 40, 90, 160]"
      ]
     },
     "execution_count": 78,
     "metadata": {},
     "output_type": "execute_result"
    }
   ],
   "source": [
    "# 위의 코드 한 줄로 정리\n",
    "num1 = [1, 2, 3, 4]\n",
    "num2 = [10, 20, 30, 40]\n",
    "\n",
    "result = [n1*n2 for n1, n2 in zip(num1, num2)]\n",
    "result"
   ]
  },
  {
   "cell_type": "markdown",
   "id": "0b6acfa3-250d-4fe1-a6d7-1d3c4a81782c",
   "metadata": {},
   "source": [
    "# 목차2 - 튜플(Tuple)\n",
    "- 리스트와 비슷한 자료형\n",
    "- 인덱싱, 슬라이싱 모두 가능"
   ]
  },
  {
   "cell_type": "code",
   "execution_count": 39,
   "id": "3e109efa-9d98-4b95-9168-e0da5c60cdb3",
   "metadata": {},
   "outputs": [
    {
     "data": {
      "text/plain": [
       "(10, 20, 30, 40, 50, 60)"
      ]
     },
     "execution_count": 39,
     "metadata": {},
     "output_type": "execute_result"
    }
   ],
   "source": [
    "tuple_test = (10, 20, 30, 40, 50, 60)\n",
    "tuple_test"
   ]
  },
  {
   "cell_type": "code",
   "execution_count": 40,
   "id": "9a89bb6f-c09c-42ef-951f-9e934f6a229a",
   "metadata": {},
   "outputs": [
    {
     "data": {
      "text/plain": [
       "10"
      ]
     },
     "execution_count": 40,
     "metadata": {},
     "output_type": "execute_result"
    }
   ],
   "source": [
    "tuple_test[0]"
   ]
  },
  {
   "cell_type": "code",
   "execution_count": 41,
   "id": "b162df03-b9ca-42f5-922b-4b43b02da4a4",
   "metadata": {},
   "outputs": [
    {
     "data": {
      "text/plain": [
       "(10, 20, 30, 40)"
      ]
     },
     "execution_count": 41,
     "metadata": {},
     "output_type": "execute_result"
    }
   ],
   "source": [
    "tuple_test[0:4]"
   ]
  },
  {
   "cell_type": "code",
   "execution_count": 43,
   "id": "d952a4c2-0b1d-476b-8637-4996a1742345",
   "metadata": {},
   "outputs": [
    {
     "data": {
      "text/plain": [
       "50"
      ]
     },
     "execution_count": 43,
     "metadata": {},
     "output_type": "execute_result"
    }
   ],
   "source": [
    "tuple_test[-2]"
   ]
  },
  {
   "cell_type": "code",
   "execution_count": 44,
   "id": "4f4d07b3-8c51-43f1-a531-dca7a621386f",
   "metadata": {},
   "outputs": [
    {
     "data": {
      "text/plain": [
       "[100, 103, 52, 32]"
      ]
     },
     "execution_count": 44,
     "metadata": {},
     "output_type": "execute_result"
    }
   ],
   "source": [
    "list_a[0] = 100\n",
    "list_a"
   ]
  },
  {
   "cell_type": "code",
   "execution_count": 49,
   "id": "ade79bdf-b37f-4c1b-9784-21c2949034ac",
   "metadata": {},
   "outputs": [
    {
     "ename": "TypeError",
     "evalue": "'tuple' object doesn't support item deletion",
     "output_type": "error",
     "traceback": [
      "\u001b[1;31m---------------------------------------------------------------------------\u001b[0m",
      "\u001b[1;31mTypeError\u001b[0m                                 Traceback (most recent call last)",
      "Cell \u001b[1;32mIn[49], line 1\u001b[0m\n\u001b[1;32m----> 1\u001b[0m \u001b[38;5;28;01mdel\u001b[39;00m \u001b[43mtuple_test\u001b[49m\u001b[43m[\u001b[49m\u001b[38;5;241;43m0\u001b[39;49m\u001b[43m]\u001b[49m\n",
      "\u001b[1;31mTypeError\u001b[0m: 'tuple' object doesn't support item deletion"
     ]
    }
   ],
   "source": [
    "#튜플은 한번 생성되면 수정/삭제가 불가\n",
    "del tuple_test[0]"
   ]
  },
  {
   "cell_type": "markdown",
   "id": "75438c7e-3fba-4209-83bf-f75cb8bb9ea5",
   "metadata": {},
   "source": [
    "# 목차3 - 딕셔너리\n",
    "- Web 관련 자료형 중에서 JSON 형태와 유사\n",
    "- pandas 데이터프레임을 만들 때도 매우 자주 사용\n",
    "- 사전식 구성 연상\n",
    "  + 키워드 입력 ==> 다양한 의미\n",
    "  + Loves, 동사, 명사 등등등\n",
    "- dict = {\"key\" : value}"
   ]
  },
  {
   "cell_type": "code",
   "execution_count": 62,
   "id": "b0227aac-d61f-4880-93a0-d5e40090cce2",
   "metadata": {},
   "outputs": [
    {
     "data": {
      "text/plain": [
       "{'name': '어벤져스 엔드게임',\n",
       " 'type': '히어로 무비',\n",
       " 'director': ['안소니 루소', '조 루소'],\n",
       " 'year': 2019}"
      ]
     },
     "execution_count": 62,
     "metadata": {},
     "output_type": "execute_result"
    }
   ],
   "source": [
    "dict_a = {\n",
    "    \"name\" : \"어벤져스 엔드게임\",\n",
    "    \"type\" : \"히어로 무비\",\n",
    "    \"director\" : ['안소니 루소', '조 루소'],\n",
    "    \"year\" : 2019\n",
    "}\n",
    "\n",
    "dict_a"
   ]
  },
  {
   "cell_type": "code",
   "execution_count": 64,
   "id": "a50ff002-fd34-4545-a337-803a5142f54a",
   "metadata": {},
   "outputs": [
    {
     "data": {
      "text/plain": [
       "'안소니'"
      ]
     },
     "execution_count": 64,
     "metadata": {},
     "output_type": "execute_result"
    }
   ],
   "source": [
    "# 딕셔너리 ==> 리스트 ==> 문자열로 자료형이 변경\n",
    "dict_a['director'][0][0:3]"
   ]
  },
  {
   "cell_type": "code",
   "execution_count": 67,
   "id": "e2279de9-bec8-4e53-88ce-db71f8435942",
   "metadata": {},
   "outputs": [
    {
     "data": {
      "text/plain": [
       "['안소니 루소', '조 루소', 'a']"
      ]
     },
     "execution_count": 67,
     "metadata": {},
     "output_type": "execute_result"
    }
   ],
   "source": [
    "a = dict_a['director']\n",
    "a.append(\"a\")\n",
    "a"
   ]
  },
  {
   "cell_type": "code",
   "execution_count": 70,
   "id": "0ef5ddf3-9272-40a0-8e09-442528030927",
   "metadata": {},
   "outputs": [
    {
     "data": {
      "text/plain": [
       "['안소니 루소', '조 루소', 'a', 'a', 'a', 'a']"
      ]
     },
     "execution_count": 70,
     "metadata": {},
     "output_type": "execute_result"
    }
   ],
   "source": [
    "dict_a['director'].append(\"a\")\n",
    "dict_a['director']"
   ]
  },
  {
   "cell_type": "code",
   "execution_count": 71,
   "id": "d53a80b9-cb97-4806-bc04-0a526f9bfbcb",
   "metadata": {},
   "outputs": [
    {
     "data": {
      "text/plain": [
       "['안소니 루소', '조 루소', 'a', 'a', 'a', 'a']"
      ]
     },
     "execution_count": 71,
     "metadata": {},
     "output_type": "execute_result"
    }
   ],
   "source": [
    "dict_a['director']"
   ]
  },
  {
   "cell_type": "code",
   "execution_count": 72,
   "id": "1522584c-d7b7-4567-90b9-6f33475bf8c7",
   "metadata": {},
   "outputs": [
    {
     "ename": "NameError",
     "evalue": "name 'name' is not defined",
     "output_type": "error",
     "traceback": [
      "\u001b[1;31m---------------------------------------------------------------------------\u001b[0m",
      "\u001b[1;31mNameError\u001b[0m                                 Traceback (most recent call last)",
      "Cell \u001b[1;32mIn[72], line 3\u001b[0m\n\u001b[0;32m      1\u001b[0m \u001b[38;5;66;03m# key 설정 시, 무조건 \"\"를 사용한다.\u001b[39;00m\n\u001b[0;32m      2\u001b[0m dict_key \u001b[38;5;241m=\u001b[39m {\n\u001b[1;32m----> 3\u001b[0m     \u001b[43mname\u001b[49m : \u001b[38;5;124m\"\u001b[39m\u001b[38;5;124m망고\u001b[39m\u001b[38;5;124m\"\u001b[39m,\n\u001b[0;32m      4\u001b[0m }\n",
      "\u001b[1;31mNameError\u001b[0m: name 'name' is not defined"
     ]
    }
   ],
   "source": [
    "# key 설정 시, 무조건 \"\"를 사용한다.\n",
    "dict_key = {\n",
    "    name : \"망고\",\n",
    "}"
   ]
  },
  {
   "cell_type": "code",
   "execution_count": 40,
   "id": "6caeaaa7-1d6f-4c2f-9c42-3455c774c072",
   "metadata": {},
   "outputs": [
    {
     "data": {
      "text/plain": [
       "{'name': '망고'}"
      ]
     },
     "execution_count": 40,
     "metadata": {},
     "output_type": "execute_result"
    }
   ],
   "source": [
    "# key 설정 시, 무조건 \"\"를 사용한다.\n",
    "dict_key = {\n",
    "    \"name\" : \"망고\",\n",
    "}\n",
    "\n",
    "dict_key"
   ]
  },
  {
   "cell_type": "code",
   "execution_count": 41,
   "id": "686058ff-c784-48af-bf5e-29b6392bef41",
   "metadata": {},
   "outputs": [
    {
     "data": {
      "text/plain": [
       "{'name': '망고',\n",
       " '새로운키': '새로운값',\n",
       " 'price': [1, 2, 3, 4, 5],\n",
       " '새로운딕셔너리': {'a': 1, 'b': [1, 2, 3]}}"
      ]
     },
     "execution_count": 41,
     "metadata": {},
     "output_type": "execute_result"
    }
   ],
   "source": [
    "# 새로운 키 추가하기\n",
    "dict_key['새로운키'] = \"새로운값\"\n",
    "dict_key['price'] = [1, 2, 3, 4, 5]\n",
    "dict_key['새로운딕셔너리'] = {'a':1, 'b':[1, 2, 3]}\n",
    "dict_key"
   ]
  },
  {
   "cell_type": "code",
   "execution_count": 78,
   "id": "b7e3fa61-58d2-4f35-8cea-1788e5428e7b",
   "metadata": {},
   "outputs": [
    {
     "data": {
      "text/plain": [
       "{'name': '강아지', 'age': 10}"
      ]
     },
     "execution_count": 78,
     "metadata": {},
     "output_type": "execute_result"
    }
   ],
   "source": [
    "dict_c = {\n",
    "    \"name\" : '강아지',\n",
    "    \"age\" : 10,\n",
    "}\n",
    "dict_c"
   ]
  },
  {
   "cell_type": "code",
   "execution_count": 79,
   "id": "ec7df484-9827-4e13-98ea-05cd2a895b40",
   "metadata": {},
   "outputs": [
    {
     "data": {
      "text/plain": [
       "{'name': '강아지', 'age': 10, 'tall': 100}"
      ]
     },
     "execution_count": 79,
     "metadata": {},
     "output_type": "execute_result"
    }
   ],
   "source": [
    "dict_c['tall'] = 100\n",
    "dict_c"
   ]
  },
  {
   "cell_type": "code",
   "execution_count": 80,
   "id": "162e11bf-eb10-491d-8ca7-e92ec9b5f226",
   "metadata": {},
   "outputs": [
    {
     "data": {
      "text/plain": [
       "{'name': '강아지', 'age': 10}"
      ]
     },
     "execution_count": 80,
     "metadata": {},
     "output_type": "execute_result"
    }
   ],
   "source": [
    "del dict_c['tall']\n",
    "dict_c"
   ]
  },
  {
   "cell_type": "code",
   "execution_count": 89,
   "id": "40083936-7d9b-40f6-8542-724ac326fc76",
   "metadata": {},
   "outputs": [
    {
     "name": "stdout",
     "output_type": "stream",
     "text": [
      "dict_keys(['name', 'age'])\n",
      "dict_values(['강아지', 10])\n",
      "dict_items([('name', '강아지'), ('age', 10)])\n"
     ]
    }
   ],
   "source": [
    "print(dict_c.keys())\n",
    "print(dict_c.values())\n",
    "print(dict_c.items())"
   ]
  },
  {
   "cell_type": "code",
   "execution_count": 90,
   "id": "bd56cdb5-1eff-445c-940f-1816f7f5ffdd",
   "metadata": {},
   "outputs": [
    {
     "data": {
      "text/plain": [
       "['name', 'age', 'name']"
      ]
     },
     "execution_count": 90,
     "metadata": {},
     "output_type": "execute_result"
    }
   ],
   "source": [
    "temp = list(dict_c.keys())\n",
    "temp.append('name')\n",
    "temp"
   ]
  },
  {
   "cell_type": "code",
   "execution_count": 93,
   "id": "01ca7096-2b21-409a-8989-a93b618f5276",
   "metadata": {},
   "outputs": [
    {
     "data": {
      "text/plain": [
       "['강아지', 10, '사료']"
      ]
     },
     "execution_count": 93,
     "metadata": {},
     "output_type": "execute_result"
    }
   ],
   "source": [
    "# 에러1) \n",
    "# AttributeError: 'dict_values' object has no attribute 'append'\n",
    "# dict_values는 리스트 형태가 아니고 딕셔너리 형태이므로, append 사용 불가\n",
    "# dict_c.values().append('aaa')\n",
    "\n",
    "# 해결1)\n",
    "temp1 = list(dict_c.values())\n",
    "temp1.append('사료')\n",
    "temp1"
   ]
  },
  {
   "cell_type": "code",
   "execution_count": 94,
   "id": "9d7b25eb-413f-40d3-a711-d482e181569f",
   "metadata": {},
   "outputs": [
    {
     "data": {
      "text/plain": [
       "{'name': '강아지', 'age': 10}"
      ]
     },
     "execution_count": 94,
     "metadata": {},
     "output_type": "execute_result"
    }
   ],
   "source": [
    "dict_c"
   ]
  },
  {
   "cell_type": "markdown",
   "id": "12e3cdc6-9465-4ee0-a194-7a410bc3b2db",
   "metadata": {},
   "source": [
    "# 목차4 - 조건문\n",
    "- 00 조건을 만족한다 ==> True\n",
    "  + 그러면, 옷을 산다\n",
    "- 00 조건을 만족하지 못함 ==> False\n",
    "  + 그러면, 옷을 사지 않는다\n",
    "- if-else"
   ]
  },
  {
   "cell_type": "code",
   "execution_count": 1,
   "id": "a6d9adb3-467a-4ab9-8605-4a9b1c859b44",
   "metadata": {},
   "outputs": [
    {
     "name": "stdout",
     "output_type": "stream",
     "text": [
      "1보다 작음\n"
     ]
    }
   ],
   "source": [
    "a = 1\n",
    "if a > 1: # 해당되는 조건식을 만드는 것이 핵심\n",
    "    print(\"1보다 큼\")\n",
    "else:\n",
    "    print(\"1보다 작음\")"
   ]
  },
  {
   "cell_type": "code",
   "execution_count": 3,
   "id": "5a5ae5f3-24a0-4141-b858-1529dd20de6b",
   "metadata": {},
   "outputs": [
    {
     "name": "stdout",
     "output_type": "stream",
     "text": [
      "True 입니다!\n"
     ]
    }
   ],
   "source": [
    "# p.163\n",
    "if True:\n",
    "    print(\"True 입니다!\")"
   ]
  },
  {
   "cell_type": "code",
   "execution_count": 4,
   "id": "cf274896-c427-48e2-a7ae-a3fe9b4a3e41",
   "metadata": {},
   "outputs": [],
   "source": [
    "if False:\n",
    "    print(\"True 입니다!\")"
   ]
  },
  {
   "cell_type": "code",
   "execution_count": 6,
   "id": "6647cef3-c2b6-4acb-96f8-5c66e576b6e4",
   "metadata": {},
   "outputs": [
    {
     "name": "stdin",
     "output_type": "stream",
     "text": [
      "정수를 입력하세요 -3\n"
     ]
    },
    {
     "name": "stdout",
     "output_type": "stream",
     "text": [
      "음수\n"
     ]
    }
   ],
   "source": [
    "number = input(\"정수를 입력하세요\")\n",
    "number = int(number)\n",
    "\n",
    "#양수 조건\n",
    "if number > 0:\n",
    "    print(\"양수\")\n",
    "\n",
    "#음수 조건\n",
    "if number < 0:\n",
    "    print(\"음수\")\n",
    "\n",
    "#0 조건\n",
    "if number == 0:\n",
    "    print(\"0이다\")\n",
    "    "
   ]
  },
  {
   "cell_type": "markdown",
   "id": "580007da-f154-48a1-8f7f-b637853d71a7",
   "metadata": {},
   "source": [
    "[시나리오] \n",
    "- 여러분의 돈이 00원 있다\n",
    "- 파이브가이즈 햄버거 세트 가격이 35000원 이라고 할 때,\n",
    "- 햄버거를 먹을 수 있는 상황/그렇지 못한 상황에 대해서 프로그래밍 하시오."
   ]
  },
  {
   "cell_type": "code",
   "execution_count": 10,
   "id": "5da2e9bf-123b-4009-89bf-dde8f053cfc3",
   "metadata": {},
   "outputs": [
    {
     "name": "stdin",
     "output_type": "stream",
     "text": [
      "당신이 지금 가지고 있는 돈은 얼마입니까? 35000\n"
     ]
    },
    {
     "name": "stdout",
     "output_type": "stream",
     "text": [
      "파이브가이즈 햄버거를 먹을 수 있습니다.\n"
     ]
    }
   ],
   "source": [
    "money = int(input(\"당신이 지금 가지고 있는 돈은 얼마입니까?\"))\n",
    "PRICE = 35000\n",
    "\n",
    "if (money >= PRICE):\n",
    "    print(\"파이브가이즈 햄버거를 먹을 수 있습니다.\")\n",
    "else:\n",
    "    print(\"파이즈가이즈 햄버거를 먹을 수 없습니다.\")\n"
   ]
  },
  {
   "cell_type": "markdown",
   "id": "f40bd1ea-6197-4819-b013-b3028db850d3",
   "metadata": {},
   "source": [
    "## 날짜/시간 활용하기\n",
    "- datetime(파이썬 기본 라이브러리)\n",
    "  + 공식문서 확인하기 필수!!\n",
    "- pandas to_datetime : https://pandas.pydata.org/docs/reference/api/pandas.to_datetime.html"
   ]
  },
  {
   "cell_type": "code",
   "execution_count": 11,
   "id": "e724c765-cf67-4408-bb77-f1dbb2e8e9f3",
   "metadata": {},
   "outputs": [
    {
     "data": {
      "text/plain": [
       "datetime.datetime(2024, 6, 27, 14, 39, 40, 150197)"
      ]
     },
     "execution_count": 11,
     "metadata": {},
     "output_type": "execute_result"
    }
   ],
   "source": [
    "import datetime\n",
    "\n",
    "# 현재 날짜/시간 구하기\n",
    "now = datetime.datetime.now()\n",
    "now"
   ]
  },
  {
   "cell_type": "code",
   "execution_count": 12,
   "id": "7624ff23-dc31-4941-8f93-9188133c8c90",
   "metadata": {},
   "outputs": [
    {
     "name": "stdout",
     "output_type": "stream",
     "text": [
      "6 월\n"
     ]
    }
   ],
   "source": [
    "print(now.month, \"월\")"
   ]
  },
  {
   "cell_type": "code",
   "execution_count": 15,
   "id": "9f103ef3-eec1-42e8-82a2-8bfd5802499d",
   "metadata": {},
   "outputs": [
    {
     "name": "stdout",
     "output_type": "stream",
     "text": [
      "2024년 6월 27일\n"
     ]
    }
   ],
   "source": [
    "print(f'{now.year}년 {now.month}월 {now.day}일')"
   ]
  },
  {
   "cell_type": "code",
   "execution_count": 18,
   "id": "7bcd245c-509b-4ed7-887f-71b7c5534983",
   "metadata": {},
   "outputs": [
    {
     "name": "stdout",
     "output_type": "stream",
     "text": [
      "<class 'int'> 6\n",
      "여름\n"
     ]
    }
   ],
   "source": [
    "import datetime\n",
    "\n",
    "# 현재 날짜와 시간 구하기\n",
    "# 월 추출해서 현재 계절 확인\n",
    "\n",
    "now = datetime.datetime.now()\n",
    "month = now.month\n",
    "\n",
    "print(type(month), month)\n",
    "\n",
    "if 3 <= month <= 5:\n",
    "    print(\"봄\")\n",
    "elif 6 <= month <= 8:\n",
    "    print(\"여름\")\n",
    "elif 9 <= month <= 10:\n",
    "    print(\"가을\")\n",
    "else:\n",
    "    print(\"겨울\")\n"
   ]
  },
  {
   "cell_type": "code",
   "execution_count": 19,
   "id": "db07c8bf-bacb-431f-a127-9f1b85564cb6",
   "metadata": {},
   "outputs": [
    {
     "name": "stdout",
     "output_type": "stream",
     "text": [
      "<class 'int'> 100\n",
      "겨울\n"
     ]
    }
   ],
   "source": [
    "import datetime\n",
    "\n",
    "# 현재 날짜와 시간 구하기\n",
    "# 월 추출해서 현재 계절 확인\n",
    "\n",
    "now = datetime.datetime.now()\n",
    "month = 100\n",
    "\n",
    "print(type(month), month)\n",
    "\n",
    "if 3 <= month <= 5:\n",
    "    print(\"봄\")\n",
    "elif 6 <= month <= 8:\n",
    "    print(\"여름\")\n",
    "elif 9 <= month <= 10:\n",
    "    print(\"가을\")\n",
    "else:\n",
    "    print(\"겨울\")\n"
   ]
  },
  {
   "cell_type": "code",
   "execution_count": 22,
   "id": "279c99ba-f92d-41a1-9382-83d458b7f2a6",
   "metadata": {},
   "outputs": [
    {
     "name": "stdin",
     "output_type": "stream",
     "text": [
      "숫자를 입력하세요 4\n"
     ]
    },
    {
     "name": "stdout",
     "output_type": "stream",
     "text": [
      "완료\n"
     ]
    }
   ],
   "source": [
    "num = int(input(\"숫자를 입력하세요\"))\n",
    "\n",
    "if num > 0:\n",
    "    # 코드를 디테일 하게 작성\n",
    "    num2 = num\n",
    "else:\n",
    "    pass\n",
    "\n",
    "print(\"완료\")"
   ]
  },
  {
   "cell_type": "code",
   "execution_count": 24,
   "id": "4d938dbd-09ce-4545-95d7-08f65fe1b45f",
   "metadata": {},
   "outputs": [
    {
     "name": "stdin",
     "output_type": "stream",
     "text": [
      "숫자를 입력하세요 -1\n"
     ]
    },
    {
     "ename": "NotImplementedError",
     "evalue": "",
     "output_type": "error",
     "traceback": [
      "\u001b[1;31m---------------------------------------------------------------------------\u001b[0m",
      "\u001b[1;31mNotImplementedError\u001b[0m                       Traceback (most recent call last)",
      "Cell \u001b[1;32mIn[24], line 7\u001b[0m\n\u001b[0;32m      5\u001b[0m     \u001b[38;5;28;01mraise\u001b[39;00m \u001b[38;5;167;01mNotImplementedError\u001b[39;00m\n\u001b[0;32m      6\u001b[0m \u001b[38;5;28;01melse\u001b[39;00m:\n\u001b[1;32m----> 7\u001b[0m     \u001b[38;5;28;01mraise\u001b[39;00m \u001b[38;5;167;01mNotImplementedError\u001b[39;00m\n\u001b[0;32m      9\u001b[0m \u001b[38;5;28mprint\u001b[39m(\u001b[38;5;124m\"\u001b[39m\u001b[38;5;124m완료\u001b[39m\u001b[38;5;124m\"\u001b[39m)\n",
      "\u001b[1;31mNotImplementedError\u001b[0m: "
     ]
    }
   ],
   "source": [
    "# 코드가 제대로 끝마쳐지지 않았을 때 raise 예외 처리를 사용\n",
    "num = int(input(\"숫자를 입력하세요\"))\n",
    "\n",
    "if num > 0:\n",
    "    # 코드를 디테일 하게 작성\n",
    "    raise NotImplementedError\n",
    "else:\n",
    "    raise NotImplementedError\n",
    "\n",
    "print(\"완료\")"
   ]
  },
  {
   "cell_type": "markdown",
   "id": "90632823-5bab-4e88-9753-4ce6eac9f31b",
   "metadata": {},
   "source": [
    "# 목차5 - for 반복문\n",
    "- p.207\n",
    "- 몇 번을 반복해야 하는지 사용자가 지정"
   ]
  },
  {
   "cell_type": "code",
   "execution_count": 33,
   "id": "dfb3bdf1-9c97-4e45-9f21-06f752cbe3b3",
   "metadata": {},
   "outputs": [
    {
     "name": "stdout",
     "output_type": "stream",
     "text": [
      "출력\n",
      "출력\n",
      "출력\n"
     ]
    }
   ],
   "source": [
    "for i in range(3) : # 처음에 범위 지정을 할 때, 3번 정도 확인 후 => 확장 \n",
    "    print(\"출력\")"
   ]
  },
  {
   "cell_type": "code",
   "execution_count": 36,
   "id": "068f3a6e-5185-47b4-9648-30ac52a81848",
   "metadata": {},
   "outputs": [
    {
     "name": "stdout",
     "output_type": "stream",
     "text": [
      "a\n",
      "b\n",
      "c\n"
     ]
    }
   ],
   "source": [
    "# 문자열도 반복문에서 사용 가능 p.209\n",
    "text = \"abc\"\n",
    "\n",
    "for element in text:\n",
    "    print(element)"
   ]
  },
  {
   "cell_type": "code",
   "execution_count": 34,
   "id": "c9600474-0bfe-4d17-883a-fc9026dc8f94",
   "metadata": {},
   "outputs": [
    {
     "name": "stdout",
     "output_type": "stream",
     "text": [
      "273\n",
      "32\n",
      "103\n",
      "57\n",
      "52\n"
     ]
    }
   ],
   "source": [
    "#p.209\n",
    "array = [273, 32, 103, 57, 52]\n",
    "\n",
    "for element in array:\n",
    "    print(element)"
   ]
  },
  {
   "cell_type": "code",
   "execution_count": 37,
   "id": "24f85edf-87bb-4a06-a7ee-2df103ea2d19",
   "metadata": {},
   "outputs": [
    {
     "name": "stdout",
     "output_type": "stream",
     "text": [
      "a\n",
      "b\n",
      "c\n"
     ]
    }
   ],
   "source": [
    "# 튜플도 반복문에서 사용 가능 p.\n",
    "text1 = (\"a\", \"b\", \"c\")\n",
    "\n",
    "for element in text1:\n",
    "    print(element)"
   ]
  },
  {
   "cell_type": "markdown",
   "id": "cb75738c-eb08-4146-8fc0-bd93c29f246e",
   "metadata": {},
   "source": [
    "## 문제\n",
    "- 반복문을 쓰고 싶음. 근데 iterable 가능하다고 함.\n",
    "- 문제 : 자료형이 iterable인지 아닌지 알고 싶음. 그래서 iterable이면 반복문 수행 하도록 if-조건문 만들기\n",
    "  + chatGPT에게 함수 물어보기"
   ]
  },
  {
   "cell_type": "code",
   "execution_count": 44,
   "id": "c47860fd-f401-4653-9876-b5c280c000ba",
   "metadata": {},
   "outputs": [
    {
     "name": "stdout",
     "output_type": "stream",
     "text": [
      "True\n",
      "True\n",
      "True\n",
      "False\n",
      "False\n"
     ]
    }
   ],
   "source": [
    "from collections.abc import Sequence\n",
    "\n",
    "def is_sequence(obj):\n",
    "    return isinstance(obj, Sequence)\n",
    "\n",
    "print(is_sequence([1,2,3]))\n",
    "print(is_sequence((1,2,3)))\n",
    "print(is_sequence('hello'))\n",
    "print(is_sequence({1,2,3}))\n",
    "print(is_sequence(123))"
   ]
  },
  {
   "cell_type": "code",
   "execution_count": 55,
   "id": "3e37848c-ffd2-4a75-87b7-29da01b9c5d5",
   "metadata": {},
   "outputs": [
    {
     "name": "stdout",
     "output_type": "stream",
     "text": [
      "망고\n",
      "새로운값\n",
      "[1, 2, 3, 4, 5]\n",
      "{'a': 1, 'b': [1, 2, 3]}\n"
     ]
    }
   ],
   "source": [
    "test = dict_key.values()\n",
    "for element in test:\n",
    "    print(element)"
   ]
  },
  {
   "cell_type": "code",
   "execution_count": 61,
   "id": "64fca941-4213-415e-9c9e-16b198dda641",
   "metadata": {},
   "outputs": [
    {
     "name": "stdout",
     "output_type": "stream",
     "text": [
      "{'name': '망고', '새로운키': '새로운값', 'price': [1, 2, 3, 4, 5], '새로운딕셔너리': {'a': 1, 'b': [1, 2, 3]}}는 이터러블이 아닙니다.\n"
     ]
    }
   ],
   "source": [
    " if isinstance(dict_key, Sequence):\n",
    "        # 이터러블인 경우 반복문 수행\n",
    "        for item in dict_key:\n",
    "            print(item)\n",
    " else:\n",
    "        print(f\"{dict_key}는 이터러블이 아닙니다.\")\n"
   ]
  },
  {
   "cell_type": "code",
   "execution_count": 47,
   "id": "0b4c58c3-ca44-4515-a981-f830e1f56edd",
   "metadata": {},
   "outputs": [
    {
     "name": "stdout",
     "output_type": "stream",
     "text": [
      "[1, 2, 3]\n",
      "1\n",
      "2\n",
      "3\n",
      "[4, 5, 6, 7]\n",
      "4\n",
      "5\n",
      "6\n",
      "7\n",
      "[8, 9]\n",
      "8\n",
      "9\n"
     ]
    }
   ],
   "source": [
    "# 이중 for문 = 중첩 for 문\n",
    "list_of_list = [[1, 2, 3], [4, 5, 6, 7], [8, 9]]\n",
    "list_of_list\n",
    "\n",
    "for items in list_of_list:\n",
    "    print(items)\n",
    "    for item in items:\n",
    "        print(item)"
   ]
  },
  {
   "cell_type": "code",
   "execution_count": 54,
   "id": "acd6b9b1-4061-4246-ba2e-b1471c4cc3ad",
   "metadata": {},
   "outputs": [
    {
     "name": "stdout",
     "output_type": "stream",
     "text": [
      "2단\n",
      "2 * 2 = 4\n",
      "3 * 2 = 6\n",
      "4 * 2 = 8\n",
      "5 * 2 = 10\n",
      "6 * 2 = 12\n",
      "7 * 2 = 14\n",
      "8 * 2 = 16\n",
      "9 * 2 = 18\n",
      "3단\n",
      "2 * 3 = 6\n",
      "3 * 3 = 9\n",
      "4 * 3 = 12\n",
      "5 * 3 = 15\n",
      "6 * 3 = 18\n",
      "7 * 3 = 21\n",
      "8 * 3 = 24\n",
      "9 * 3 = 27\n",
      "4단\n",
      "2 * 4 = 8\n",
      "3 * 4 = 12\n",
      "4 * 4 = 16\n",
      "5 * 4 = 20\n",
      "6 * 4 = 24\n",
      "7 * 4 = 28\n",
      "8 * 4 = 32\n",
      "9 * 4 = 36\n",
      "5단\n",
      "2 * 5 = 10\n",
      "3 * 5 = 15\n",
      "4 * 5 = 20\n",
      "5 * 5 = 25\n",
      "6 * 5 = 30\n",
      "7 * 5 = 35\n",
      "8 * 5 = 40\n",
      "9 * 5 = 45\n",
      "6단\n",
      "2 * 6 = 12\n",
      "3 * 6 = 18\n",
      "4 * 6 = 24\n",
      "5 * 6 = 30\n",
      "6 * 6 = 36\n",
      "7 * 6 = 42\n",
      "8 * 6 = 48\n",
      "9 * 6 = 54\n",
      "7단\n",
      "2 * 7 = 14\n",
      "3 * 7 = 21\n",
      "4 * 7 = 28\n",
      "5 * 7 = 35\n",
      "6 * 7 = 42\n",
      "7 * 7 = 49\n",
      "8 * 7 = 56\n",
      "9 * 7 = 63\n",
      "8단\n",
      "2 * 8 = 16\n",
      "3 * 8 = 24\n",
      "4 * 8 = 32\n",
      "5 * 8 = 40\n",
      "6 * 8 = 48\n",
      "7 * 8 = 56\n",
      "8 * 8 = 64\n",
      "9 * 8 = 72\n",
      "9단\n",
      "2 * 9 = 18\n",
      "3 * 9 = 27\n",
      "4 * 9 = 36\n",
      "5 * 9 = 45\n",
      "6 * 9 = 54\n",
      "7 * 9 = 63\n",
      "8 * 9 = 72\n",
      "9 * 9 = 81\n"
     ]
    }
   ],
   "source": [
    "num1 = [2, 3, 4, 5, 6, 7, 8, 9]\n",
    "num2 = [2, 3, 4, 5, 6, 7, 8, 9]\n",
    "\n",
    "for i in num1:\n",
    "    print(f'{i}단')\n",
    "    for j in num2:\n",
    "        result = i*j\n",
    "        print(f'{j} * {i} = {result}')"
   ]
  },
  {
   "cell_type": "markdown",
   "id": "d476719f-9822-4a6d-bab3-a43400df66f0",
   "metadata": {},
   "source": [
    "# 목차6 - while 반복문\n",
    "- 조건식이 참이면 계속 수행함\n",
    "- ex) 게임 (자동사냥)\n",
    "  + 자동사냥 버튼 ==> True"
   ]
  },
  {
   "cell_type": "code",
   "execution_count": null,
   "id": "d84dffc5-789d-44e1-a4fa-fc12524f0a79",
   "metadata": {},
   "outputs": [],
   "source": []
  }
 ],
 "metadata": {
  "kernelspec": {
   "display_name": "Python 3 (ipykernel)",
   "language": "python",
   "name": "python3"
  },
  "language_info": {
   "codemirror_mode": {
    "name": "ipython",
    "version": 3
   },
   "file_extension": ".py",
   "mimetype": "text/x-python",
   "name": "python",
   "nbconvert_exporter": "python",
   "pygments_lexer": "ipython3",
   "version": "3.11.7"
  }
 },
 "nbformat": 4,
 "nbformat_minor": 5
}
