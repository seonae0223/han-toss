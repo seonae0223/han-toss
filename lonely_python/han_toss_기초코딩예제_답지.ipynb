{
 "cells": [
  {
   "cell_type": "markdown",
   "metadata": {
    "id": "TZhnX7vf1WsA"
   },
   "source": [
    "## 기초문제 1.\n",
    "- 아래 코드를 정수형으로 변형하세요\n",
    "- 원하는 답 : 3"
   ]
  },
  {
   "cell_type": "code",
   "execution_count": 1,
   "metadata": {
    "colab": {
     "base_uri": "https://localhost:8080/"
    },
    "id": "mQPK1XtH1Qyo",
    "outputId": "88a31e6b-a570-4ab0-e1c0-bec88c2dd0ab"
   },
   "outputs": [
    {
     "name": "stdout",
     "output_type": "stream",
     "text": [
      "3\n"
     ]
    }
   ],
   "source": [
    "a = \"3.14\"\n",
    "print(int(float(a)))"
   ]
  },
  {
   "cell_type": "markdown",
   "metadata": {
    "id": "mzAQTYk-1oLM"
   },
   "source": [
    "## 기초문제 2.\n",
    "- 다음 문자열에서 \"a\"의 값이 몇 개인지 확인하세요."
   ]
  },
  {
   "cell_type": "code",
   "execution_count": 2,
   "metadata": {
    "colab": {
     "base_uri": "https://localhost:8080/"
    },
    "id": "4PY51V5f14ac",
    "outputId": "98ef99d6-4d0c-45da-85dc-34dab916b6d8"
   },
   "outputs": [
    {
     "data": {
      "text/plain": [
       "10"
      ]
     },
     "execution_count": 2,
     "metadata": {},
     "output_type": "execute_result"
    }
   ],
   "source": [
    "a = \"aaaaabbbbaabababa\"\n",
    "a.count(\"a\")"
   ]
  },
  {
   "cell_type": "markdown",
   "metadata": {
    "id": "LvJZ1i9v2Cr7"
   },
   "source": [
    "## 기초문제 3.\n",
    "- 다음과 같은 딕셔너리에서 \"python\"을 추출하세요 (Python 아님)"
   ]
  },
  {
   "cell_type": "code",
   "execution_count": 3,
   "metadata": {
    "colab": {
     "base_uri": "https://localhost:8080/"
    },
    "id": "O3q3WeYz2a5M",
    "outputId": "9c72b0e7-66fc-4da1-9fd7-5942210a8287"
   },
   "outputs": [
    {
     "name": "stdout",
     "output_type": "stream",
     "text": [
      "{'languages': {'programming': ['Python is goood python', 'Java', 'C++'], 'spoken': {'English': {'native': True, 'regions': ['US', 'UK', 'Canada']}, 'Spanish': {'native': False, 'regions': ['Spain', 'Mexico']}}}, 'tools': {'development': ['IDE', 'Text Editor'], 'testing': ['pytest', 'unittest']}}\n"
     ]
    }
   ],
   "source": [
    "complex_dict = {\n",
    "    \"languages\": {\n",
    "        \"programming\": [\"Python is goood python\", \"Java\", \"C++\"],\n",
    "        \"spoken\": {\n",
    "            \"English\": {\n",
    "                \"native\": True,\n",
    "                \"regions\": [\"US\", \"UK\", \"Canada\"]\n",
    "            },\n",
    "            \"Spanish\": {\n",
    "                \"native\": False,\n",
    "                \"regions\": [\"Spain\", \"Mexico\"]\n",
    "            }\n",
    "        }\n",
    "    },\n",
    "    \"tools\": {\n",
    "        \"development\": [\"IDE\", \"Text Editor\"],\n",
    "        \"testing\": [\"pytest\", \"unittest\"]\n",
    "    }\n",
    "}\n",
    "\n",
    "print(complex_dict)"
   ]
  },
  {
   "cell_type": "markdown",
   "metadata": {
    "id": "Wths6bZa2kJv"
   },
   "source": []
  },
  {
   "cell_type": "code",
   "execution_count": 4,
   "metadata": {
    "colab": {
     "base_uri": "https://localhost:8080/",
     "height": 35
    },
    "id": "ecSrJKj_2kqM",
    "outputId": "438c25ae-19e3-4a31-f22a-061085afb145"
   },
   "outputs": [
    {
     "data": {
      "application/vnd.google.colaboratory.intrinsic+json": {
       "type": "string"
      },
      "text/plain": [
       "'python'"
      ]
     },
     "execution_count": 4,
     "metadata": {},
     "output_type": "execute_result"
    }
   ],
   "source": [
    "complex_dict['languages']['programming'][0][-6:]"
   ]
  },
  {
   "cell_type": "markdown",
   "metadata": {
    "id": "nVeHWEEk3AOT"
   },
   "source": [
    "## 기초문제 4.\n",
    "- 주어진 데이터 자료형이 Iterable인지 아닌지 확인하는 코드를 if-else문으로 작성하세요.\n",
    "  + 만약, iterable이면 \"반복문 코드 작성\"\n",
    "  + 만약, iterable이 아니면 \"다른 데이터 자료형 찾기\" 출력"
   ]
  },
  {
   "cell_type": "code",
   "execution_count": 5,
   "metadata": {
    "colab": {
     "base_uri": "https://localhost:8080/"
    },
    "id": "wLpk9G_jBO2K",
    "outputId": "45e82f6b-f863-489a-f528-ca7a85e3b3c4"
   },
   "outputs": [
    {
     "name": "stdout",
     "output_type": "stream",
     "text": [
      "<class 'set'>\n",
      "반복문 코드 작성\n"
     ]
    }
   ],
   "source": [
    "from collections.abc import Iterable\n",
    "\n",
    "my_set = {1, 2, 3, 4, 5}\n",
    "print(type(my_set))\n",
    "\n",
    "if isinstance(my_set, Iterable):\n",
    "  print(\"반복문 코드 작성\")\n",
    "else:\n",
    "  print(\"다른 데이터 자료형 찾기\")"
   ]
  },
  {
   "cell_type": "markdown",
   "metadata": {
    "id": "UJlQnwNWCn3b"
   },
   "source": [
    "## 기초문제 5.\n",
    "- 주어진 set 자료형을 활용하여 \"a\"가 들어간 단어만 추출하여 collected_words 리스트로 결과 반환\n",
    "- 그 외의 단어는 others 리스트에 반환"
   ]
  },
  {
   "cell_type": "code",
   "execution_count": 6,
   "metadata": {
    "colab": {
     "base_uri": "https://localhost:8080/"
    },
    "id": "zT2ll_IBCme0",
    "outputId": "0f2eac3b-dd64-4b5d-b4b9-7daec92e5dd4"
   },
   "outputs": [
    {
     "data": {
      "text/plain": [
       "(['banana', 'grape', 'apple', 'date'], ['fig', 'cherry', 'elderberry'])"
      ]
     },
     "execution_count": 6,
     "metadata": {},
     "output_type": "execute_result"
    }
   ],
   "source": [
    "words = {\"apple\", \"banana\", \"cherry\", \"date\", \"elderberry\", \"fig\", \"grape\"}\n",
    "\n",
    "collected_words = []\n",
    "others = []\n",
    "for word in words:\n",
    "    if 'a' in word:\n",
    "      collected_words.append(word)\n",
    "    else:\n",
    "      others.append(word)\n",
    "\n",
    "collected_words, others"
   ]
  },
  {
   "cell_type": "markdown",
   "metadata": {
    "id": "-CVEW9DIHcvh"
   },
   "source": [
    "## 기초문제 6.\n",
    "- 위 코드를 List Comprehension으로 구현하세요.\n",
    "- 결과는 동일해야 합니다.\n"
   ]
  },
  {
   "cell_type": "code",
   "execution_count": 7,
   "metadata": {
    "colab": {
     "base_uri": "https://localhost:8080/"
    },
    "id": "joLsI3RRHY63",
    "outputId": "64c5e2a9-5b6f-43d4-fefc-1d83e90e30f3"
   },
   "outputs": [
    {
     "data": {
      "text/plain": [
       "(['banana', 'grape', 'apple', 'date'], ['fig', 'cherry', 'elderberry'])"
      ]
     },
     "execution_count": 7,
     "metadata": {},
     "output_type": "execute_result"
    }
   ],
   "source": [
    "words = {\"apple\", \"banana\", \"cherry\", \"date\", \"elderberry\", \"fig\", \"grape\"}\n",
    "\n",
    "collected_words = [word for word in words if 'a' in word]\n",
    "others = [word for word in words if 'a' not in word]\n",
    "\n",
    "collected_words, others"
   ]
  },
  {
   "cell_type": "markdown",
   "metadata": {
    "id": "Kn99kA4SBOUc"
   },
   "source": [
    "# 기초문제 7.\n",
    "- 주어진 자료형을 기반으로 아래와 같이 완성하세요."
   ]
  },
  {
   "cell_type": "code",
   "execution_count": 8,
   "metadata": {
    "id": "Wdl9Ts-GJrbV"
   },
   "outputs": [],
   "source": [
    "# 정답\n",
    "# 1 -> a\n",
    "# 2 -> b\n",
    "# 3 -> c\n",
    "# 4 -> d"
   ]
  },
  {
   "cell_type": "code",
   "execution_count": 9,
   "metadata": {
    "colab": {
     "base_uri": "https://localhost:8080/"
    },
    "id": "4JOTIzKjJsVo",
    "outputId": "eeb9f8d8-c353-4037-b93e-0e44d6d0c666"
   },
   "outputs": [
    {
     "name": "stdout",
     "output_type": "stream",
     "text": [
      "1 -> a\n",
      "2 -> b\n",
      "3 -> c\n",
      "4 -> d\n"
     ]
    }
   ],
   "source": [
    "list1 = [1, 2, 3, 4]\n",
    "list2 = ['a', 'b', 'c', 'd']\n",
    "\n",
    "for num, char in zip(list1, list2):\n",
    "  print(f\"{num} -> {char}\")"
   ]
  }
 ],
 "metadata": {
  "colab": {
   "provenance": []
  },
  "kernelspec": {
   "display_name": "Python 3 (ipykernel)",
   "language": "python",
   "name": "python3"
  },
  "language_info": {
   "codemirror_mode": {
    "name": "ipython",
    "version": 3
   },
   "file_extension": ".py",
   "mimetype": "text/x-python",
   "name": "python",
   "nbconvert_exporter": "python",
   "pygments_lexer": "ipython3",
   "version": "3.11.7"
  }
 },
 "nbformat": 4,
 "nbformat_minor": 4
}
