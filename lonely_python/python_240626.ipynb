{
 "cells": [
  {
   "cell_type": "markdown",
   "id": "f24aa72e-8f28-4bfb-a9ea-d7dfc785f15b",
   "metadata": {},
   "source": [
    "# 목차1 - 식별자\n",
    "- 식별자에 대해 배웁니다. "
   ]
  },
  {
   "cell_type": "code",
   "execution_count": 1,
   "id": "51965891-a513-4015-a8b0-0d6edced27ab",
   "metadata": {},
   "outputs": [
    {
     "data": {
      "text/plain": [
       "2"
      ]
     },
     "execution_count": 1,
     "metadata": {},
     "output_type": "execute_result"
    }
   ],
   "source": [
    "1+1"
   ]
  },
  {
   "cell_type": "markdown",
   "id": "1b2641d8-b945-48e6-bace-f629f860ae5c",
   "metadata": {},
   "source": [
    "## 스네이크 케이스와 캐멀 케이스\n",
    "- 각 프로그래밍 언어마다 양식이 존재함\n",
    "- 클래스를 정의할 때, 앞문자가 대문자여야 함 -> CamelCase 방식\n",
    "- 함수를 정의할 때 -> sanke_case 방식"
   ]
  },
  {
   "cell_type": "markdown",
   "id": "171d1972-a8e4-4ece-bd54-cf00082adac2",
   "metadata": {},
   "source": [
    "# 목차2 - 식별자 구분하기"
   ]
  },
  {
   "cell_type": "markdown",
   "id": "9f1e9d53-a6ac-416f-b869-7ce282a4bdb3",
   "metadata": {},
   "source": [
    "print() # 소문자\n",
    "list() # 소문자\n",
    "class Animal # 대문자\n",
    "BeautifulSoup() # 대문자 / CamelCase"
   ]
  },
  {
   "cell_type": "markdown",
   "id": "b104f817-24fd-4c1c-af90-33f6d77c9749",
   "metadata": {},
   "source": [
    "## 입력과 출력\n",
    "- input() : 입력\n",
    "- print() : 출력"
   ]
  },
  {
   "cell_type": "code",
   "execution_count": 6,
   "id": "1d008cdf-aafa-4494-a48e-58d69f97f4b8",
   "metadata": {},
   "outputs": [
    {
     "name": "stdout",
     "output_type": "stream",
     "text": [
      "말을 입력하세요 안녕하세요\n"
     ]
    },
    {
     "name": "stdout",
     "output_type": "stream",
     "text": [
      "안녕하세요\n"
     ]
    }
   ],
   "source": [
    "var1 = input(\"말을 입력하세요\")\n",
    "print(var1)"
   ]
  },
  {
   "cell_type": "markdown",
   "id": "5b71708d-2b3d-42c3-b670-59be0af47ffd",
   "metadata": {},
   "source": [
    "- 숫자를 출력할 때와 문자를 출력할 때가 다름"
   ]
  },
  {
   "cell_type": "code",
   "execution_count": 7,
   "id": "9e6dce72-5a7a-4494-aa3e-bfb3cb6af473",
   "metadata": {},
   "outputs": [
    {
     "name": "stdout",
     "output_type": "stream",
     "text": [
      "# 하나만 출력합니다\n",
      "\n",
      "10 20 30 40\n"
     ]
    }
   ],
   "source": [
    "print(\"# 하나만 출력합니다\")\n",
    "print()\n",
    "print(10, 20, 30, 40)"
   ]
  },
  {
   "cell_type": "markdown",
   "id": "b8b63a38",
   "metadata": {},
   "source": []
  },
  {
   "cell_type": "markdown",
   "id": "7b813b32-eda1-452f-99f1-07558592a81d",
   "metadata": {},
   "source": [
    "# 목차3 - 자료형과 문자열\n",
    "- 숫자 : 물건의 가격\n",
    "- 문자 : 메시지 내용\n",
    "- 논리 : True or False"
   ]
  },
  {
   "cell_type": "code",
   "execution_count": 8,
   "id": "d934c559-75e6-4592-9cf3-39d709119721",
   "metadata": {},
   "outputs": [
    {
     "name": "stdout",
     "output_type": "stream",
     "text": [
      "<class 'str'>\n"
     ]
    }
   ],
   "source": [
    "print(type(\"안녕하세요\"))\n",
    "\n",
    "# 출려된 값\n",
    "# <class 'str'>\n",
    "# 여기서 class 는 해당 결과 값에 대한 '설명문' 을 의미한다."
   ]
  },
  {
   "cell_type": "code",
   "execution_count": 9,
   "id": "0e636e44-ba77-404f-a349-f2f3cda84d71",
   "metadata": {},
   "outputs": [
    {
     "name": "stdout",
     "output_type": "stream",
     "text": [
      "<class 'pandas.core.frame.DataFrame'>\n"
     ]
    },
    {
     "name": "stderr",
     "output_type": "stream",
     "text": [
      "C:\\Users\\user\\AppData\\Local\\Temp\\ipykernel_15612\\2331799238.py:1: DeprecationWarning: \n",
      "Pyarrow will become a required dependency of pandas in the next major release of pandas (pandas 3.0),\n",
      "(to allow more performant data types, such as the Arrow string type, and better interoperability with other libraries)\n",
      "but was not found to be installed on your system.\n",
      "If this would cause problems for you,\n",
      "please provide us feedback at https://github.com/pandas-dev/pandas/issues/54466\n",
      "        \n",
      "  import pandas as pd\n"
     ]
    }
   ],
   "source": [
    "import pandas as pd\n",
    "df = pd.DataFrame({\n",
    "    'col1' : [1, 2, 3],\n",
    "    'col2' : [1, 2, 3],\n",
    "})\n",
    "\n",
    "print(type(df))\n",
    "\n",
    "# 출려된 값\n",
    "# <class 'pandas.core.frame.DataFrame'>\n",
    "# 여기서 class 는 해당 결과 값에 대한 '설명문' 을 의미한다.\n",
    "# 출력된 결과 값이 무엇인지에 대한 설명을 하고 있으며, 구글링에서 공식 문서(documentation)를 참고하여 습득하는게 중요하다.\n",
    "# 'pandas.core.frame.DataFrame'는 2차원, 크기 변경 가능, 잠재적으로 이질적인 표 형식 데이터로,\n",
    "# 데이터 구조에는 레이블이 지정된 축(행 및 열)도 포함되어 있고 산술 연산은 행 및 열 레이블 모두에 맞춰 정렬된다.\n",
    "# 또한, Series 객체에 대한 딕셔너리 같은 컨테이너로 생각할 수 있으며, 기본 pandas data 구조를 의미한다. \n",
    "    "
   ]
  },
  {
   "cell_type": "markdown",
   "id": "43fbe454-12d6-433b-92ba-4be54697cb6b",
   "metadata": {},
   "source": [
    "### 문자열 만들기\n",
    "- 큰 따옴표 방식 / 작은 따옴표 방식\n",
    "- 결론 : 지금은 크게 구분하지 않음\n",
    "- 주의 사항 : \"\", '' 을 쌍으로 매칭   '\"은 절대 안됨"
   ]
  },
  {
   "cell_type": "code",
   "execution_count": 11,
   "id": "955fc9b1-6f39-4aae-b3ec-19de1d88b197",
   "metadata": {},
   "outputs": [
    {
     "name": "stdout",
     "output_type": "stream",
     "text": [
      "안녕하세요\n"
     ]
    }
   ],
   "source": [
    "print(\"안녕하세요\")"
   ]
  },
  {
   "cell_type": "markdown",
   "id": "14390775-2aed-4fc2-9bcb-9b597692ed5c",
   "metadata": {},
   "source": [
    "교재 p.89 확인\n",
    "- '' 안에 \"\" 사용하기\n",
    "- \"\" 안에 '' 사용하기\n",
    "- '', \"\" 모두 두 개의 쌍이 일치하게만 잘 써주면 ''과 \"\" 안에 중첩되게 사용해도 무관\n"
   ]
  },
  {
   "cell_type": "code",
   "execution_count": 12,
   "id": "581d62b6-cee5-44b8-82d1-468c14be9e36",
   "metadata": {},
   "outputs": [
    {
     "name": "stdout",
     "output_type": "stream",
     "text": [
      "\"안녕하세요\"라고 말했습니다.\n"
     ]
    }
   ],
   "source": [
    "print('\"안녕하세요\"라고 말했습니다.')"
   ]
  },
  {
   "cell_type": "markdown",
   "id": "3010670c-26b9-4e9e-8021-9061b26a601f",
   "metadata": {},
   "source": [
    "### 이스케이프 문자\n",
    "- \\n : 줄바꿈\n",
    "- \\t : 탭\n",
    "- \\\\ : 역슬래시(\\)를 의미"
   ]
  },
  {
   "cell_type": "code",
   "execution_count": 13,
   "id": "1a9e6a76-afe8-4b77-ad6b-d01c12ceb747",
   "metadata": {},
   "outputs": [
    {
     "name": "stdout",
     "output_type": "stream",
     "text": [
      "안녕하세요\n",
      "안녕하세요\n"
     ]
    }
   ],
   "source": [
    "print(\"안녕하세요\\n안녕하세요\")"
   ]
  },
  {
   "cell_type": "code",
   "execution_count": 14,
   "id": "fbdef74f-f6fe-4942-b6c2-233512c4bc1f",
   "metadata": {},
   "outputs": [
    {
     "name": "stdout",
     "output_type": "stream",
     "text": [
      "안녕하세요\t안녕하세요\n"
     ]
    }
   ],
   "source": [
    "print(\"안녕하세요\\t안녕하세요\")"
   ]
  },
  {
   "cell_type": "markdown",
   "id": "e720d528-8253-434a-bab0-bb95fb3ecc36",
   "metadata": {},
   "source": [
    "### 문자열 연산자(중요)\n",
    "- 자주 사용함\n",
    "- 사칙 연산 중에서 덧셈과 곱셈 사용 가능"
   ]
  },
  {
   "cell_type": "code",
   "execution_count": 15,
   "id": "af080a6b-9e9d-4ff2-867c-0611eaacf1ca",
   "metadata": {},
   "outputs": [
    {
     "name": "stdout",
     "output_type": "stream",
     "text": [
      "4\n",
      "3\n",
      "18\n",
      "0.5\n"
     ]
    }
   ],
   "source": [
    "print(2+2)\n",
    "print(5-2)\n",
    "print(6*3)\n",
    "print(3/6)"
   ]
  },
  {
   "cell_type": "code",
   "execution_count": 16,
   "id": "a8cf6e58-1e3e-4dab-8d22-df913136ae4f",
   "metadata": {},
   "outputs": [
    {
     "name": "stdout",
     "output_type": "stream",
     "text": [
      "안녕하세요\n"
     ]
    }
   ],
   "source": [
    "print(\"안녕\" + \"하세요\")"
   ]
  },
  {
   "cell_type": "code",
   "execution_count": 31,
   "id": "cf4c3cd7-8911-48ba-bfdc-8a7aa527c351",
   "metadata": {},
   "outputs": [
    {
     "name": "stdout",
     "output_type": "stream",
     "text": [
      "안녕하세요\n"
     ]
    }
   ],
   "source": [
    "var1 = \"안녕\"\n",
    "var2 = \"하세요\"\n",
    "\n",
    "result = var1 + var2\n",
    "print(result)"
   ]
  },
  {
   "cell_type": "markdown",
   "id": "5e9a363e-7c44-4645-8690-fc1230ad820e",
   "metadata": {},
   "source": [
    "### 형변환\n",
    "[문자(열)형으로 형변환]\n",
    "- 보이는 그대로 문자(열)형(str)으로 변환.\n",
    "\n",
    "[정수형으로 형변환]\n",
    "- int의 형태를 가진 str은 int로 변환 가능.\n",
    "- float은 int로 변환 가능. 단, 소수점 이하는 버림.\n",
    "- 숫자가 아닌 문자열(str)은 정수형(int)으로 변환 불가.\n",
    "- str의 경우 \"11.00\"처럼 float형태의 텍스트는 int로 변환 불가.\n",
    "- bool의 형태는 int로 변환 가능.\n",
    "- True 값은 숫자 1로 변환.\n",
    "- False 값은 숫자 0으로 변환."
   ]
  },
  {
   "cell_type": "code",
   "execution_count": 30,
   "id": "f1ed2f5a-a749-492f-927c-802cd5a3e557",
   "metadata": {},
   "outputs": [
    {
     "name": "stdout",
     "output_type": "stream",
     "text": [
      "1안녕\n"
     ]
    }
   ],
   "source": [
    "# 예제 1)\n",
    "#num1 = 1\n",
    "#var1 = \"안녕\"\n",
    "\n",
    "#result = num1 + var1\n",
    "#print(result)\n",
    "#ValueError: invalid literal for int() with base 10: '안녕' 에러 발생\n",
    "\n",
    "# 해결 1)\n",
    "num1 = 1\n",
    "var1 = \"안녕\"\n",
    "\n",
    "#num1의 자료형이 int 형이므로 str()를 통해 str 형으로 변환해준다.\n",
    "#str() : str(문자열) 형으로 자료형을 변환해줌.\n",
    "result = str(num1) + var1 \n",
    "\n",
    "print(result)"
   ]
  },
  {
   "cell_type": "code",
   "execution_count": 25,
   "id": "aa6e22d8-2677-46f2-9294-eb386c5c8a6e",
   "metadata": {},
   "outputs": [
    {
     "name": "stdout",
     "output_type": "stream",
     "text": [
      "2\n"
     ]
    }
   ],
   "source": [
    "num2 = 1\n",
    "result = num1 + num2 \n",
    "print(result)"
   ]
  },
  {
   "cell_type": "code",
   "execution_count": 18,
   "id": "13e66643-a664-4320-b557-2436aaad0042",
   "metadata": {},
   "outputs": [
    {
     "name": "stdout",
     "output_type": "stream",
     "text": [
      "안녕안녕안녕\n"
     ]
    }
   ],
   "source": [
    "var1 = \"안녕\"\n",
    "var2 = \"하세요\"\n",
    "\n",
    "result = var1*3\n",
    "print(result)"
   ]
  },
  {
   "cell_type": "markdown",
   "id": "c7009b4d-afe2-4904-b6fc-8096357ed231",
   "metadata": {},
   "source": [
    "### 문자 선택 연산자(인덱싱): []\n",
    "- 리스트, 튜플 등과 같이 원리가 동일\n",
    "- 자주 쓰이는 문법(중요!!!)"
   ]
  },
  {
   "cell_type": "code",
   "execution_count": 34,
   "id": "ea5a8022-158d-4fd8-b458-1a1c6ba15b59",
   "metadata": {},
   "outputs": [
    {
     "name": "stdout",
     "output_type": "stream",
     "text": [
      "안\n",
      "세\n"
     ]
    }
   ],
   "source": [
    "var1 = \"안녕하세요\"\n",
    "# python은 맨 앞 인덱스가 0번\n",
    "print(var1[0])\n",
    "print(var1[3])"
   ]
  },
  {
   "cell_type": "code",
   "execution_count": 33,
   "id": "d094c085-6ccf-46a4-b97f-3cb5d29ed162",
   "metadata": {},
   "outputs": [
    {
     "name": "stdout",
     "output_type": "stream",
     "text": [
      "요\n",
      "세\n"
     ]
    }
   ],
   "source": [
    "var1 = \"안녕하세요\"\n",
    "# 뒤에서부터 출력\n",
    "print(var1[-1])\n",
    "print(var1[-2])"
   ]
  },
  {
   "cell_type": "code",
   "execution_count": 36,
   "id": "448e6e88-0107-4f91-a8ec-ee17ddeb0859",
   "metadata": {},
   "outputs": [
    {
     "name": "stdout",
     "output_type": "stream",
     "text": [
      "P\n"
     ]
    }
   ],
   "source": [
    "# 문자열의 공백도 인덱스로 \n",
    "var1 = \"Hello Python!!!\"\n",
    "print(var1[6])"
   ]
  },
  {
   "cell_type": "markdown",
   "id": "656a0225-dde1-4752-b8f1-86557650d4ac",
   "metadata": {},
   "source": [
    "### 문자열 범위 선택(슬라이싱) [:]\n",
    "- 리스트, 튜플 등 자료형과 원리 동일"
   ]
  },
  {
   "cell_type": "code",
   "execution_count": 37,
   "id": "cc908711-8ddd-4df6-823c-e98a5869ed78",
   "metadata": {},
   "outputs": [
    {
     "name": "stdout",
     "output_type": "stream",
     "text": [
      "Hell\n"
     ]
    }
   ],
   "source": [
    "var1 = \"Hello Python!!!\"\n",
    "#[n:n-1]까지 인덱스를 슬라이싱해서 출력\n",
    "print(var1[0:4])"
   ]
  },
  {
   "cell_type": "code",
   "execution_count": 38,
   "id": "da1dca51-a869-4507-82c6-f0336d5c179c",
   "metadata": {},
   "outputs": [
    {
     "data": {
      "text/plain": [
       "15"
      ]
     },
     "execution_count": 38,
     "metadata": {},
     "output_type": "execute_result"
    }
   ],
   "source": [
    "len(var1)"
   ]
  },
  {
   "cell_type": "code",
   "execution_count": 40,
   "id": "d3d5d3e3-84a9-4162-a875-6b4f05fc6c67",
   "metadata": {},
   "outputs": [
    {
     "name": "stdout",
     "output_type": "stream",
     "text": [
      "aaaaaaaa\n"
     ]
    }
   ],
   "source": [
    "#인덱스를 2칸식 슬라이싱\n",
    "var1 = \"abababababababab\"\n",
    "print(var1[0::2])"
   ]
  },
  {
   "cell_type": "code",
   "execution_count": 41,
   "id": "87673057-230c-41b4-b4a2-14b2d6a3253a",
   "metadata": {},
   "outputs": [
    {
     "name": "stdout",
     "output_type": "stream",
     "text": [
      "bbbbbbbb\n"
     ]
    }
   ],
   "source": [
    "#인덱스를 2칸식 슬라이싱\n",
    "var1 = \"abababababababab\"\n",
    "print(var1[1::2])"
   ]
  },
  {
   "cell_type": "markdown",
   "id": "4ecba1b9-f533-4955-88b0-bde854d405de",
   "metadata": {},
   "source": [
    "# 목차4 - 자료형과 숫자"
   ]
  },
  {
   "cell_type": "markdown",
   "id": "42d07f57-ef91-49f2-9c04-d3ce6ffe1b82",
   "metadata": {},
   "source": [
    "### 지수 표현"
   ]
  },
  {
   "cell_type": "code",
   "execution_count": 43,
   "id": "4d7e0ea3-a18d-41ae-abcc-16d7c9360a48",
   "metadata": {},
   "outputs": [
    {
     "data": {
      "text/plain": [
       "52.2273"
      ]
     },
     "execution_count": 43,
     "metadata": {},
     "output_type": "execute_result"
    }
   ],
   "source": [
    "# 10의 2제곱을 표현 -> 10^2\n",
    "0.522273e2"
   ]
  },
  {
   "cell_type": "code",
   "execution_count": 44,
   "id": "4bd44305-646d-48a5-b476-07a9a5a1ffa0",
   "metadata": {},
   "outputs": [
    {
     "data": {
      "text/plain": [
       "0.0522273"
      ]
     },
     "execution_count": 44,
     "metadata": {},
     "output_type": "execute_result"
    }
   ],
   "source": [
    "# 10의 -1제곱을 표현 -> 10^-1\n",
    "\n",
    "0.522273e-1"
   ]
  },
  {
   "cell_type": "markdown",
   "id": "09a8d62d-cab2-43a1-8eac-63e92ef8d406",
   "metadata": {},
   "source": [
    "### 사칙연산"
   ]
  },
  {
   "cell_type": "code",
   "execution_count": 46,
   "id": "510036b0-01f3-406b-b8fc-c25e74ed211b",
   "metadata": {},
   "outputs": [
    {
     "data": {
      "text/plain": [
       "2.0"
      ]
     },
     "execution_count": 46,
     "metadata": {},
     "output_type": "execute_result"
    }
   ],
   "source": [
    "6/3"
   ]
  },
  {
   "cell_type": "code",
   "execution_count": 47,
   "id": "aa59d9f1-51cd-42ab-a8d1-c1599e83cb63",
   "metadata": {},
   "outputs": [
    {
     "data": {
      "text/plain": [
       "9"
      ]
     },
     "execution_count": 47,
     "metadata": {},
     "output_type": "execute_result"
    }
   ],
   "source": [
    "6+3"
   ]
  },
  {
   "cell_type": "code",
   "execution_count": 48,
   "id": "00a8dd1a-ff3f-4f91-acb8-cbffffcad607",
   "metadata": {},
   "outputs": [
    {
     "data": {
      "text/plain": [
       "5.0"
      ]
     },
     "execution_count": 48,
     "metadata": {},
     "output_type": "execute_result"
    }
   ],
   "source": [
    "2.0 + 3"
   ]
  },
  {
   "cell_type": "code",
   "execution_count": 49,
   "id": "01a30291-ccd0-4352-b798-9ba559bfe5ba",
   "metadata": {},
   "outputs": [
    {
     "data": {
      "text/plain": [
       "1"
      ]
     },
     "execution_count": 49,
     "metadata": {},
     "output_type": "execute_result"
    }
   ],
   "source": [
    "# 나누기 연산자 : //\n",
    "3 // 2 "
   ]
  },
  {
   "cell_type": "code",
   "execution_count": 51,
   "id": "ec5dbb7b-685f-45a1-9fda-c069384cafb9",
   "metadata": {},
   "outputs": [
    {
     "data": {
      "text/plain": [
       "2"
      ]
     },
     "execution_count": 51,
     "metadata": {},
     "output_type": "execute_result"
    }
   ],
   "source": [
    "# 나머지 연산자 : %\n",
    "5 % 3"
   ]
  },
  {
   "cell_type": "code",
   "execution_count": 52,
   "id": "8efbdc88-aeda-4688-a31d-6109b7246eeb",
   "metadata": {},
   "outputs": [
    {
     "data": {
      "text/plain": [
       "4"
      ]
     },
     "execution_count": 52,
     "metadata": {},
     "output_type": "execute_result"
    }
   ],
   "source": [
    "# 제곱 연산자 : **\n",
    "2 ** 2"
   ]
  },
  {
   "cell_type": "code",
   "execution_count": 53,
   "id": "a659a04f-56a6-4403-a29f-a7bfc203d856",
   "metadata": {},
   "outputs": [
    {
     "data": {
      "text/plain": [
       "9"
      ]
     },
     "execution_count": 53,
     "metadata": {},
     "output_type": "execute_result"
    }
   ],
   "source": [
    "3 ** 2"
   ]
  },
  {
   "cell_type": "code",
   "execution_count": 54,
   "id": "aa109297-3f2e-4f11-a190-d8318d6df1fd",
   "metadata": {},
   "outputs": [
    {
     "name": "stdout",
     "output_type": "stream",
     "text": [
      "110\n"
     ]
    }
   ],
   "source": [
    "number = 100\n",
    "number = number + 10\n",
    "print(number)"
   ]
  },
  {
   "cell_type": "code",
   "execution_count": 55,
   "id": "f456137a-60fa-4a09-a8f7-c79e78ece286",
   "metadata": {},
   "outputs": [
    {
     "name": "stdout",
     "output_type": "stream",
     "text": [
      "110\n"
     ]
    }
   ],
   "source": [
    "number = 100\n",
    "number += 10 # number = number + 10 의미와 동일 \n",
    "print(number)"
   ]
  },
  {
   "cell_type": "code",
   "execution_count": 57,
   "id": "12efb612-e621-4194-ac07-b4da5bb3f2b7",
   "metadata": {},
   "outputs": [
    {
     "name": "stdout",
     "output_type": "stream",
     "text": [
      "안녕i\n"
     ]
    }
   ],
   "source": [
    "sample_text = \"안녕\"\n",
    "sample_text = sample_text + \"i\"\n",
    "print(sample_text)"
   ]
  },
  {
   "cell_type": "code",
   "execution_count": 58,
   "id": "7bcc8ba7-6956-4360-a0c4-a9880925c097",
   "metadata": {},
   "outputs": [
    {
     "name": "stdout",
     "output_type": "stream",
     "text": [
      "안녕i\n"
     ]
    }
   ],
   "source": [
    "sample_text = \"안녕\"\n",
    "sample_text += \"i\"\n",
    "print(sample_text)"
   ]
  },
  {
   "cell_type": "markdown",
   "id": "8a8f518c-73bb-48de-b731-b4174a0d9316",
   "metadata": {},
   "source": [
    "### input()"
   ]
  },
  {
   "cell_type": "code",
   "execution_count": 63,
   "id": "cce39359-d9a5-4067-89f6-64b04b390744",
   "metadata": {},
   "outputs": [
    {
     "name": "stdout",
     "output_type": "stream",
     "text": [
      "숫자를 입력하세요! 4\n",
      "숫자를 입력하세요! 5\n"
     ]
    },
    {
     "name": "stdout",
     "output_type": "stream",
     "text": [
      "9\n"
     ]
    }
   ],
   "source": [
    "num1 = input(\"숫자를 입력하세요!\")\n",
    "num2 = input(\"숫자를 입력하세요!\")\n",
    "\n",
    "result = int(num1) + int(num2) \n",
    "print(result)"
   ]
  },
  {
   "cell_type": "code",
   "execution_count": 64,
   "id": "47d5f6ad-38d8-46ec-8c20-8e21c67fa620",
   "metadata": {},
   "outputs": [
    {
     "name": "stdout",
     "output_type": "stream",
     "text": [
      "숫자를 입력하세요! 5\n",
      "숫자를 입력하세요! 3\n"
     ]
    },
    {
     "name": "stdout",
     "output_type": "stream",
     "text": [
      "<class 'str'> <class 'int'>\n",
      "8\n"
     ]
    }
   ],
   "source": [
    "num1 = input(\"숫자를 입력하세요!\")\n",
    "num2 = int(input(\"숫자를 입력하세요!\"))\n",
    "\n",
    "print(type(num1), type(num2))\n",
    "\n",
    "result = int(num1) + num2 \n",
    "print(result)"
   ]
  },
  {
   "cell_type": "code",
   "execution_count": 65,
   "id": "81890ef9-d385-4aa0-9033-c8b86e56d96c",
   "metadata": {},
   "outputs": [
    {
     "name": "stdout",
     "output_type": "stream",
     "text": [
      "52\n",
      "52.273\n"
     ]
    }
   ],
   "source": [
    "num1 = \"52\"\n",
    "num2 = \"52.273\"\n",
    "\n",
    "print(int(num1))\n",
    "print(float(num2))"
   ]
  },
  {
   "cell_type": "code",
   "execution_count": 69,
   "id": "4fd89fb0-b410-4367-9917-a26745b78d39",
   "metadata": {},
   "outputs": [
    {
     "name": "stdout",
     "output_type": "stream",
     "text": [
      "52.0\n"
     ]
    }
   ],
   "source": [
    "print(float(num1))"
   ]
  },
  {
   "cell_type": "markdown",
   "id": "2f49edd5-210e-4ec0-8d3f-a219f2a10218",
   "metadata": {},
   "source": [
    "[ValueError: invalid literal for int() with base 10: '52.273'] 에러 발생\n",
    "\n",
    "- \"52.273\"처럼 소숫점이 있는 문자열은 바로 정수 변환이 안됨(주의)\n",
    "\n",
    "  -> 문자열 ==> 실수형 ==> 정수형"
   ]
  },
  {
   "cell_type": "code",
   "execution_count": 71,
   "id": "8a36a63e-e147-48f3-9135-cfc325177922",
   "metadata": {},
   "outputs": [
    {
     "name": "stdout",
     "output_type": "stream",
     "text": [
      "52\n"
     ]
    }
   ],
   "source": [
    "# ValueError: invalid literal for int() with base 10: '52.273' 에러 발생\n",
    "# \"52.273\"처럼 소숫점이 있는 문자열은 바로 ㅈ어수 변환이 안됨(주의)\n",
    "# 문자열 ==> 실수형 ==> 정수형\n",
    "# print(int(num2))\n",
    "\n",
    "print(int(float(num2)))"
   ]
  },
  {
   "cell_type": "markdown",
   "id": "d76686ac-714e-4a28-a14a-0054d81787dd",
   "metadata": {},
   "source": [
    "# 목차5 - 문자열 포매팅\n",
    "- `f'문자열{표현식}문자열'`"
   ]
  },
  {
   "cell_type": "code",
   "execution_count": 73,
   "id": "2bb9487c-cc9f-48fb-bf67-df186ec6e4f9",
   "metadata": {},
   "outputs": [
    {
     "data": {
      "text/plain": [
       "'10'"
      ]
     },
     "execution_count": 73,
     "metadata": {},
     "output_type": "execute_result"
    }
   ],
   "source": [
    "# {} format() 함수 방식\n",
    "num1 = 10 \n",
    "\"{}\".format(num1)"
   ]
  },
  {
   "cell_type": "code",
   "execution_count": 75,
   "id": "df692c64-ab1d-48f6-94d3-2e0fc3bd60fe",
   "metadata": {},
   "outputs": [
    {
     "data": {
      "text/plain": [
       "'10'"
      ]
     },
     "execution_count": 75,
     "metadata": {},
     "output_type": "execute_result"
    }
   ],
   "source": [
    "# f-문자열 방식\n",
    "num1 = 10\n",
    "f'{num1}'"
   ]
  },
  {
   "cell_type": "markdown",
   "id": "653eb592-64da-4be5-97e6-a1ae9ddd03c1",
   "metadata": {},
   "source": [
    "### f 문자열 포매팅\n",
    "- 파이썬 3.6 버전부터는 f 문자열 포매팅 기능을 사용할 수 있다. 파이썬 3.6 미만 버전에서는 사용할 수 없는 기능이므로 주의해야 한다.\n",
    "\n",
    "- 문자열 앞에 f 접두사를 붙이면 f 문자열 포매팅 기능을 사용할 수 있다.\n",
    "\n",
    "- 또한 f 문자열 포매팅은 표현식을 지원한다."
   ]
  },
  {
   "cell_type": "code",
   "execution_count": 79,
   "id": "7e65f955-4bfe-488b-abab-347f7bd9b6d2",
   "metadata": {},
   "outputs": [
    {
     "name": "stdout",
     "output_type": "stream",
     "text": [
      "안녕하세요 저는 호랑이입니다. 저의 나이는 23살 입니다.\n"
     ]
    }
   ],
   "source": [
    "name = '호랑이'\n",
    "age = '23'\n",
    "\n",
    "print(f'안녕하세요 저는 {name}입니다. 저의 나이는 {age}살 입니다.')"
   ]
  },
  {
   "cell_type": "markdown",
   "id": "de623222-0edc-4ca3-9b66-82fedf169c71",
   "metadata": {},
   "source": [
    "### 문자열 내장 메서드"
   ]
  },
  {
   "cell_type": "code",
   "execution_count": 80,
   "id": "4dc73a4d-7b5c-4083-b851-1f0042717911",
   "metadata": {},
   "outputs": [
    {
     "name": "stdout",
     "output_type": "stream",
     "text": [
      "True\n"
     ]
    }
   ],
   "source": [
    "print(\"안녕\" in \"안녕하세요\")"
   ]
  },
  {
   "cell_type": "code",
   "execution_count": 86,
   "id": "de782b4a-c8eb-4633-b2eb-02520d5cd06a",
   "metadata": {},
   "outputs": [
    {
     "name": "stdout",
     "output_type": "stream",
     "text": [
      "False\n"
     ]
    }
   ],
   "source": [
    "print(\"안녕허\" in \"안녕하세요\")"
   ]
  },
  {
   "cell_type": "code",
   "execution_count": 82,
   "id": "4335a8a5-5d30-4be3-b76c-edb480d6f487",
   "metadata": {},
   "outputs": [
    {
     "data": {
      "text/plain": [
       "['10', '20', '30', '40', '50']"
      ]
     },
     "execution_count": 82,
     "metadata": {},
     "output_type": "execute_result"
    }
   ],
   "source": [
    "a = \"10 20 30 40 50\".split(\" \") # str.split() : str은 문자열 클래스, split은 자료형으로 떨어지는 명령\n",
    "                                # sep는 생략한 버전\n",
    "a"
   ]
  },
  {
   "cell_type": "code",
   "execution_count": 85,
   "id": "ddd0ea5b-c7b2-4380-9441-ddb79a27562e",
   "metadata": {},
   "outputs": [
    {
     "data": {
      "text/plain": [
       "['10', '20', '30', '40', '50']"
      ]
     },
     "execution_count": 85,
     "metadata": {},
     "output_type": "execute_result"
    }
   ],
   "source": [
    "a = \"10 20 30 40 50\".split(sep=\" \") # str.split() : str은 문자열 클래스, split은 자료형으로 떨어지는 명령\n",
    "a"
   ]
  },
  {
   "cell_type": "code",
   "execution_count": 88,
   "id": "8c09b399-d243-43f3-b499-552fa84571c2",
   "metadata": {},
   "outputs": [
    {
     "name": "stdout",
     "output_type": "stream",
     "text": [
      "['sample', 'file', 'txt,py', 'test']\n"
     ]
    }
   ],
   "source": [
    "filename = \"sample.file.txt,py.test\"\n",
    "parts = filename.split('.')\n",
    "print(parts)"
   ]
  },
  {
   "cell_type": "markdown",
   "id": "c8bede0d-8256-4ebc-8dce-457733daa572",
   "metadata": {},
   "source": [
    "# 목차6 - 리스트와 튜플"
   ]
  },
  {
   "cell_type": "code",
   "execution_count": 93,
   "id": "50fecaf4-9920-48b6-83f1-b9bbc8531f23",
   "metadata": {},
   "outputs": [],
   "source": [
    "a = list()\n",
    "b = []\n",
    "c = [1, 2, 3]\n",
    "d = [\"a\", \"b\", \"c\"]\n",
    "e = [1, 2, \"a\", None, True]\n",
    "f = [1, 2, 3, [1, 2, \"Hello, Python!!!\", None, True]] # Nested List, 중첩 리스트"
   ]
  },
  {
   "cell_type": "code",
   "execution_count": 94,
   "id": "9a2e07c4-f46c-4fe3-acb3-62418d34d1dc",
   "metadata": {},
   "outputs": [
    {
     "name": "stdout",
     "output_type": "stream",
     "text": [
      "[] [] [1, 2, 3] ['a', 'b', 'c'] [1, 2, 'a', None, True] [1, 2, 3, [1, 2, 'Hello, Python!!!', None, True]]\n",
      "[1, 2, 3, [1, 2, 'Hello, Python!!!', None, True]]\n"
     ]
    }
   ],
   "source": [
    "print(a, b, c, d, e, f)\n",
    "print(f)"
   ]
  },
  {
   "cell_type": "code",
   "execution_count": 97,
   "id": "a3623988-bd60-4256-b000-2d1197ad7844",
   "metadata": {},
   "outputs": [
    {
     "name": "stdout",
     "output_type": "stream",
     "text": [
      "[1, 2, 'Hello, Python!!!', None, True]\n"
     ]
    }
   ],
   "source": [
    "print(f[3])"
   ]
  },
  {
   "cell_type": "code",
   "execution_count": 98,
   "id": "9f4f3e53-8f9f-47a9-9562-7df59508f180",
   "metadata": {},
   "outputs": [
    {
     "data": {
      "text/plain": [
       "'Hello, Python!!!'"
      ]
     },
     "execution_count": 98,
     "metadata": {},
     "output_type": "execute_result"
    }
   ],
   "source": [
    "f_a = f[3]\n",
    "f_a[2]"
   ]
  },
  {
   "cell_type": "code",
   "execution_count": 100,
   "id": "fd71b9a6-506b-42dd-95ed-e7ba43d58b51",
   "metadata": {},
   "outputs": [
    {
     "data": {
      "text/plain": [
       "'Python'"
      ]
     },
     "execution_count": 100,
     "metadata": {},
     "output_type": "execute_result"
    }
   ],
   "source": [
    "f_a = f[3]\n",
    "text = f_a[2]\n",
    "text[7:13]"
   ]
  },
  {
   "cell_type": "code",
   "execution_count": 104,
   "id": "d50cee3e-9124-4df1-8141-57b56d59f341",
   "metadata": {},
   "outputs": [
    {
     "name": "stdout",
     "output_type": "stream",
     "text": [
      "Python\n"
     ]
    }
   ],
   "source": [
    "# 중간에 있는 파이썬 뽑기\n",
    "g = [1, 2, 3, 4, 5, 6, [1, 2, \"Hi,,,, !! Python !!! Hello, \", None, True]]\n",
    "result = g[6][2][10:16]\n",
    "print(result)"
   ]
  },
  {
   "cell_type": "code",
   "execution_count": 103,
   "id": "24cb277d-8a44-4f66-aae6-e2cfe9a98b7d",
   "metadata": {},
   "outputs": [
    {
     "data": {
      "text/plain": [
       "'Python'"
      ]
     },
     "execution_count": 103,
     "metadata": {},
     "output_type": "execute_result"
    }
   ],
   "source": [
    "g_b = g[6]\n",
    "text1 = g_b[2]\n",
    "text1[10:16]"
   ]
  },
  {
   "cell_type": "code",
   "execution_count": null,
   "id": "1390fa01-8aea-468c-8951-19065dff48c2",
   "metadata": {},
   "outputs": [],
   "source": []
  }
 ],
 "metadata": {
  "kernelspec": {
   "display_name": "Python 3 (ipykernel)",
   "language": "python",
   "name": "python3"
  },
  "language_info": {
   "codemirror_mode": {
    "name": "ipython",
    "version": 3
   },
   "file_extension": ".py",
   "mimetype": "text/x-python",
   "name": "python",
   "nbconvert_exporter": "python",
   "pygments_lexer": "ipython3",
   "version": "3.11.7"
  }
 },
 "nbformat": 4,
 "nbformat_minor": 5
}
