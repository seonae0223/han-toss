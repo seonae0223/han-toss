{
 "cells": [
  {
   "cell_type": "markdown",
   "id": "0e35e510-8582-458e-9f0a-409d7d93fc9c",
   "metadata": {},
   "source": [
    "# 목차1 - while 반복문\n",
    "- 조건식이 참이면 계속 수행함\n",
    "- ex) 게임 (자동사냥)\n",
    "  + 자동사냥 버튼 ==> True\n",
    "while 불 표현식 : ### 조건식, True가 조건식을 작성\n",
    "    문장"
   ]
  },
  {
   "cell_type": "markdown",
   "id": "4d3baf98-228c-4101-b586-d7d3b978923c",
   "metadata": {},
   "source": [
    "## for 반복문처럼 사용"
   ]
  },
  {
   "cell_type": "code",
   "execution_count": 2,
   "id": "0e4a3348-a16d-49e5-951a-c1aa9bbe1a90",
   "metadata": {},
   "outputs": [
    {
     "name": "stdout",
     "output_type": "stream",
     "text": [
      "0번째 반복입니다.\n",
      "1번째 반복입니다.\n",
      "2번째 반복입니다.\n",
      "3번째 반복입니다.\n",
      "4번째 반복입니다.\n",
      "5번째 반복입니다.\n",
      "6번째 반복입니다.\n",
      "7번째 반복입니다.\n",
      "8번째 반복입니다.\n",
      "9번째 반복입니다.\n",
      "10\n"
     ]
    }
   ],
   "source": [
    "i = 0\n",
    "while i < 10:\n",
    "    print('{}번째 반복입니다.'.format(i))\n",
    "    i += 1\n",
    "\n",
    "print(i)"
   ]
  },
  {
   "cell_type": "markdown",
   "id": "6d71308a-5030-4291-8ea0-0cb37a5aa22d",
   "metadata": {},
   "source": [
    "## 상태를 기반으로 반복"
   ]
  },
  {
   "cell_type": "code",
   "execution_count": 5,
   "id": "3a95377e-4eb5-4ccf-a680-e3eb9f9ddcc5",
   "metadata": {},
   "outputs": [
    {
     "data": {
      "text/plain": [
       "True"
      ]
     },
     "execution_count": 5,
     "metadata": {},
     "output_type": "execute_result"
    }
   ],
   "source": [
    "list_test = [1, 2, 1, 2]\n",
    "value = 2\n",
    "\n",
    "value in list_test"
   ]
  },
  {
   "cell_type": "code",
   "execution_count": 6,
   "id": "c7c59508-d8dc-4b4e-80d0-1c14f28c4742",
   "metadata": {},
   "outputs": [
    {
     "data": {
      "text/plain": [
       "[1, 1, 2]"
      ]
     },
     "execution_count": 6,
     "metadata": {},
     "output_type": "execute_result"
    }
   ],
   "source": [
    "list_test.remove(value)\n",
    "list_test"
   ]
  },
  {
   "cell_type": "code",
   "execution_count": 7,
   "id": "1c646418-836b-4c2e-b273-9b1f113290a6",
   "metadata": {},
   "outputs": [
    {
     "name": "stdout",
     "output_type": "stream",
     "text": [
      "[1, 1]\n"
     ]
    }
   ],
   "source": [
    "list_test = [1, 2, 1, 2]\n",
    "value = 2\n",
    "\n",
    "while value in list_test:\n",
    "    list_test.remove(value)\n",
    "\n",
    "print(list_test)"
   ]
  },
  {
   "cell_type": "markdown",
   "id": "20f6b3e2-0946-466a-83d4-0633a2919858",
   "metadata": {},
   "source": [
    "## 시간을 기반으로 반복하기"
   ]
  },
  {
   "cell_type": "code",
   "execution_count": 12,
   "id": "3ea2746a-37ae-49e3-baea-a0e94d27b769",
   "metadata": {},
   "outputs": [
    {
     "name": "stdout",
     "output_type": "stream",
     "text": [
      "1719538116.6424727\n",
      "1719538121.6424727\n"
     ]
    }
   ],
   "source": [
    "import time \n",
    "\n",
    "print(time.time())\n",
    "target_tick = time.time() + 5\n",
    "print(target_tick)"
   ]
  },
  {
   "cell_type": "code",
   "execution_count": 10,
   "id": "5184a366-aa02-4133-b214-acac4eac3680",
   "metadata": {},
   "outputs": [
    {
     "data": {
      "text/plain": [
       "30154547"
      ]
     },
     "execution_count": 10,
     "metadata": {},
     "output_type": "execute_result"
    }
   ],
   "source": [
    "number = 0\n",
    "\n",
    "# 5포 동안 반복\n",
    "target_tick = time.time() + 5\n",
    "\n",
    "while time.time() < target_tick:\n",
    "    number += 1\n",
    "number"
   ]
  },
  {
   "cell_type": "markdown",
   "id": "91cf88ad-c6ca-414c-9149-b1f678b1d4c3",
   "metadata": {},
   "source": [
    "## brak와 continue문"
   ]
  },
  {
   "cell_type": "code",
   "execution_count": 18,
   "id": "a1f3846c-3c93-4b84-8d51-db0dfd12db9a",
   "metadata": {},
   "outputs": [
    {
     "name": "stdout",
     "output_type": "stream",
     "text": [
      "5\n",
      "6\n",
      "7\n",
      "10\n",
      "15\n"
     ]
    }
   ],
   "source": [
    "numbers = [5, 6, 7, 10, 15, 25]\n",
    "\n",
    "\n",
    "for number in numbers:\n",
    "    print(number)\n",
    "    if number > 10:\n",
    "        break"
   ]
  },
  {
   "cell_type": "code",
   "execution_count": 17,
   "id": "8fa0f252-3562-4bf0-963b-7904a5957209",
   "metadata": {},
   "outputs": [
    {
     "name": "stdout",
     "output_type": "stream",
     "text": [
      "5\n",
      "6\n",
      "7\n",
      "10\n"
     ]
    }
   ],
   "source": [
    "numbers = [5, 6, 7, 10, 15, 25]\n",
    "\n",
    "\n",
    "for number in numbers:\n",
    "    if number > 10:\n",
    "        break\n",
    "    print(number)"
   ]
  },
  {
   "cell_type": "markdown",
   "id": "c99a756d-0ebd-44e0-9cd6-95671246aa11",
   "metadata": {},
   "source": [
    "# 목차2 - 함수 만들기\n",
    "- 공식 문서 볼 때 필 수 확인사항 2가지\n",
    "  + 매개변수 입력 방법(or 자료형)\n",
    "  + 반환값, 반환되는 자료형의 형태(int, str, array, list, DataFrame, etc)"
   ]
  },
  {
   "cell_type": "code",
   "execution_count": 19,
   "id": "c0325be7-2599-4e2c-8a3e-1d9027894e29",
   "metadata": {},
   "outputs": [
    {
     "data": {
      "text/plain": [
       "5"
      ]
     },
     "execution_count": 19,
     "metadata": {},
     "output_type": "execute_result"
    }
   ],
   "source": [
    "text = \"안녕하세요\"\n",
    "len(text)"
   ]
  },
  {
   "cell_type": "markdown",
   "id": "8c3b1648-d25d-41d2-ad6d-29407ae76557",
   "metadata": {},
   "source": [
    "- a 함수 ==> 리스트 ==> 문자열 변경\n",
    "- b 함수 매개변수 문자열"
   ]
  },
  {
   "cell_type": "markdown",
   "id": "163c59eb-44d0-40ec-9a86-d434acce0e9a",
   "metadata": {},
   "source": [
    "## Docstring 작성하기"
   ]
  },
  {
   "cell_type": "code",
   "execution_count": 21,
   "id": "669064bc-0e29-4083-b0da-5b50808b5c77",
   "metadata": {},
   "outputs": [],
   "source": [
    "def add(a, b):\n",
    "    \"\"\"\n",
    "    두 수의 합을 반환합니다.\n",
    "\n",
    "    매개변수:\n",
    "    a (int, float): 첫 번째 숫자.\n",
    "    b (int, float): 두 번째 숫자.\n",
    "\n",
    "    반환값:\n",
    "    int, float: 두 숫자의 합.\n",
    "\n",
    "    예제:\n",
    "    >>> add(2, 3)\n",
    "    5\n",
    "    >>> add(5.5, 4.5)\n",
    "    10.0\n",
    "    \"\"\"\n",
    "    return a + b\n"
   ]
  },
  {
   "cell_type": "code",
   "execution_count": 23,
   "id": "27266778-7f31-47a9-9a4e-eb2a87440c4e",
   "metadata": {},
   "outputs": [
    {
     "name": "stdout",
     "output_type": "stream",
     "text": [
      "\n",
      "    두 수의 합을 반환합니다.\n",
      "\n",
      "    매개변수:\n",
      "    a (int, float): 첫 번째 숫자.\n",
      "    b (int, float): 두 번째 숫자.\n",
      "\n",
      "    반환값:\n",
      "    int, float: 두 숫자의 합.\n",
      "\n",
      "    예제:\n",
      "    >>> add(2, 3)\n",
      "    5\n",
      "    >>> add(5.5, 4.5)\n",
      "    10.0\n",
      "    \n"
     ]
    }
   ],
   "source": [
    "# Docstring 출력하기\n",
    "print(add.__doc__)"
   ]
  },
  {
   "cell_type": "code",
   "execution_count": 26,
   "id": "ef4da6bb-ba4b-4fb1-89f4-faee1727fdc0",
   "metadata": {},
   "outputs": [],
   "source": [
    "# 사칙연산 함수 생성 및 Dcstring 작성하기\n",
    "\n",
    "def add(a,b):\n",
    "    \"\"\"\n",
    "    두 수의 합을 반환합니다. \n",
    "\n",
    "    매개변수:\n",
    "    a (int, float): 첫 번째 숫자.\n",
    "    b (int, float): 두 번째 숫자.\n",
    "\n",
    "    반환값:\n",
    "    int, float: 두 숫자의 합.\n",
    "    \n",
    "    \"\"\"\n",
    "    return a + b\n",
    "\n",
    "def sub(a,b):\n",
    "    \"\"\"\n",
    "    두 수의 차를 반환합니다. \n",
    "\n",
    "    매개변수:\n",
    "    a (int, float): 첫 번째 숫자.\n",
    "    b (int, float): 두 번째 숫자.\n",
    "\n",
    "    반환값:\n",
    "    int, float: 두 숫자의 차.\n",
    "    \"\"\"\n",
    "    return a - b\n",
    "\n",
    "def mul(a,b):\n",
    "    \"\"\"\n",
    "    두 수의 곱을 반환합니다. \n",
    "\n",
    "    매개변수:\n",
    "    a (int, float): 첫 번째 숫자.\n",
    "    b (int, float): 두 번째 숫자.\n",
    "\n",
    "    반환값:\n",
    "    int, float: 두 숫자의 곱.\n",
    "    \"\"\"\n",
    "    return a * b\n",
    "\n",
    "def div(a,b):\n",
    "    \"\"\"\n",
    "    두 수의 몫을 반환합니다. \n",
    "\n",
    "    매개변수:\n",
    "    a (int, float): 첫 번째 숫자.\n",
    "    b (int, float): 두 번째 숫자.\n",
    "\n",
    "    반환값:\n",
    "    int, float: 두 숫자의 몫.\n",
    "    \"\"\"\n",
    "    return a/b\n",
    "    \n",
    "    "
   ]
  },
  {
   "cell_type": "code",
   "execution_count": 31,
   "id": "cd6eccf8-11b1-41f4-8bb9-638b3fffa6bb",
   "metadata": {},
   "outputs": [
    {
     "name": "stdout",
     "output_type": "stream",
     "text": [
      "\n",
      "    두 수의 합을 반환합니다. \n",
      "\n",
      "    매개변수:\n",
      "    a (int, float): 첫 번째 숫자.\n",
      "    b (int, float): 두 번째 숫자.\n",
      "\n",
      "    반환값:\n",
      "    int, float: 두 숫자의 합.\n",
      "    \n",
      "    \n",
      "\n",
      "    두 수의 차를 반환합니다. \n",
      "\n",
      "    매개변수:\n",
      "    a (int, float): 첫 번째 숫자.\n",
      "    b (int, float): 두 번째 숫자.\n",
      "\n",
      "    반환값:\n",
      "    int, float: 두 숫자의 차.\n",
      "    \n"
     ]
    }
   ],
   "source": [
    "print(add.__doc__)\n",
    "print(sub.__doc__)"
   ]
  },
  {
   "cell_type": "markdown",
   "id": "bfa94474-0711-4049-99d4-5a85e9e36a30",
   "metadata": {},
   "source": [
    "## 에러 유형 확인"
   ]
  },
  {
   "cell_type": "code",
   "execution_count": 32,
   "id": "27e29e63-fa6b-4e8a-ba44-5d2ae7036b52",
   "metadata": {},
   "outputs": [
    {
     "name": "stdout",
     "output_type": "stream",
     "text": [
      "안녕하세요\n",
      "안녕하세요\n",
      "안녕하세요\n",
      "안녕하세요\n",
      "안녕하세요\n"
     ]
    }
   ],
   "source": [
    "def print_n_times(value, n):\n",
    "    for i in range(n):\n",
    "        print(value)\n",
    "\n",
    "print_n_times(\"안녕하세요\", 5)"
   ]
  },
  {
   "cell_type": "code",
   "execution_count": 34,
   "id": "054031d0-bd45-4033-b02c-cfc866d2995a",
   "metadata": {},
   "outputs": [
    {
     "ename": "TypeError",
     "evalue": "print_n_times() missing 1 required positional argument: 'n'",
     "output_type": "error",
     "traceback": [
      "\u001b[1;31m---------------------------------------------------------------------------\u001b[0m",
      "\u001b[1;31mTypeError\u001b[0m                                 Traceback (most recent call last)",
      "Cell \u001b[1;32mIn[34], line 9\u001b[0m\n\u001b[0;32m      6\u001b[0m     \u001b[38;5;28;01mfor\u001b[39;00m i \u001b[38;5;129;01min\u001b[39;00m \u001b[38;5;28mrange\u001b[39m(n):\n\u001b[0;32m      7\u001b[0m         \u001b[38;5;28mprint\u001b[39m(value)\n\u001b[1;32m----> 9\u001b[0m \u001b[43mprint_n_times\u001b[49m\u001b[43m(\u001b[49m\u001b[38;5;124;43m\"\u001b[39;49m\u001b[38;5;124;43m안녕하세요\u001b[39;49m\u001b[38;5;124;43m\"\u001b[39;49m\u001b[43m,\u001b[49m\u001b[43m \u001b[49m\u001b[43m)\u001b[49m\n",
      "\u001b[1;31mTypeError\u001b[0m: print_n_times() missing 1 required positional argument: 'n'"
     ]
    }
   ],
   "source": [
    "# print_n_times(value, n)함수에서 n 값을 넣지 않았을 때\n",
    "#TypeError: print_n_times() missing 1 required positional argument: 'n'\n",
    "#에러 발생\n",
    "\n",
    "def print_n_times(value, n):\n",
    "    for i in range(n):\n",
    "        print(value)\n",
    "\n",
    "print_n_times(\"안녕하세요\", )"
   ]
  },
  {
   "cell_type": "code",
   "execution_count": 35,
   "id": "8dbc8dcd-6872-4ca5-b445-9fd42b4fc9b2",
   "metadata": {},
   "outputs": [
    {
     "ename": "TypeError",
     "evalue": "print_n_times() takes 2 positional arguments but 3 were given",
     "output_type": "error",
     "traceback": [
      "\u001b[1;31m---------------------------------------------------------------------------\u001b[0m",
      "\u001b[1;31mTypeError\u001b[0m                                 Traceback (most recent call last)",
      "Cell \u001b[1;32mIn[35], line 8\u001b[0m\n\u001b[0;32m      5\u001b[0m     \u001b[38;5;28;01mfor\u001b[39;00m i \u001b[38;5;129;01min\u001b[39;00m \u001b[38;5;28mrange\u001b[39m(n):\n\u001b[0;32m      6\u001b[0m         \u001b[38;5;28mprint\u001b[39m(value)\n\u001b[1;32m----> 8\u001b[0m \u001b[43mprint_n_times\u001b[49m\u001b[43m(\u001b[49m\u001b[38;5;124;43m\"\u001b[39;49m\u001b[38;5;124;43m안녕하세요\u001b[39;49m\u001b[38;5;124;43m\"\u001b[39;49m\u001b[43m,\u001b[49m\u001b[43m \u001b[49m\u001b[38;5;241;43m2\u001b[39;49m\u001b[43m,\u001b[49m\u001b[43m \u001b[49m\u001b[38;5;241;43m3\u001b[39;49m\u001b[43m)\u001b[49m\n",
      "\u001b[1;31mTypeError\u001b[0m: print_n_times() takes 2 positional arguments but 3 were given"
     ]
    }
   ],
   "source": [
    "# print_n_times(value, n)함수에서 n 값을 초과해서 넣었을 때\n",
    "#TypeError: print_n_times() takes 2 positional arguments but 3 were given\n",
    "#에러 발생\n",
    "def print_n_times(value, n):\n",
    "    for i in range(n):\n",
    "        print(value)\n",
    "\n",
    "print_n_times(\"안녕하세요\", 2, 3)"
   ]
  },
  {
   "cell_type": "markdown",
   "id": "2b02cc89-a4bd-4bc2-9e9c-7314bb64cf93",
   "metadata": {},
   "source": [
    "## 가변 매개변수\n",
    "- *를 매개변수에 추가"
   ]
  },
  {
   "cell_type": "code",
   "execution_count": 40,
   "id": "3861869b-a19d-4bef-b439-bfc09dc626ed",
   "metadata": {},
   "outputs": [
    {
     "name": "stdout",
     "output_type": "stream",
     "text": [
      "a\n",
      "d, c, d\n",
      "[1, 2, 3]\n",
      "\n",
      "a\n",
      "d, c, d\n",
      "[1, 2, 3]\n",
      "\n"
     ]
    }
   ],
   "source": [
    "def print_n_times(n, *values):\n",
    "    for i in range(n):\n",
    "        for value in values:\n",
    "            print(value)\n",
    "        print()\n",
    "\n",
    "print_n_times(2, \"a\", \"d, c, d\", [1, 2, 3])"
   ]
  },
  {
   "cell_type": "code",
   "execution_count": 43,
   "id": "f2ce9dc4-ad0d-44b6-b48e-988335afacd2",
   "metadata": {},
   "outputs": [
    {
     "data": {
      "text/plain": [
       "10"
      ]
     },
     "execution_count": 43,
     "metadata": {},
     "output_type": "execute_result"
    }
   ],
   "source": [
    "def add_many(*nums):\n",
    "    result = 0\n",
    "    for num in nums:\n",
    "        result += num\n",
    "\n",
    "    return result\n",
    "\n",
    "add_many(1, 2, 3, 4)"
   ]
  },
  {
   "cell_type": "markdown",
   "id": "d4e504e3-063e-4ec9-bb90-868bf4a14e0e",
   "metadata": {},
   "source": [
    "## 키워드 매개변수 **kwargs\n",
    "- 매개변수 앞에 ** 두 개 붙인 케이스\n",
    "- **kwargs는 \"키워드 인수\"라는 의미로, 함수에 전달되는 여러 개의 이름 있는 인수들을 딕셔너리 형태로 묶어준다.\n",
    "- 이를 통해 함수가 동적으로 다양한 인수를 처리할 수 있게 됩니다."
   ]
  },
  {
   "cell_type": "code",
   "execution_count": 44,
   "id": "bdc8db6b-dace-4d6e-962e-c948e185230f",
   "metadata": {},
   "outputs": [],
   "source": [
    "def print_kwargs(**kwargs):\n",
    "\n",
    "    #이 메서드에는 return 값이 없음\n",
    "    print(kwargs) # 어떻게 출력이 될까?\n"
   ]
  },
  {
   "cell_type": "code",
   "execution_count": 45,
   "id": "11981de5-8ab1-42cf-9af8-6c275c7374db",
   "metadata": {},
   "outputs": [
    {
     "name": "stdout",
     "output_type": "stream",
     "text": [
      "{'a': 1}\n"
     ]
    }
   ],
   "source": [
    "print_kwargs(a = 1)"
   ]
  },
  {
   "cell_type": "code",
   "execution_count": 48,
   "id": "c5e9d60b-a34b-4ec6-9df9-c4ce1225a6ca",
   "metadata": {},
   "outputs": [
    {
     "name": "stdout",
     "output_type": "stream",
     "text": [
      "{'a': 2, 'b': [1, 2, 3]}\n"
     ]
    }
   ],
   "source": [
    "print_kwargs(a = 2, b = [1, 2, 3])"
   ]
  },
  {
   "cell_type": "code",
   "execution_count": 50,
   "id": "95192892-9a8e-4cfa-be26-d5b2d2b8374b",
   "metadata": {},
   "outputs": [
    {
     "name": "stdout",
     "output_type": "stream",
     "text": [
      "111\n"
     ]
    }
   ],
   "source": [
    "def test1(a, b = 10, c = 100):\n",
    "\n",
    "    # 값을 전달할 필요가 없고, 단순 확인용으로만 함수를 만들 때\n",
    "    # print() 사용\n",
    "    print(a + b+ c)\n",
    "\n",
    "test1(a = 1)"
   ]
  },
  {
   "cell_type": "code",
   "execution_count": 52,
   "id": "fbb616fb-82e9-4ac7-bdeb-9cf08092fadf",
   "metadata": {},
   "outputs": [
    {
     "data": {
      "text/plain": [
       "111"
      ]
     },
     "execution_count": 52,
     "metadata": {},
     "output_type": "execute_result"
    }
   ],
   "source": [
    "def test2(a, b = 10, c = 100):\n",
    "\n",
    "    # 값을 전달해야만 할 때는\n",
    "    # return() 사용\n",
    "    return a + b+ c\n",
    "\n",
    "result = test2(1)\n",
    "result"
   ]
  },
  {
   "cell_type": "markdown",
   "id": "93f4f640-5387-4bec-89f8-e46f92146942",
   "metadata": {},
   "source": [
    "# 목차3 - 함수와 클래스\n",
    "## 클래스를 왜 사용하는가?\n",
    "- 함수, 반복문만 적절하게 사용해도 큰 문제가 안됨\n",
    "- why?\n",
    "  + 한줄로 요약 : 자동화 / 많은 사람들이 사용할 수 있도록 배포"
   ]
  },
  {
   "cell_type": "code",
   "execution_count": 53,
   "id": "ada5d812-4c4c-406d-aacf-e54d722f3d80",
   "metadata": {},
   "outputs": [
    {
     "name": "stdout",
     "output_type": "stream",
     "text": [
      "3\n",
      "7\n"
     ]
    }
   ],
   "source": [
    "result = 0\n",
    "\n",
    "def add(num):\n",
    "    global result #전역변수\n",
    "    result += num # 결괏값에 입력값 num 더하기\n",
    "    return result \n",
    "\n",
    "print(add(3))\n",
    "print(add(4))\n"
   ]
  },
  {
   "cell_type": "code",
   "execution_count": 58,
   "id": "71c78c0d-64c5-45e9-a716-a6bed55dc430",
   "metadata": {},
   "outputs": [
    {
     "name": "stdout",
     "output_type": "stream",
     "text": [
      "3\n",
      "4\n",
      "7\n",
      "8\n"
     ]
    }
   ],
   "source": [
    "result1 = 0\n",
    "result2 = 0\n",
    "result3 = 0\n",
    "\n",
    "def add1(num):\n",
    "    global result1 #전역변수\n",
    "    result1 += num # 결괏값에 입력값 num 더하기\n",
    "    return result1 \n",
    "\n",
    "def add2(num):\n",
    "    global result2 #전역변수\n",
    "    result2 += num # 결괏값에 입력값 num 더하기\n",
    "    return result2 \n",
    "\n",
    "print(add1(3)) # 첫번째 사람\n",
    "print(add2(4)) # 두번째 사람\n",
    "\n",
    "print(add1(4)) # 첫번째 사람\n",
    "print(add2(4)) # 두번째 사람 \n"
   ]
  },
  {
   "cell_type": "markdown",
   "id": "99b905ba-0eb1-493a-be04-9a944dee3821",
   "metadata": {},
   "source": [
    "## 클래스 만들기"
   ]
  },
  {
   "cell_type": "code",
   "execution_count": 61,
   "id": "959acce5-8cb0-46bb-a0b3-40933c9ba821",
   "metadata": {},
   "outputs": [
    {
     "name": "stdout",
     "output_type": "stream",
     "text": [
      "3\n",
      "4\n",
      "5\n",
      "0\n",
      "1\n",
      "2\n"
     ]
    }
   ],
   "source": [
    "class Calculator:\n",
    "    def __init__(self):\n",
    "        self.result = 0\n",
    "\n",
    "    def add(self, num):\n",
    "        self.result += num\n",
    "        return self.result\n",
    "\n",
    "    def sub(self, num):\n",
    "        self.result -= num\n",
    "        return self.result\n",
    "\n",
    "#사용자1\n",
    "cal1 = Calculator() #사용자1\n",
    "cal2 = Calculator() #사용자2\n",
    "cal3 = Calculator() #사용자3\n",
    "\n",
    "print(cal1.add(3))\n",
    "print(cal2.add(4))\n",
    "print(cal3.add(5))\n",
    "\n",
    "print(cal1.sub(3))\n",
    "print(cal2.sub(3))\n",
    "print(cal3.sub(3))"
   ]
  },
  {
   "cell_type": "code",
   "execution_count": 59,
   "id": "0b120fa3-3f1a-4da5-a04a-f67aa643ea97",
   "metadata": {},
   "outputs": [
    {
     "name": "stdout",
     "output_type": "stream",
     "text": [
      "3\n",
      "4\n",
      "5\n"
     ]
    }
   ],
   "source": [
    "result1 = 0\n",
    "result2 = 0\n",
    "result3 = 0\n",
    "\n",
    "def add1(num):\n",
    "    global result1 #전역변수\n",
    "    result1 += num # 결괏값에 입력값 num 더하기\n",
    "    return result1 \n",
    "\n",
    "def add2(num):\n",
    "    global result2 #전역변수\n",
    "    result2 += num # 결괏값에 입력값 num 더하기\n",
    "    return result2 \n",
    "def add3(num):\n",
    "    global result3\n",
    "    result3 += num\n",
    "    return result3\n",
    "\n",
    "print(add1(3))\n",
    "print(add2(4))\n",
    "print(add3(5))"
   ]
  },
  {
   "cell_type": "code",
   "execution_count": 62,
   "id": "0aa3a8a6-982d-496c-a2df-1069ec864729",
   "metadata": {},
   "outputs": [],
   "source": [
    "class StudentGrade: #CamelCase로 이름 명명\n",
    "    pass"
   ]
  },
  {
   "cell_type": "markdown",
   "id": "208b723d-4246-403f-a40a-f5de813de0a2",
   "metadata": {},
   "source": [
    "인스턴스 이름(=변수 이름) = 클래스 이름() --> 생성자 함수"
   ]
  },
  {
   "cell_type": "code",
   "execution_count": 68,
   "id": "f77c1d88-bf5c-4b43-b9fc-323114b18d3c",
   "metadata": {},
   "outputs": [],
   "source": [
    "class Student:\n",
    "    pass\n",
    "\n",
    "# 학생을 선언합니다.\n",
    "희교 = Student() ## 하나의 의미있는 객체\n",
    "성민 = Student() ## 하나의 의미있는 객체"
   ]
  },
  {
   "cell_type": "markdown",
   "id": "582cbde0-c65e-4233-a000-442290504822",
   "metadata": {},
   "source": [
    "__init__ 이란?\n",
    "\n",
    "- Python에서 클래스의 초기화 메서드를 정의하는 데 사용됩니다.\n",
    "- 객체가 생성될 때 자동으로 호출되며, 클래스의 인스턴스 변수를 초기화하는 데 주로 사용됩니다.\n",
    "- 이 메서드는 생성자(Constructor)라고도 불립니다.\n",
    "\n",
    "__self__ 란?\n",
    "- 클래스의 인스턴스 메서드에 사용되는 첫 번째 매개변수"
   ]
  },
  {
   "cell_type": "code",
   "execution_count": 98,
   "id": "eee2c045-af52-49ad-a0eb-0d268890ef54",
   "metadata": {},
   "outputs": [],
   "source": [
    "class Student:\n",
    "    #상태(state)\n",
    "    def __init__(self, name, korean, math, english, science):\n",
    "        self.name = name\n",
    "        self.korean = korean\n",
    "        self.math = math\n",
    "        self.english = english\n",
    "        self.science = science\n",
    "        \n",
    "        \n",
    "\n",
    "    #행동(behavior)\n",
    "    def get_sum(self):\n",
    "        return self.korean + self.math + self.english + self.science\n",
    "\n",
    "    def get_average(self):\n",
    "        return self.get_sum()/4\n",
    "\n",
    "    def get_grade(self):\n",
    "        average = self.get_average()\n",
    "        \n",
    "        if average >= 90:\n",
    "            return \"A\"\n",
    "        elif average >= 80:\n",
    "            return \"B\"\n",
    "        elif average >= 70:\n",
    "            return \"C\"\n",
    "        else:\n",
    "            return \"D\"\n",
    "\n",
    "\n",
    "    # __str__ : 객체의 문자열 표현을 정의하는 특별 메서드\n",
    "    def __str__(self):\n",
    "        return \"{}\\t{}\\t{}\\t\".format(self.name, self.get_sum(), self.get_average())\n",
    "\n",
    "\n",
    "students = [\n",
    "    Student(\"윤인성\", 87, 98, 88, 95),\n",
    "    Student(\"Evan\", 50, 20, 15, 95),\n",
    "]"
   ]
  },
  {
   "cell_type": "code",
   "execution_count": 99,
   "id": "16202c59-dba1-4377-932b-9498ceef8fed",
   "metadata": {},
   "outputs": [
    {
     "data": {
      "text/plain": [
       "98"
      ]
     },
     "execution_count": 99,
     "metadata": {},
     "output_type": "execute_result"
    }
   ],
   "source": [
    "students[0].math # \"윤인성\" 학생의 수학 점수 -> 상태를 출력하는 것 "
   ]
  },
  {
   "cell_type": "code",
   "execution_count": 100,
   "id": "13f48e7d-448e-4cd1-a00b-71b27cd0f46b",
   "metadata": {},
   "outputs": [
    {
     "data": {
      "text/plain": [
       "368"
      ]
     },
     "execution_count": 100,
     "metadata": {},
     "output_type": "execute_result"
    }
   ],
   "source": [
    "students[0].get_sum()"
   ]
  },
  {
   "cell_type": "code",
   "execution_count": 101,
   "id": "60c7c7a0-c52c-44d6-86e3-837e3f646e18",
   "metadata": {},
   "outputs": [
    {
     "data": {
      "text/plain": [
       "180"
      ]
     },
     "execution_count": 101,
     "metadata": {},
     "output_type": "execute_result"
    }
   ],
   "source": [
    "students[1].get_sum()"
   ]
  },
  {
   "cell_type": "code",
   "execution_count": 102,
   "id": "97ebf0e9-7d33-4fe5-a91c-671c05e8293a",
   "metadata": {},
   "outputs": [
    {
     "data": {
      "text/plain": [
       "'A'"
      ]
     },
     "execution_count": 102,
     "metadata": {},
     "output_type": "execute_result"
    }
   ],
   "source": [
    "students[0].get_grade()"
   ]
  },
  {
   "cell_type": "code",
   "execution_count": 103,
   "id": "945552df-baae-4116-b241-b526aecd478d",
   "metadata": {},
   "outputs": [
    {
     "name": "stdout",
     "output_type": "stream",
     "text": [
      "A 368 92.0\n",
      "D 180 45.0\n"
     ]
    }
   ],
   "source": [
    "for i in range(len(students)):\n",
    "    print(students[i].get_grade(), students[i].get_sum(), students[i].get_average())"
   ]
  },
  {
   "cell_type": "markdown",
   "id": "1f53f778-6e40-4845-8e64-b7e71c6fd2b0",
   "metadata": {},
   "source": [
    "## Docsting 추가하기"
   ]
  },
  {
   "cell_type": "code",
   "execution_count": 104,
   "id": "f8ed4d05-3dfa-4f99-b762-56cbf3f869e1",
   "metadata": {},
   "outputs": [
    {
     "name": "stdout",
     "output_type": "stream",
     "text": [
      "학생 이름: 윤인성\n",
      "총점: 368\n",
      "평균: 92.0\n",
      "성적: A\n",
      "\n",
      "학생 이름: Evan\n",
      "총점: 180\n",
      "평균: 45.0\n",
      "성적: D\n",
      "\n"
     ]
    }
   ],
   "source": [
    "class Student:\n",
    "    \"\"\"\n",
    "    학생의 이름과 각 과목 점수를 저장하고 성적을 계산하는 클래스입니다.\n",
    "\n",
    "    Attributes:\n",
    "        name (str): 학생의 이름.\n",
    "        korean (int, float): 국어 점수.\n",
    "        math (int, float): 수학 점수.\n",
    "        english (int, float): 영어 점수.\n",
    "        science (int, float): 과학 점수.\n",
    "    \"\"\"\n",
    "    def __init__(self, name, korean, math, english, science):\n",
    "        \"\"\"\n",
    "        Student 클래스의 초기화 메서드.\n",
    "\n",
    "        Args:\n",
    "            name (str): 학생의 이름.\n",
    "            korean (int, float): 국어 점수.\n",
    "            math (int, float): 수학 점수.\n",
    "            english (int, float): 영어 점수.\n",
    "            science (int, float): 과학 점수.\n",
    "        \"\"\"\n",
    "        self.name = name\n",
    "        self.korean = korean\n",
    "        self.math = math\n",
    "        self.english = english\n",
    "        self.science = science\n",
    "\n",
    "    def get_sum(self):\n",
    "        \"\"\"\n",
    "        네 과목의 총합 점수를 계산합니다.\n",
    "\n",
    "        Returns:\n",
    "            int, float: 국어, 수학, 영어, 과학 점수의 총합.\n",
    "        \"\"\"\n",
    "        return self.korean + self.math + self.english + self.science\n",
    "\n",
    "    def get_average(self):\n",
    "        \"\"\"\n",
    "        네 과목의 평균 점수를 계산합니다.\n",
    "\n",
    "        Returns:\n",
    "            float: 국어, 수학, 영어, 과학 점수의 평균.\n",
    "        \"\"\"\n",
    "        return self.get_sum() / 4\n",
    "\n",
    "    def get_grade(self):\n",
    "        \"\"\"\n",
    "        평균 점수에 따른 성적을 반환합니다.\n",
    "\n",
    "        Returns:\n",
    "            str: 평균 점수에 따른 성적 ('A', 'B', 'C', 'D').\n",
    "\n",
    "        Examples:\n",
    "            >>> student = Student(\"윤인성\", 87, 98, 88, 95)\n",
    "            >>> student.get_grade()\n",
    "            'A'\n",
    "        \"\"\"\n",
    "        average = self.get_average()\n",
    "        \n",
    "        if average >= 90:\n",
    "            return \"A\"\n",
    "        elif average >= 80:\n",
    "            return \"B\"\n",
    "        elif average >= 70:\n",
    "            return \"C\"\n",
    "        else:\n",
    "            return \"D\"\n",
    "\n",
    "# 학생 목록 생성\n",
    "students = [\n",
    "    Student(\"윤인성\", 87, 98, 88, 95),\n",
    "    Student(\"Evan\", 50, 20, 15, 95),\n",
    "]\n",
    "\n",
    "# 학생별 성적 출력\n",
    "for student in students:\n",
    "    print(f\"학생 이름: {student.name}\")\n",
    "    print(f\"총점: {student.get_sum()}\")\n",
    "    print(f\"평균: {student.get_average()}\")\n",
    "    print(f\"성적: {student.get_grade()}\")\n",
    "    print()\n"
   ]
  },
  {
   "cell_type": "markdown",
   "id": "e131fbd2-561a-4c4a-887e-613dbd15dc22",
   "metadata": {},
   "source": [
    "## 인스턴스 확인\n",
    "- instance(인스턴스, 클래스)"
   ]
  },
  {
   "cell_type": "code",
   "execution_count": 105,
   "id": "948d5c98-cdbb-4dcf-8e64-3c5ba37237cc",
   "metadata": {},
   "outputs": [
    {
     "data": {
      "text/plain": [
       "True"
      ]
     },
     "execution_count": 105,
     "metadata": {},
     "output_type": "execute_result"
    }
   ],
   "source": [
    "class Student:\n",
    "    def __init__(self):\n",
    "        pass\n",
    "\n",
    "\n",
    "student = Student()\n",
    "isinstance(student, Student)"
   ]
  },
  {
   "cell_type": "code",
   "execution_count": 106,
   "id": "103861c5-15b9-4186-ba78-31232b44329b",
   "metadata": {},
   "outputs": [
    {
     "data": {
      "text/plain": [
       "False"
      ]
     },
     "execution_count": 106,
     "metadata": {},
     "output_type": "execute_result"
    }
   ],
   "source": [
    "isinstance(student, Calculator)"
   ]
  },
  {
   "cell_type": "code",
   "execution_count": 107,
   "id": "cf954ce2-f8ff-481b-995f-fb1c660e7280",
   "metadata": {},
   "outputs": [],
   "source": [
    "# 상속 문법\n",
    "class Human:\n",
    "    def __init__ (self):\n",
    "        pass\n",
    "\n",
    "\n",
    "class Student:\n",
    "    def __init__ (self):\n",
    "        pass"
   ]
  },
  {
   "cell_type": "markdown",
   "id": "b6554171-2360-4034-bf08-81bd3b78931c",
   "metadata": {},
   "source": [
    "## 상속 문법 확인\n",
    "- p.497"
   ]
  },
  {
   "cell_type": "code",
   "execution_count": 110,
   "id": "1ac79d30-78f1-4209-9829-b7c1f9d0fcde",
   "metadata": {},
   "outputs": [],
   "source": [
    "class Parent:\n",
    "    pass\n",
    "\n",
    "class Child(Parent):\n",
    "    def __init__ (self):\n",
    "        super().__init__() # 부모 즉, Parent 클래스가 가지고 있는 모든 인스턴스 및 상태와 행동을 사용할 수 있음"
   ]
  },
  {
   "cell_type": "code",
   "execution_count": null,
   "id": "20b28045-dcbb-4c3e-b4bb-78ea0b897d2f",
   "metadata": {},
   "outputs": [],
   "source": []
  }
 ],
 "metadata": {
  "kernelspec": {
   "display_name": "Python 3 (ipykernel)",
   "language": "python",
   "name": "python3"
  },
  "language_info": {
   "codemirror_mode": {
    "name": "ipython",
    "version": 3
   },
   "file_extension": ".py",
   "mimetype": "text/x-python",
   "name": "python",
   "nbconvert_exporter": "python",
   "pygments_lexer": "ipython3",
   "version": "3.11.7"
  }
 },
 "nbformat": 4,
 "nbformat_minor": 5
}
